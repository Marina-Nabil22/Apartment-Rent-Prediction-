{
  "cells": [
    {
      "cell_type": "markdown",
      "metadata": {
        "id": "view-in-github",
        "colab_type": "text"
      },
      "source": [
        "<a href=\"https://colab.research.google.com/github/Marina-Nabil22/Apartment-Rent-Prediction-/blob/main/CS_29.ipynb\" target=\"_parent\"><img src=\"https://colab.research.google.com/assets/colab-badge.svg\" alt=\"Open In Colab\"/></a>"
      ]
    },
    {
      "cell_type": "code",
      "execution_count": null,
      "metadata": {
        "colab": {
          "base_uri": "https://localhost:8080/"
        },
        "id": "pvQ7J6NYrgxX",
        "outputId": "7f428866-5f3e-4e8b-8213-747ed7491e94"
      },
      "outputs": [
        {
          "output_type": "stream",
          "name": "stdout",
          "text": [
            "Requirement already satisfied: nltk in /usr/local/lib/python3.10/dist-packages (3.8.1)\n",
            "Requirement already satisfied: click in /usr/local/lib/python3.10/dist-packages (from nltk) (8.1.7)\n",
            "Requirement already satisfied: joblib in /usr/local/lib/python3.10/dist-packages (from nltk) (1.4.2)\n",
            "Requirement already satisfied: regex>=2021.8.3 in /usr/local/lib/python3.10/dist-packages (from nltk) (2023.12.25)\n",
            "Requirement already satisfied: tqdm in /usr/local/lib/python3.10/dist-packages (from nltk) (4.66.4)\n",
            "Collecting category_encoders\n",
            "  Downloading category_encoders-2.6.3-py2.py3-none-any.whl (81 kB)\n",
            "\u001b[2K     \u001b[90m━━━━━━━━━━━━━━━━━━━━━━━━━━━━━━━━━━━━━━━━\u001b[0m \u001b[32m81.9/81.9 kB\u001b[0m \u001b[31m2.5 MB/s\u001b[0m eta \u001b[36m0:00:00\u001b[0m\n",
            "\u001b[?25hRequirement already satisfied: numpy>=1.14.0 in /usr/local/lib/python3.10/dist-packages (from category_encoders) (1.25.2)\n",
            "Requirement already satisfied: scikit-learn>=0.20.0 in /usr/local/lib/python3.10/dist-packages (from category_encoders) (1.2.2)\n",
            "Requirement already satisfied: scipy>=1.0.0 in /usr/local/lib/python3.10/dist-packages (from category_encoders) (1.11.4)\n",
            "Requirement already satisfied: statsmodels>=0.9.0 in /usr/local/lib/python3.10/dist-packages (from category_encoders) (0.14.2)\n",
            "Requirement already satisfied: pandas>=1.0.5 in /usr/local/lib/python3.10/dist-packages (from category_encoders) (2.0.3)\n",
            "Requirement already satisfied: patsy>=0.5.1 in /usr/local/lib/python3.10/dist-packages (from category_encoders) (0.5.6)\n",
            "Requirement already satisfied: python-dateutil>=2.8.2 in /usr/local/lib/python3.10/dist-packages (from pandas>=1.0.5->category_encoders) (2.8.2)\n",
            "Requirement already satisfied: pytz>=2020.1 in /usr/local/lib/python3.10/dist-packages (from pandas>=1.0.5->category_encoders) (2023.4)\n",
            "Requirement already satisfied: tzdata>=2022.1 in /usr/local/lib/python3.10/dist-packages (from pandas>=1.0.5->category_encoders) (2024.1)\n",
            "Requirement already satisfied: six in /usr/local/lib/python3.10/dist-packages (from patsy>=0.5.1->category_encoders) (1.16.0)\n",
            "Requirement already satisfied: joblib>=1.1.1 in /usr/local/lib/python3.10/dist-packages (from scikit-learn>=0.20.0->category_encoders) (1.4.2)\n",
            "Requirement already satisfied: threadpoolctl>=2.0.0 in /usr/local/lib/python3.10/dist-packages (from scikit-learn>=0.20.0->category_encoders) (3.5.0)\n",
            "Requirement already satisfied: packaging>=21.3 in /usr/local/lib/python3.10/dist-packages (from statsmodels>=0.9.0->category_encoders) (24.0)\n",
            "Installing collected packages: category_encoders\n",
            "Successfully installed category_encoders-2.6.3\n",
            "Collecting sklearn\n",
            "  Downloading sklearn-0.0.post12.tar.gz (2.6 kB)\n",
            "  \u001b[1;31merror\u001b[0m: \u001b[1msubprocess-exited-with-error\u001b[0m\n",
            "  \n",
            "  \u001b[31m×\u001b[0m \u001b[32mpython setup.py egg_info\u001b[0m did not run successfully.\n",
            "  \u001b[31m│\u001b[0m exit code: \u001b[1;36m1\u001b[0m\n",
            "  \u001b[31m╰─>\u001b[0m See above for output.\n",
            "  \n",
            "  \u001b[1;35mnote\u001b[0m: This error originates from a subprocess, and is likely not a problem with pip.\n",
            "  Preparing metadata (setup.py) ... \u001b[?25l\u001b[?25herror\n",
            "\u001b[1;31merror\u001b[0m: \u001b[1mmetadata-generation-failed\u001b[0m\n",
            "\n",
            "\u001b[31m×\u001b[0m Encountered error while generating package metadata.\n",
            "\u001b[31m╰─>\u001b[0m See above for output.\n",
            "\n",
            "\u001b[1;35mnote\u001b[0m: This is an issue with the package mentioned above, not pip.\n",
            "\u001b[1;36mhint\u001b[0m: See above for details.\n"
          ]
        }
      ],
      "source": [
        "!pip install nltk\n",
        "!pip install category_encoders\n",
        "!pip install --upgrade sklearn"
      ]
    },
    {
      "cell_type": "code",
      "execution_count": null,
      "metadata": {
        "colab": {
          "base_uri": "https://localhost:8080/"
        },
        "id": "K-DIxeX3YQxW",
        "outputId": "5ec13ca8-ee3f-4247-9eaa-74cc038e4010"
      },
      "outputs": [
        {
          "output_type": "stream",
          "name": "stderr",
          "text": [
            "[nltk_data] Downloading package wordnet to /root/nltk_data...\n",
            "[nltk_data] Downloading package punkt to /root/nltk_data...\n",
            "[nltk_data]   Unzipping tokenizers/punkt.zip.\n",
            "[nltk_data] Downloading package stopwords to /root/nltk_data...\n",
            "[nltk_data]   Unzipping corpora/stopwords.zip.\n"
          ]
        }
      ],
      "source": [
        "import pandas as pd\n",
        "import numpy as np\n",
        "import seaborn as sns\n",
        "import matplotlib.pyplot as plt\n",
        "import re\n",
        "from sklearn import linear_model\n",
        "from sklearn.linear_model import LinearRegression\n",
        "from sklearn.preprocessing import PolynomialFeatures\n",
        "\n",
        "from sklearn.model_selection import GridSearchCV\n",
        "from sklearn.model_selection import RandomizedSearchCV\n",
        "from scipy.stats import randint\n",
        "\n",
        "from sklearn.pipeline import make_pipeline\n",
        "\n",
        "from sklearn.model_selection import train_test_split\n",
        "from sklearn import metrics\n",
        "from sklearn.linear_model import LogisticRegression\n",
        "from sklearn.metrics import classification_report, confusion_matrix\n",
        "from sklearn.metrics import r2_score\n",
        "from sklearn.neighbors import KNeighborsClassifier\n",
        "from sklearn.metrics import accuracy_score\n",
        "from sklearn.preprocessing import LabelEncoder\n",
        "from category_encoders import CatBoostEncoder\n",
        "from sklearn.preprocessing import MinMaxScaler\n",
        "from sklearn.metrics import f1_score\n",
        "from sklearn.ensemble import RandomForestRegressor\n",
        "from sklearn.tree import DecisionTreeRegressor\n",
        "from sklearn.tree import export_text\n",
        "from sklearn.model_selection import cross_val_score\n",
        "\n",
        "from scipy import stats\n",
        "\n",
        "from geopy.geocoders import Nominatim\n",
        "from geopy.exc import GeocoderTimedOut\n",
        "\n",
        "import nltk\n",
        "from nltk import download\n",
        "from nltk.corpus import stopwords\n",
        "from nltk.tokenize import word_tokenize\n",
        "from sklearn.feature_extraction.text import TfidfVectorizer\n",
        "nltk.download('wordnet')\n",
        "download('punkt')\n",
        "nltk.download(\"stopwords\")\n",
        "\n",
        "import pickle"
      ]
    },
    {
      "cell_type": "code",
      "execution_count": null,
      "metadata": {
        "id": "yICBarAAf5Zo"
      },
      "outputs": [],
      "source": [
        "#data = pd.read_csv('ApartmentRentPrediction.csv')\n",
        "data = pd.read_csv('updatedApartmentRentPrediction.csv')"
      ]
    },
    {
      "cell_type": "code",
      "execution_count": null,
      "metadata": {
        "id": "nTM9L1dlYzAA"
      },
      "outputs": [],
      "source": [
        "# data['price_display'] = data['price_display'].str.replace('[^\\d]', '', regex=True)\n",
        "\n",
        "# data['price_display'] = pd.to_numeric(data['price_display'], errors='coerce')\n",
        "\n",
        "# data['price_display'].fillna(0, inplace=True)\n",
        "\n",
        "# data['price_display'] = data['price_display'].astype(int)\n",
        "\n"
      ]
    },
    {
      "cell_type": "code",
      "execution_count": null,
      "metadata": {
        "id": "Rj17P3O8CjgG"
      },
      "outputs": [],
      "source": [
        "# print(data['price_display'])\n",
        "# print(data['price'])"
      ]
    },
    {
      "cell_type": "code",
      "execution_count": null,
      "metadata": {
        "id": "-fPsd6C2A023"
      },
      "outputs": [],
      "source": [
        "# print(data['price_display'].value_counts())\n",
        "# print(data.head())"
      ]
    },
    {
      "cell_type": "code",
      "source": [
        "data = data.drop('price', axis=1)\n",
        "X = data.drop('price_display', axis=1)\n",
        "Y = data['price_display']\n",
        "\n",
        "#data.info()"
      ],
      "metadata": {
        "id": "64cVEeZIej2k"
      },
      "execution_count": null,
      "outputs": []
    },
    {
      "cell_type": "code",
      "source": [
        "X_train, X_test, y_train, y_test = train_test_split(X, Y, test_size=0.20, shuffle=True, random_state=10)"
      ],
      "metadata": {
        "id": "wULVjV1YRNzQ"
      },
      "execution_count": null,
      "outputs": []
    },
    {
      "cell_type": "code",
      "source": [
        "# Print training data and information\n",
        "print(\"X_train info:\")\n",
        "print(X_train.info())\n",
        "# print(\"X_test info:\")\n",
        "# print(X_test.info())"
      ],
      "metadata": {
        "id": "oHZfN3-9RQW0",
        "colab": {
          "base_uri": "https://localhost:8080/"
        },
        "outputId": "195879c7-57f7-4fd1-f50b-a0bcdeb2c616"
      },
      "execution_count": null,
      "outputs": [
        {
          "output_type": "stream",
          "name": "stdout",
          "text": [
            "X_train info:\n",
            "<class 'pandas.core.frame.DataFrame'>\n",
            "Index: 7200 entries, 5250 to 1289\n",
            "Data columns (total 20 columns):\n",
            " #   Column        Non-Null Count  Dtype  \n",
            "---  ------        --------------  -----  \n",
            " 0   id            7200 non-null   int64  \n",
            " 1   category      7200 non-null   object \n",
            " 2   title         7200 non-null   object \n",
            " 3   body          7200 non-null   object \n",
            " 4   amenities     7200 non-null   object \n",
            " 5   bathrooms     7200 non-null   int64  \n",
            " 6   bedrooms      7200 non-null   int64  \n",
            " 7   currency      7200 non-null   object \n",
            " 8   fee           7200 non-null   object \n",
            " 9   has_photo     7200 non-null   object \n",
            " 10  pets_allowed  7200 non-null   object \n",
            " 11  price_type    7200 non-null   object \n",
            " 12  square_feet   7200 non-null   int64  \n",
            " 13  address       7200 non-null   object \n",
            " 14  cityname      7200 non-null   object \n",
            " 15  state         7200 non-null   object \n",
            " 16  latitude      7200 non-null   float64\n",
            " 17  longitude     7200 non-null   float64\n",
            " 18  source        7200 non-null   object \n",
            " 19  time          7200 non-null   int64  \n",
            "dtypes: float64(2), int64(5), object(13)\n",
            "memory usage: 1.2+ MB\n",
            "None\n"
          ]
        }
      ]
    },
    {
      "cell_type": "code",
      "source": [
        "y_train.info()"
      ],
      "metadata": {
        "colab": {
          "base_uri": "https://localhost:8080/"
        },
        "id": "tSNhT3IQ1sMX",
        "outputId": "e606583b-1918-4af7-c1f6-65ac0fad1db9"
      },
      "execution_count": null,
      "outputs": [
        {
          "output_type": "stream",
          "name": "stdout",
          "text": [
            "<class 'pandas.core.series.Series'>\n",
            "Index: 7200 entries, 5250 to 1289\n",
            "Series name: price_display\n",
            "Non-Null Count  Dtype \n",
            "--------------  ----- \n",
            "7200 non-null   object\n",
            "dtypes: object(1)\n",
            "memory usage: 112.5+ KB\n"
          ]
        }
      ]
    },
    {
      "cell_type": "code",
      "source": [
        "y_train = y_train.str.replace('[^\\d]', '', regex=True)\n",
        "\n",
        "y_train= pd.to_numeric(y_train, errors='coerce')\n",
        "\n",
        "y_train.fillna(0, inplace=True)\n",
        "\n",
        "y_train = y_train.astype(int)"
      ],
      "metadata": {
        "id": "S_UDOiLdKcI1"
      },
      "execution_count": null,
      "outputs": []
    },
    {
      "cell_type": "code",
      "source": [
        "y_train.info()"
      ],
      "metadata": {
        "colab": {
          "base_uri": "https://localhost:8080/"
        },
        "id": "Em0tNv7_1u7s",
        "outputId": "2a7d9eb3-55b4-49ca-b90f-f801ec09095a"
      },
      "execution_count": null,
      "outputs": [
        {
          "output_type": "stream",
          "name": "stdout",
          "text": [
            "<class 'pandas.core.series.Series'>\n",
            "Index: 7200 entries, 5250 to 1289\n",
            "Series name: price_display\n",
            "Non-Null Count  Dtype\n",
            "--------------  -----\n",
            "7200 non-null   int64\n",
            "dtypes: int64(1)\n",
            "memory usage: 112.5 KB\n"
          ]
        }
      ]
    },
    {
      "cell_type": "code",
      "execution_count": null,
      "metadata": {
        "colab": {
          "base_uri": "https://localhost:8080/",
          "height": 300
        },
        "id": "yunb1_b1gMJ2",
        "outputId": "f972cfae-aa2b-4ac6-d491-0aae6cedc65d"
      },
      "outputs": [
        {
          "output_type": "execute_result",
          "data": {
            "text/plain": [
              "                 id    bathrooms     bedrooms   square_feet     latitude  \\\n",
              "count  7.200000e+03  7200.000000  7200.000000   7200.000000  7200.000000   \n",
              "mean   5.623454e+09     1.345556     1.345556    947.807500    37.663587   \n",
              "std    7.020093e+07     0.578863     0.578863    700.737961     5.502537   \n",
              "min    5.508655e+09     1.000000     1.000000    106.000000    21.315500   \n",
              "25%    5.509248e+09     1.000000     1.000000    650.000000    33.630000   \n",
              "50%    5.668610e+09     1.000000     1.000000    802.000000    38.740600   \n",
              "75%    5.668627e+09     2.000000     2.000000   1100.000000    41.257975   \n",
              "max    5.668663e+09     8.000000     8.000000  40000.000000    61.594000   \n",
              "\n",
              "         longitude          time  \n",
              "count  7200.000000  7.200000e+03  \n",
              "mean    -94.836046  1.574895e+09  \n",
              "std      15.724228  3.762102e+06  \n",
              "min    -158.022100  1.568744e+09  \n",
              "25%    -101.890400  1.568781e+09  \n",
              "50%     -93.938300  1.577358e+09  \n",
              "75%     -82.479200  1.577359e+09  \n",
              "max     -70.191600  1.577362e+09  "
            ],
            "text/html": [
              "\n",
              "  <div id=\"df-d576c83f-2c01-4396-9acc-bf384d432c68\" class=\"colab-df-container\">\n",
              "    <div>\n",
              "<style scoped>\n",
              "    .dataframe tbody tr th:only-of-type {\n",
              "        vertical-align: middle;\n",
              "    }\n",
              "\n",
              "    .dataframe tbody tr th {\n",
              "        vertical-align: top;\n",
              "    }\n",
              "\n",
              "    .dataframe thead th {\n",
              "        text-align: right;\n",
              "    }\n",
              "</style>\n",
              "<table border=\"1\" class=\"dataframe\">\n",
              "  <thead>\n",
              "    <tr style=\"text-align: right;\">\n",
              "      <th></th>\n",
              "      <th>id</th>\n",
              "      <th>bathrooms</th>\n",
              "      <th>bedrooms</th>\n",
              "      <th>square_feet</th>\n",
              "      <th>latitude</th>\n",
              "      <th>longitude</th>\n",
              "      <th>time</th>\n",
              "    </tr>\n",
              "  </thead>\n",
              "  <tbody>\n",
              "    <tr>\n",
              "      <th>count</th>\n",
              "      <td>7.200000e+03</td>\n",
              "      <td>7200.000000</td>\n",
              "      <td>7200.000000</td>\n",
              "      <td>7200.000000</td>\n",
              "      <td>7200.000000</td>\n",
              "      <td>7200.000000</td>\n",
              "      <td>7.200000e+03</td>\n",
              "    </tr>\n",
              "    <tr>\n",
              "      <th>mean</th>\n",
              "      <td>5.623454e+09</td>\n",
              "      <td>1.345556</td>\n",
              "      <td>1.345556</td>\n",
              "      <td>947.807500</td>\n",
              "      <td>37.663587</td>\n",
              "      <td>-94.836046</td>\n",
              "      <td>1.574895e+09</td>\n",
              "    </tr>\n",
              "    <tr>\n",
              "      <th>std</th>\n",
              "      <td>7.020093e+07</td>\n",
              "      <td>0.578863</td>\n",
              "      <td>0.578863</td>\n",
              "      <td>700.737961</td>\n",
              "      <td>5.502537</td>\n",
              "      <td>15.724228</td>\n",
              "      <td>3.762102e+06</td>\n",
              "    </tr>\n",
              "    <tr>\n",
              "      <th>min</th>\n",
              "      <td>5.508655e+09</td>\n",
              "      <td>1.000000</td>\n",
              "      <td>1.000000</td>\n",
              "      <td>106.000000</td>\n",
              "      <td>21.315500</td>\n",
              "      <td>-158.022100</td>\n",
              "      <td>1.568744e+09</td>\n",
              "    </tr>\n",
              "    <tr>\n",
              "      <th>25%</th>\n",
              "      <td>5.509248e+09</td>\n",
              "      <td>1.000000</td>\n",
              "      <td>1.000000</td>\n",
              "      <td>650.000000</td>\n",
              "      <td>33.630000</td>\n",
              "      <td>-101.890400</td>\n",
              "      <td>1.568781e+09</td>\n",
              "    </tr>\n",
              "    <tr>\n",
              "      <th>50%</th>\n",
              "      <td>5.668610e+09</td>\n",
              "      <td>1.000000</td>\n",
              "      <td>1.000000</td>\n",
              "      <td>802.000000</td>\n",
              "      <td>38.740600</td>\n",
              "      <td>-93.938300</td>\n",
              "      <td>1.577358e+09</td>\n",
              "    </tr>\n",
              "    <tr>\n",
              "      <th>75%</th>\n",
              "      <td>5.668627e+09</td>\n",
              "      <td>2.000000</td>\n",
              "      <td>2.000000</td>\n",
              "      <td>1100.000000</td>\n",
              "      <td>41.257975</td>\n",
              "      <td>-82.479200</td>\n",
              "      <td>1.577359e+09</td>\n",
              "    </tr>\n",
              "    <tr>\n",
              "      <th>max</th>\n",
              "      <td>5.668663e+09</td>\n",
              "      <td>8.000000</td>\n",
              "      <td>8.000000</td>\n",
              "      <td>40000.000000</td>\n",
              "      <td>61.594000</td>\n",
              "      <td>-70.191600</td>\n",
              "      <td>1.577362e+09</td>\n",
              "    </tr>\n",
              "  </tbody>\n",
              "</table>\n",
              "</div>\n",
              "    <div class=\"colab-df-buttons\">\n",
              "\n",
              "  <div class=\"colab-df-container\">\n",
              "    <button class=\"colab-df-convert\" onclick=\"convertToInteractive('df-d576c83f-2c01-4396-9acc-bf384d432c68')\"\n",
              "            title=\"Convert this dataframe to an interactive table.\"\n",
              "            style=\"display:none;\">\n",
              "\n",
              "  <svg xmlns=\"http://www.w3.org/2000/svg\" height=\"24px\" viewBox=\"0 -960 960 960\">\n",
              "    <path d=\"M120-120v-720h720v720H120Zm60-500h600v-160H180v160Zm220 220h160v-160H400v160Zm0 220h160v-160H400v160ZM180-400h160v-160H180v160Zm440 0h160v-160H620v160ZM180-180h160v-160H180v160Zm440 0h160v-160H620v160Z\"/>\n",
              "  </svg>\n",
              "    </button>\n",
              "\n",
              "  <style>\n",
              "    .colab-df-container {\n",
              "      display:flex;\n",
              "      gap: 12px;\n",
              "    }\n",
              "\n",
              "    .colab-df-convert {\n",
              "      background-color: #E8F0FE;\n",
              "      border: none;\n",
              "      border-radius: 50%;\n",
              "      cursor: pointer;\n",
              "      display: none;\n",
              "      fill: #1967D2;\n",
              "      height: 32px;\n",
              "      padding: 0 0 0 0;\n",
              "      width: 32px;\n",
              "    }\n",
              "\n",
              "    .colab-df-convert:hover {\n",
              "      background-color: #E2EBFA;\n",
              "      box-shadow: 0px 1px 2px rgba(60, 64, 67, 0.3), 0px 1px 3px 1px rgba(60, 64, 67, 0.15);\n",
              "      fill: #174EA6;\n",
              "    }\n",
              "\n",
              "    .colab-df-buttons div {\n",
              "      margin-bottom: 4px;\n",
              "    }\n",
              "\n",
              "    [theme=dark] .colab-df-convert {\n",
              "      background-color: #3B4455;\n",
              "      fill: #D2E3FC;\n",
              "    }\n",
              "\n",
              "    [theme=dark] .colab-df-convert:hover {\n",
              "      background-color: #434B5C;\n",
              "      box-shadow: 0px 1px 3px 1px rgba(0, 0, 0, 0.15);\n",
              "      filter: drop-shadow(0px 1px 2px rgba(0, 0, 0, 0.3));\n",
              "      fill: #FFFFFF;\n",
              "    }\n",
              "  </style>\n",
              "\n",
              "    <script>\n",
              "      const buttonEl =\n",
              "        document.querySelector('#df-d576c83f-2c01-4396-9acc-bf384d432c68 button.colab-df-convert');\n",
              "      buttonEl.style.display =\n",
              "        google.colab.kernel.accessAllowed ? 'block' : 'none';\n",
              "\n",
              "      async function convertToInteractive(key) {\n",
              "        const element = document.querySelector('#df-d576c83f-2c01-4396-9acc-bf384d432c68');\n",
              "        const dataTable =\n",
              "          await google.colab.kernel.invokeFunction('convertToInteractive',\n",
              "                                                    [key], {});\n",
              "        if (!dataTable) return;\n",
              "\n",
              "        const docLinkHtml = 'Like what you see? Visit the ' +\n",
              "          '<a target=\"_blank\" href=https://colab.research.google.com/notebooks/data_table.ipynb>data table notebook</a>'\n",
              "          + ' to learn more about interactive tables.';\n",
              "        element.innerHTML = '';\n",
              "        dataTable['output_type'] = 'display_data';\n",
              "        await google.colab.output.renderOutput(dataTable, element);\n",
              "        const docLink = document.createElement('div');\n",
              "        docLink.innerHTML = docLinkHtml;\n",
              "        element.appendChild(docLink);\n",
              "      }\n",
              "    </script>\n",
              "  </div>\n",
              "\n",
              "\n",
              "<div id=\"df-ee724b97-53a8-4839-a0e0-e816573f15cd\">\n",
              "  <button class=\"colab-df-quickchart\" onclick=\"quickchart('df-ee724b97-53a8-4839-a0e0-e816573f15cd')\"\n",
              "            title=\"Suggest charts\"\n",
              "            style=\"display:none;\">\n",
              "\n",
              "<svg xmlns=\"http://www.w3.org/2000/svg\" height=\"24px\"viewBox=\"0 0 24 24\"\n",
              "     width=\"24px\">\n",
              "    <g>\n",
              "        <path d=\"M19 3H5c-1.1 0-2 .9-2 2v14c0 1.1.9 2 2 2h14c1.1 0 2-.9 2-2V5c0-1.1-.9-2-2-2zM9 17H7v-7h2v7zm4 0h-2V7h2v10zm4 0h-2v-4h2v4z\"/>\n",
              "    </g>\n",
              "</svg>\n",
              "  </button>\n",
              "\n",
              "<style>\n",
              "  .colab-df-quickchart {\n",
              "      --bg-color: #E8F0FE;\n",
              "      --fill-color: #1967D2;\n",
              "      --hover-bg-color: #E2EBFA;\n",
              "      --hover-fill-color: #174EA6;\n",
              "      --disabled-fill-color: #AAA;\n",
              "      --disabled-bg-color: #DDD;\n",
              "  }\n",
              "\n",
              "  [theme=dark] .colab-df-quickchart {\n",
              "      --bg-color: #3B4455;\n",
              "      --fill-color: #D2E3FC;\n",
              "      --hover-bg-color: #434B5C;\n",
              "      --hover-fill-color: #FFFFFF;\n",
              "      --disabled-bg-color: #3B4455;\n",
              "      --disabled-fill-color: #666;\n",
              "  }\n",
              "\n",
              "  .colab-df-quickchart {\n",
              "    background-color: var(--bg-color);\n",
              "    border: none;\n",
              "    border-radius: 50%;\n",
              "    cursor: pointer;\n",
              "    display: none;\n",
              "    fill: var(--fill-color);\n",
              "    height: 32px;\n",
              "    padding: 0;\n",
              "    width: 32px;\n",
              "  }\n",
              "\n",
              "  .colab-df-quickchart:hover {\n",
              "    background-color: var(--hover-bg-color);\n",
              "    box-shadow: 0 1px 2px rgba(60, 64, 67, 0.3), 0 1px 3px 1px rgba(60, 64, 67, 0.15);\n",
              "    fill: var(--button-hover-fill-color);\n",
              "  }\n",
              "\n",
              "  .colab-df-quickchart-complete:disabled,\n",
              "  .colab-df-quickchart-complete:disabled:hover {\n",
              "    background-color: var(--disabled-bg-color);\n",
              "    fill: var(--disabled-fill-color);\n",
              "    box-shadow: none;\n",
              "  }\n",
              "\n",
              "  .colab-df-spinner {\n",
              "    border: 2px solid var(--fill-color);\n",
              "    border-color: transparent;\n",
              "    border-bottom-color: var(--fill-color);\n",
              "    animation:\n",
              "      spin 1s steps(1) infinite;\n",
              "  }\n",
              "\n",
              "  @keyframes spin {\n",
              "    0% {\n",
              "      border-color: transparent;\n",
              "      border-bottom-color: var(--fill-color);\n",
              "      border-left-color: var(--fill-color);\n",
              "    }\n",
              "    20% {\n",
              "      border-color: transparent;\n",
              "      border-left-color: var(--fill-color);\n",
              "      border-top-color: var(--fill-color);\n",
              "    }\n",
              "    30% {\n",
              "      border-color: transparent;\n",
              "      border-left-color: var(--fill-color);\n",
              "      border-top-color: var(--fill-color);\n",
              "      border-right-color: var(--fill-color);\n",
              "    }\n",
              "    40% {\n",
              "      border-color: transparent;\n",
              "      border-right-color: var(--fill-color);\n",
              "      border-top-color: var(--fill-color);\n",
              "    }\n",
              "    60% {\n",
              "      border-color: transparent;\n",
              "      border-right-color: var(--fill-color);\n",
              "    }\n",
              "    80% {\n",
              "      border-color: transparent;\n",
              "      border-right-color: var(--fill-color);\n",
              "      border-bottom-color: var(--fill-color);\n",
              "    }\n",
              "    90% {\n",
              "      border-color: transparent;\n",
              "      border-bottom-color: var(--fill-color);\n",
              "    }\n",
              "  }\n",
              "</style>\n",
              "\n",
              "  <script>\n",
              "    async function quickchart(key) {\n",
              "      const quickchartButtonEl =\n",
              "        document.querySelector('#' + key + ' button');\n",
              "      quickchartButtonEl.disabled = true;  // To prevent multiple clicks.\n",
              "      quickchartButtonEl.classList.add('colab-df-spinner');\n",
              "      try {\n",
              "        const charts = await google.colab.kernel.invokeFunction(\n",
              "            'suggestCharts', [key], {});\n",
              "      } catch (error) {\n",
              "        console.error('Error during call to suggestCharts:', error);\n",
              "      }\n",
              "      quickchartButtonEl.classList.remove('colab-df-spinner');\n",
              "      quickchartButtonEl.classList.add('colab-df-quickchart-complete');\n",
              "    }\n",
              "    (() => {\n",
              "      let quickchartButtonEl =\n",
              "        document.querySelector('#df-ee724b97-53a8-4839-a0e0-e816573f15cd button');\n",
              "      quickchartButtonEl.style.display =\n",
              "        google.colab.kernel.accessAllowed ? 'block' : 'none';\n",
              "    })();\n",
              "  </script>\n",
              "</div>\n",
              "\n",
              "    </div>\n",
              "  </div>\n"
            ],
            "application/vnd.google.colaboratory.intrinsic+json": {
              "type": "dataframe",
              "summary": "{\n  \"name\": \"X_train\",\n  \"rows\": 8,\n  \"fields\": [\n    {\n      \"column\": \"id\",\n      \"properties\": {\n        \"dtype\": \"number\",\n        \"std\": 2580615507.4765153,\n        \"min\": 7200.0,\n        \"max\": 5668662559.0,\n        \"num_unique_values\": 8,\n        \"samples\": [\n          5623454231.940139,\n          5668609994.5,\n          7200.0\n        ],\n        \"semantic_type\": \"\",\n        \"description\": \"\"\n      }\n    },\n    {\n      \"column\": \"bathrooms\",\n      \"properties\": {\n        \"dtype\": \"number\",\n        \"std\": 2544.8317752419275,\n        \"min\": 0.5788629731493098,\n        \"max\": 7200.0,\n        \"num_unique_values\": 6,\n        \"samples\": [\n          7200.0,\n          1.3455555555555556,\n          8.0\n        ],\n        \"semantic_type\": \"\",\n        \"description\": \"\"\n      }\n    },\n    {\n      \"column\": \"bedrooms\",\n      \"properties\": {\n        \"dtype\": \"number\",\n        \"std\": 2544.8317752419275,\n        \"min\": 0.5788629731493098,\n        \"max\": 7200.0,\n        \"num_unique_values\": 6,\n        \"samples\": [\n          7200.0,\n          1.3455555555555556,\n          8.0\n        ],\n        \"semantic_type\": \"\",\n        \"description\": \"\"\n      }\n    },\n    {\n      \"column\": \"square_feet\",\n      \"properties\": {\n        \"dtype\": \"number\",\n        \"std\": 13752.406462583282,\n        \"min\": 106.0,\n        \"max\": 40000.0,\n        \"num_unique_values\": 8,\n        \"samples\": [\n          947.8075,\n          802.0,\n          7200.0\n        ],\n        \"semantic_type\": \"\",\n        \"description\": \"\"\n      }\n    },\n    {\n      \"column\": \"latitude\",\n      \"properties\": {\n        \"dtype\": \"number\",\n        \"std\": 2533.5289111411716,\n        \"min\": 5.502536737635174,\n        \"max\": 7200.0,\n        \"num_unique_values\": 8,\n        \"samples\": [\n          37.66358747936203,\n          38.7406,\n          7200.0\n        ],\n        \"semantic_type\": \"\",\n        \"description\": \"\"\n      }\n    },\n    {\n      \"column\": \"longitude\",\n      \"properties\": {\n        \"dtype\": \"number\",\n        \"std\": 2575.611361249184,\n        \"min\": -158.0221,\n        \"max\": 7200.0,\n        \"num_unique_values\": 8,\n        \"samples\": [\n          -94.83604648084774,\n          -93.9383,\n          7200.0\n        ],\n        \"semantic_type\": \"\",\n        \"description\": \"\"\n      }\n    },\n    {\n      \"column\": \"time\",\n      \"properties\": {\n        \"dtype\": \"number\",\n        \"std\": 727796043.9195557,\n        \"min\": 7200.0,\n        \"max\": 1577362186.0,\n        \"num_unique_values\": 8,\n        \"samples\": [\n          1574895235.9344444,\n          1577358298.5,\n          7200.0\n        ],\n        \"semantic_type\": \"\",\n        \"description\": \"\"\n      }\n    }\n  ]\n}"
            }
          },
          "metadata": {},
          "execution_count": 17
        }
      ],
      "source": [
        "X_train.describe()"
      ]
    },
    {
      "cell_type": "code",
      "execution_count": null,
      "metadata": {
        "colab": {
          "base_uri": "https://localhost:8080/",
          "height": 590
        },
        "id": "edATs57mgPMV",
        "outputId": "0d73fbee-069a-403f-e0ff-8ec166320445"
      },
      "outputs": [
        {
          "output_type": "execute_result",
          "data": {
            "text/plain": [
              "              id                category  \\\n",
              "5250  5664597463  housing/rent/apartment   \n",
              "7173  5668619766  housing/rent/apartment   \n",
              "2661  5664579882  housing/rent/apartment   \n",
              "5018  5668613635  housing/rent/apartment   \n",
              "3969  5668618795  housing/rent/apartment   \n",
              "\n",
              "                                                title  \\\n",
              "5250  Studio apartment Elmont Dr. and Tinnin Ford Rd.   \n",
              "7173                               Five BR 304 W 14th   \n",
              "2661                         One BR 324 S. 2nd Street   \n",
              "5018                         One BR 1925 Monroe Drive   \n",
              "3969           Studio apartment 5525 Ellsworth Avenue   \n",
              "\n",
              "                                                   body  \\\n",
              "5250  This unit is located at Elmont Dr. and Tinnin ...   \n",
              "7173  This unit is located at 304 W 14th, Bloomingto...   \n",
              "2661  This unit is located at 324 S. second Street, ...   \n",
              "5018  This unit is located at 1925 Monroe Drive, Atl...   \n",
              "3969  This unit is located at 5525 Ellsworth Avenue,...   \n",
              "\n",
              "                                              amenities  bathrooms  bedrooms  \\\n",
              "5250                                               none          1         1   \n",
              "7173            Dishwasher,Parking,Refrigerator,Storage          3         3   \n",
              "2661  Cable or Satellite,Clubhouse,Dishwasher,Garbag...          1         1   \n",
              "5018                                       Parking,Pool          1         1   \n",
              "3969                               Parking,Refrigerator          1         1   \n",
              "\n",
              "     currency fee  has_photo pets_allowed price_type  square_feet  \\\n",
              "5250      USD  No  Thumbnail    Cats,Dogs    Monthly          516   \n",
              "7173      USD  No  Thumbnail         none    Monthly         1850   \n",
              "2661      USD  No  Thumbnail         Dogs    Monthly          556   \n",
              "5018      USD  No  Thumbnail    Cats,Dogs    Monthly          675   \n",
              "3969      USD  No  Thumbnail         Cats    Monthly          410   \n",
              "\n",
              "                                                address     cityname state  \\\n",
              "5250  3409, Mills Avenue, Bryker Woods, Austin, Trav...       Austin    TX   \n",
              "7173                                         304 W 14th  Bloomington    IN   \n",
              "2661                                       324 S 2nd St    Milwaukee    WI   \n",
              "5018                                     1925 Monroe Dr      Atlanta    GA   \n",
              "3969                                 5525 Ellsworth Ave   Pittsburgh    PA   \n",
              "\n",
              "      latitude  longitude     source        time  \n",
              "5250   30.3054   -97.7497  RentLingo  1577017086  \n",
              "7173   39.1471   -86.5136  RentLingo  1577358951  \n",
              "2661   43.0531   -87.9659  RentLingo  1577015783  \n",
              "5018   33.8077   -84.3753  RentLingo  1577358546  \n",
              "3969   40.4448   -79.9725  RentLingo  1577358882  "
            ],
            "text/html": [
              "\n",
              "  <div id=\"df-5b8e7ae7-58d2-46cd-b0d7-5203e3bd1b1a\" class=\"colab-df-container\">\n",
              "    <div>\n",
              "<style scoped>\n",
              "    .dataframe tbody tr th:only-of-type {\n",
              "        vertical-align: middle;\n",
              "    }\n",
              "\n",
              "    .dataframe tbody tr th {\n",
              "        vertical-align: top;\n",
              "    }\n",
              "\n",
              "    .dataframe thead th {\n",
              "        text-align: right;\n",
              "    }\n",
              "</style>\n",
              "<table border=\"1\" class=\"dataframe\">\n",
              "  <thead>\n",
              "    <tr style=\"text-align: right;\">\n",
              "      <th></th>\n",
              "      <th>id</th>\n",
              "      <th>category</th>\n",
              "      <th>title</th>\n",
              "      <th>body</th>\n",
              "      <th>amenities</th>\n",
              "      <th>bathrooms</th>\n",
              "      <th>bedrooms</th>\n",
              "      <th>currency</th>\n",
              "      <th>fee</th>\n",
              "      <th>has_photo</th>\n",
              "      <th>pets_allowed</th>\n",
              "      <th>price_type</th>\n",
              "      <th>square_feet</th>\n",
              "      <th>address</th>\n",
              "      <th>cityname</th>\n",
              "      <th>state</th>\n",
              "      <th>latitude</th>\n",
              "      <th>longitude</th>\n",
              "      <th>source</th>\n",
              "      <th>time</th>\n",
              "    </tr>\n",
              "  </thead>\n",
              "  <tbody>\n",
              "    <tr>\n",
              "      <th>5250</th>\n",
              "      <td>5664597463</td>\n",
              "      <td>housing/rent/apartment</td>\n",
              "      <td>Studio apartment Elmont Dr. and Tinnin Ford Rd.</td>\n",
              "      <td>This unit is located at Elmont Dr. and Tinnin ...</td>\n",
              "      <td>none</td>\n",
              "      <td>1</td>\n",
              "      <td>1</td>\n",
              "      <td>USD</td>\n",
              "      <td>No</td>\n",
              "      <td>Thumbnail</td>\n",
              "      <td>Cats,Dogs</td>\n",
              "      <td>Monthly</td>\n",
              "      <td>516</td>\n",
              "      <td>3409, Mills Avenue, Bryker Woods, Austin, Trav...</td>\n",
              "      <td>Austin</td>\n",
              "      <td>TX</td>\n",
              "      <td>30.3054</td>\n",
              "      <td>-97.7497</td>\n",
              "      <td>RentLingo</td>\n",
              "      <td>1577017086</td>\n",
              "    </tr>\n",
              "    <tr>\n",
              "      <th>7173</th>\n",
              "      <td>5668619766</td>\n",
              "      <td>housing/rent/apartment</td>\n",
              "      <td>Five BR 304 W 14th</td>\n",
              "      <td>This unit is located at 304 W 14th, Bloomingto...</td>\n",
              "      <td>Dishwasher,Parking,Refrigerator,Storage</td>\n",
              "      <td>3</td>\n",
              "      <td>3</td>\n",
              "      <td>USD</td>\n",
              "      <td>No</td>\n",
              "      <td>Thumbnail</td>\n",
              "      <td>none</td>\n",
              "      <td>Monthly</td>\n",
              "      <td>1850</td>\n",
              "      <td>304 W 14th</td>\n",
              "      <td>Bloomington</td>\n",
              "      <td>IN</td>\n",
              "      <td>39.1471</td>\n",
              "      <td>-86.5136</td>\n",
              "      <td>RentLingo</td>\n",
              "      <td>1577358951</td>\n",
              "    </tr>\n",
              "    <tr>\n",
              "      <th>2661</th>\n",
              "      <td>5664579882</td>\n",
              "      <td>housing/rent/apartment</td>\n",
              "      <td>One BR 324 S. 2nd Street</td>\n",
              "      <td>This unit is located at 324 S. second Street, ...</td>\n",
              "      <td>Cable or Satellite,Clubhouse,Dishwasher,Garbag...</td>\n",
              "      <td>1</td>\n",
              "      <td>1</td>\n",
              "      <td>USD</td>\n",
              "      <td>No</td>\n",
              "      <td>Thumbnail</td>\n",
              "      <td>Dogs</td>\n",
              "      <td>Monthly</td>\n",
              "      <td>556</td>\n",
              "      <td>324 S 2nd St</td>\n",
              "      <td>Milwaukee</td>\n",
              "      <td>WI</td>\n",
              "      <td>43.0531</td>\n",
              "      <td>-87.9659</td>\n",
              "      <td>RentLingo</td>\n",
              "      <td>1577015783</td>\n",
              "    </tr>\n",
              "    <tr>\n",
              "      <th>5018</th>\n",
              "      <td>5668613635</td>\n",
              "      <td>housing/rent/apartment</td>\n",
              "      <td>One BR 1925 Monroe Drive</td>\n",
              "      <td>This unit is located at 1925 Monroe Drive, Atl...</td>\n",
              "      <td>Parking,Pool</td>\n",
              "      <td>1</td>\n",
              "      <td>1</td>\n",
              "      <td>USD</td>\n",
              "      <td>No</td>\n",
              "      <td>Thumbnail</td>\n",
              "      <td>Cats,Dogs</td>\n",
              "      <td>Monthly</td>\n",
              "      <td>675</td>\n",
              "      <td>1925 Monroe Dr</td>\n",
              "      <td>Atlanta</td>\n",
              "      <td>GA</td>\n",
              "      <td>33.8077</td>\n",
              "      <td>-84.3753</td>\n",
              "      <td>RentLingo</td>\n",
              "      <td>1577358546</td>\n",
              "    </tr>\n",
              "    <tr>\n",
              "      <th>3969</th>\n",
              "      <td>5668618795</td>\n",
              "      <td>housing/rent/apartment</td>\n",
              "      <td>Studio apartment 5525 Ellsworth Avenue</td>\n",
              "      <td>This unit is located at 5525 Ellsworth Avenue,...</td>\n",
              "      <td>Parking,Refrigerator</td>\n",
              "      <td>1</td>\n",
              "      <td>1</td>\n",
              "      <td>USD</td>\n",
              "      <td>No</td>\n",
              "      <td>Thumbnail</td>\n",
              "      <td>Cats</td>\n",
              "      <td>Monthly</td>\n",
              "      <td>410</td>\n",
              "      <td>5525 Ellsworth Ave</td>\n",
              "      <td>Pittsburgh</td>\n",
              "      <td>PA</td>\n",
              "      <td>40.4448</td>\n",
              "      <td>-79.9725</td>\n",
              "      <td>RentLingo</td>\n",
              "      <td>1577358882</td>\n",
              "    </tr>\n",
              "  </tbody>\n",
              "</table>\n",
              "</div>\n",
              "    <div class=\"colab-df-buttons\">\n",
              "\n",
              "  <div class=\"colab-df-container\">\n",
              "    <button class=\"colab-df-convert\" onclick=\"convertToInteractive('df-5b8e7ae7-58d2-46cd-b0d7-5203e3bd1b1a')\"\n",
              "            title=\"Convert this dataframe to an interactive table.\"\n",
              "            style=\"display:none;\">\n",
              "\n",
              "  <svg xmlns=\"http://www.w3.org/2000/svg\" height=\"24px\" viewBox=\"0 -960 960 960\">\n",
              "    <path d=\"M120-120v-720h720v720H120Zm60-500h600v-160H180v160Zm220 220h160v-160H400v160Zm0 220h160v-160H400v160ZM180-400h160v-160H180v160Zm440 0h160v-160H620v160ZM180-180h160v-160H180v160Zm440 0h160v-160H620v160Z\"/>\n",
              "  </svg>\n",
              "    </button>\n",
              "\n",
              "  <style>\n",
              "    .colab-df-container {\n",
              "      display:flex;\n",
              "      gap: 12px;\n",
              "    }\n",
              "\n",
              "    .colab-df-convert {\n",
              "      background-color: #E8F0FE;\n",
              "      border: none;\n",
              "      border-radius: 50%;\n",
              "      cursor: pointer;\n",
              "      display: none;\n",
              "      fill: #1967D2;\n",
              "      height: 32px;\n",
              "      padding: 0 0 0 0;\n",
              "      width: 32px;\n",
              "    }\n",
              "\n",
              "    .colab-df-convert:hover {\n",
              "      background-color: #E2EBFA;\n",
              "      box-shadow: 0px 1px 2px rgba(60, 64, 67, 0.3), 0px 1px 3px 1px rgba(60, 64, 67, 0.15);\n",
              "      fill: #174EA6;\n",
              "    }\n",
              "\n",
              "    .colab-df-buttons div {\n",
              "      margin-bottom: 4px;\n",
              "    }\n",
              "\n",
              "    [theme=dark] .colab-df-convert {\n",
              "      background-color: #3B4455;\n",
              "      fill: #D2E3FC;\n",
              "    }\n",
              "\n",
              "    [theme=dark] .colab-df-convert:hover {\n",
              "      background-color: #434B5C;\n",
              "      box-shadow: 0px 1px 3px 1px rgba(0, 0, 0, 0.15);\n",
              "      filter: drop-shadow(0px 1px 2px rgba(0, 0, 0, 0.3));\n",
              "      fill: #FFFFFF;\n",
              "    }\n",
              "  </style>\n",
              "\n",
              "    <script>\n",
              "      const buttonEl =\n",
              "        document.querySelector('#df-5b8e7ae7-58d2-46cd-b0d7-5203e3bd1b1a button.colab-df-convert');\n",
              "      buttonEl.style.display =\n",
              "        google.colab.kernel.accessAllowed ? 'block' : 'none';\n",
              "\n",
              "      async function convertToInteractive(key) {\n",
              "        const element = document.querySelector('#df-5b8e7ae7-58d2-46cd-b0d7-5203e3bd1b1a');\n",
              "        const dataTable =\n",
              "          await google.colab.kernel.invokeFunction('convertToInteractive',\n",
              "                                                    [key], {});\n",
              "        if (!dataTable) return;\n",
              "\n",
              "        const docLinkHtml = 'Like what you see? Visit the ' +\n",
              "          '<a target=\"_blank\" href=https://colab.research.google.com/notebooks/data_table.ipynb>data table notebook</a>'\n",
              "          + ' to learn more about interactive tables.';\n",
              "        element.innerHTML = '';\n",
              "        dataTable['output_type'] = 'display_data';\n",
              "        await google.colab.output.renderOutput(dataTable, element);\n",
              "        const docLink = document.createElement('div');\n",
              "        docLink.innerHTML = docLinkHtml;\n",
              "        element.appendChild(docLink);\n",
              "      }\n",
              "    </script>\n",
              "  </div>\n",
              "\n",
              "\n",
              "<div id=\"df-1c0d6bca-58eb-4c74-a930-803d418e2b4e\">\n",
              "  <button class=\"colab-df-quickchart\" onclick=\"quickchart('df-1c0d6bca-58eb-4c74-a930-803d418e2b4e')\"\n",
              "            title=\"Suggest charts\"\n",
              "            style=\"display:none;\">\n",
              "\n",
              "<svg xmlns=\"http://www.w3.org/2000/svg\" height=\"24px\"viewBox=\"0 0 24 24\"\n",
              "     width=\"24px\">\n",
              "    <g>\n",
              "        <path d=\"M19 3H5c-1.1 0-2 .9-2 2v14c0 1.1.9 2 2 2h14c1.1 0 2-.9 2-2V5c0-1.1-.9-2-2-2zM9 17H7v-7h2v7zm4 0h-2V7h2v10zm4 0h-2v-4h2v4z\"/>\n",
              "    </g>\n",
              "</svg>\n",
              "  </button>\n",
              "\n",
              "<style>\n",
              "  .colab-df-quickchart {\n",
              "      --bg-color: #E8F0FE;\n",
              "      --fill-color: #1967D2;\n",
              "      --hover-bg-color: #E2EBFA;\n",
              "      --hover-fill-color: #174EA6;\n",
              "      --disabled-fill-color: #AAA;\n",
              "      --disabled-bg-color: #DDD;\n",
              "  }\n",
              "\n",
              "  [theme=dark] .colab-df-quickchart {\n",
              "      --bg-color: #3B4455;\n",
              "      --fill-color: #D2E3FC;\n",
              "      --hover-bg-color: #434B5C;\n",
              "      --hover-fill-color: #FFFFFF;\n",
              "      --disabled-bg-color: #3B4455;\n",
              "      --disabled-fill-color: #666;\n",
              "  }\n",
              "\n",
              "  .colab-df-quickchart {\n",
              "    background-color: var(--bg-color);\n",
              "    border: none;\n",
              "    border-radius: 50%;\n",
              "    cursor: pointer;\n",
              "    display: none;\n",
              "    fill: var(--fill-color);\n",
              "    height: 32px;\n",
              "    padding: 0;\n",
              "    width: 32px;\n",
              "  }\n",
              "\n",
              "  .colab-df-quickchart:hover {\n",
              "    background-color: var(--hover-bg-color);\n",
              "    box-shadow: 0 1px 2px rgba(60, 64, 67, 0.3), 0 1px 3px 1px rgba(60, 64, 67, 0.15);\n",
              "    fill: var(--button-hover-fill-color);\n",
              "  }\n",
              "\n",
              "  .colab-df-quickchart-complete:disabled,\n",
              "  .colab-df-quickchart-complete:disabled:hover {\n",
              "    background-color: var(--disabled-bg-color);\n",
              "    fill: var(--disabled-fill-color);\n",
              "    box-shadow: none;\n",
              "  }\n",
              "\n",
              "  .colab-df-spinner {\n",
              "    border: 2px solid var(--fill-color);\n",
              "    border-color: transparent;\n",
              "    border-bottom-color: var(--fill-color);\n",
              "    animation:\n",
              "      spin 1s steps(1) infinite;\n",
              "  }\n",
              "\n",
              "  @keyframes spin {\n",
              "    0% {\n",
              "      border-color: transparent;\n",
              "      border-bottom-color: var(--fill-color);\n",
              "      border-left-color: var(--fill-color);\n",
              "    }\n",
              "    20% {\n",
              "      border-color: transparent;\n",
              "      border-left-color: var(--fill-color);\n",
              "      border-top-color: var(--fill-color);\n",
              "    }\n",
              "    30% {\n",
              "      border-color: transparent;\n",
              "      border-left-color: var(--fill-color);\n",
              "      border-top-color: var(--fill-color);\n",
              "      border-right-color: var(--fill-color);\n",
              "    }\n",
              "    40% {\n",
              "      border-color: transparent;\n",
              "      border-right-color: var(--fill-color);\n",
              "      border-top-color: var(--fill-color);\n",
              "    }\n",
              "    60% {\n",
              "      border-color: transparent;\n",
              "      border-right-color: var(--fill-color);\n",
              "    }\n",
              "    80% {\n",
              "      border-color: transparent;\n",
              "      border-right-color: var(--fill-color);\n",
              "      border-bottom-color: var(--fill-color);\n",
              "    }\n",
              "    90% {\n",
              "      border-color: transparent;\n",
              "      border-bottom-color: var(--fill-color);\n",
              "    }\n",
              "  }\n",
              "</style>\n",
              "\n",
              "  <script>\n",
              "    async function quickchart(key) {\n",
              "      const quickchartButtonEl =\n",
              "        document.querySelector('#' + key + ' button');\n",
              "      quickchartButtonEl.disabled = true;  // To prevent multiple clicks.\n",
              "      quickchartButtonEl.classList.add('colab-df-spinner');\n",
              "      try {\n",
              "        const charts = await google.colab.kernel.invokeFunction(\n",
              "            'suggestCharts', [key], {});\n",
              "      } catch (error) {\n",
              "        console.error('Error during call to suggestCharts:', error);\n",
              "      }\n",
              "      quickchartButtonEl.classList.remove('colab-df-spinner');\n",
              "      quickchartButtonEl.classList.add('colab-df-quickchart-complete');\n",
              "    }\n",
              "    (() => {\n",
              "      let quickchartButtonEl =\n",
              "        document.querySelector('#df-1c0d6bca-58eb-4c74-a930-803d418e2b4e button');\n",
              "      quickchartButtonEl.style.display =\n",
              "        google.colab.kernel.accessAllowed ? 'block' : 'none';\n",
              "    })();\n",
              "  </script>\n",
              "</div>\n",
              "\n",
              "    </div>\n",
              "  </div>\n"
            ],
            "application/vnd.google.colaboratory.intrinsic+json": {
              "type": "dataframe",
              "variable_name": "X_train",
              "summary": "{\n  \"name\": \"X_train\",\n  \"rows\": 7200,\n  \"fields\": [\n    {\n      \"column\": \"id\",\n      \"properties\": {\n        \"dtype\": \"number\",\n        \"std\": 70200932,\n        \"min\": 5508654607,\n        \"max\": 5668662559,\n        \"num_unique_values\": 7200,\n        \"samples\": [\n          5509049009,\n          5668616696,\n          5664594452\n        ],\n        \"semantic_type\": \"\",\n        \"description\": \"\"\n      }\n    },\n    {\n      \"column\": \"category\",\n      \"properties\": {\n        \"dtype\": \"category\",\n        \"num_unique_values\": 2,\n        \"samples\": [\n          \"housing/rent/short_term\",\n          \"housing/rent/apartment\"\n        ],\n        \"semantic_type\": \"\",\n        \"description\": \"\"\n      }\n    },\n    {\n      \"column\": \"title\",\n      \"properties\": {\n        \"dtype\": \"string\",\n        \"num_unique_values\": 6779,\n        \"samples\": [\n          \"Studio apartment 1258 Nw 3rd Ave\",\n          \"Two BR 335 E Elder\"\n        ],\n        \"semantic_type\": \"\",\n        \"description\": \"\"\n      }\n    },\n    {\n      \"column\": \"body\",\n      \"properties\": {\n        \"dtype\": \"string\",\n        \"num_unique_values\": 7179,\n        \"samples\": [\n          \"This unit is located at 4057 Mooncoin Way, Lexington, 40515, KYMonthly rental rates range from $800 - $1358We have one - three beds units available for rent Apartment features include:-- Washer/dryer Connections- Sheltered parking- In-Unit Laundry- Balcony, Deck, Patio- Furnished- Dishwasher- Fitness facilities- Storage\",\n          \"This unit is located at 2960 International Drive, Ypsilanti, 48197, MIMonthly rental rates range from $829 - $959We have one - two beds units available for rent Apartment features include:-- Refrigerator- Dishwasher- Balcony, Deck, Patio- Carpet- Public Transportation- Fitness facilities- On-Site Laundry- Pool\"\n        ],\n        \"semantic_type\": \"\",\n        \"description\": \"\"\n      }\n    },\n    {\n      \"column\": \"amenities\",\n      \"properties\": {\n        \"dtype\": \"category\",\n        \"num_unique_values\": 1784,\n        \"samples\": [\n          \"Dishwasher,Internet Access,Refrigerator\",\n          \"Gated,Parking,Patio/Deck,Pool\"\n        ],\n        \"semantic_type\": \"\",\n        \"description\": \"\"\n      }\n    },\n    {\n      \"column\": \"bathrooms\",\n      \"properties\": {\n        \"dtype\": \"number\",\n        \"std\": 0,\n        \"min\": 1,\n        \"max\": 8,\n        \"num_unique_values\": 8,\n        \"samples\": [\n          3,\n          6\n        ],\n        \"semantic_type\": \"\",\n        \"description\": \"\"\n      }\n    },\n    {\n      \"column\": \"bedrooms\",\n      \"properties\": {\n        \"dtype\": \"number\",\n        \"std\": 0,\n        \"min\": 1,\n        \"max\": 8,\n        \"num_unique_values\": 8,\n        \"samples\": [\n          3,\n          6\n        ],\n        \"semantic_type\": \"\",\n        \"description\": \"\"\n      }\n    },\n    {\n      \"column\": \"currency\",\n      \"properties\": {\n        \"dtype\": \"category\",\n        \"num_unique_values\": 1,\n        \"samples\": [\n          \"USD\"\n        ],\n        \"semantic_type\": \"\",\n        \"description\": \"\"\n      }\n    },\n    {\n      \"column\": \"fee\",\n      \"properties\": {\n        \"dtype\": \"category\",\n        \"num_unique_values\": 1,\n        \"samples\": [\n          \"No\"\n        ],\n        \"semantic_type\": \"\",\n        \"description\": \"\"\n      }\n    },\n    {\n      \"column\": \"has_photo\",\n      \"properties\": {\n        \"dtype\": \"category\",\n        \"num_unique_values\": 3,\n        \"samples\": [\n          \"Thumbnail\"\n        ],\n        \"semantic_type\": \"\",\n        \"description\": \"\"\n      }\n    },\n    {\n      \"column\": \"pets_allowed\",\n      \"properties\": {\n        \"dtype\": \"category\",\n        \"num_unique_values\": 4,\n        \"samples\": [\n          \"none\"\n        ],\n        \"semantic_type\": \"\",\n        \"description\": \"\"\n      }\n    },\n    {\n      \"column\": \"price_type\",\n      \"properties\": {\n        \"dtype\": \"category\",\n        \"num_unique_values\": 3,\n        \"samples\": [\n          \"Monthly\"\n        ],\n        \"semantic_type\": \"\",\n        \"description\": \"\"\n      }\n    },\n    {\n      \"column\": \"square_feet\",\n      \"properties\": {\n        \"dtype\": \"number\",\n        \"std\": 700,\n        \"min\": 106,\n        \"max\": 40000,\n        \"num_unique_values\": 1552,\n        \"samples\": [\n          3005\n        ],\n        \"semantic_type\": \"\",\n        \"description\": \"\"\n      }\n    },\n    {\n      \"column\": \"address\",\n      \"properties\": {\n        \"dtype\": \"string\",\n        \"num_unique_values\": 5755,\n        \"samples\": [\n          \"1299, Old Church Street, Joppa, Joppatowne, Harford County, Maryland, 21085, United States\"\n        ],\n        \"semantic_type\": \"\",\n        \"description\": \"\"\n      }\n    },\n    {\n      \"column\": \"cityname\",\n      \"properties\": {\n        \"dtype\": \"category\",\n        \"num_unique_values\": 1345,\n        \"samples\": [\n          \"Minnetonka\"\n        ],\n        \"semantic_type\": \"\",\n        \"description\": \"\"\n      }\n    },\n    {\n      \"column\": \"state\",\n      \"properties\": {\n        \"dtype\": \"category\",\n        \"num_unique_values\": 50,\n        \"samples\": [\n          \"FL\"\n        ],\n        \"semantic_type\": \"\",\n        \"description\": \"\"\n      }\n    },\n    {\n      \"column\": \"latitude\",\n      \"properties\": {\n        \"dtype\": \"number\",\n        \"std\": 5.502536737635174,\n        \"min\": 21.3155,\n        \"max\": 61.594,\n        \"num_unique_values\": 2018,\n        \"samples\": [\n          40.5425\n        ],\n        \"semantic_type\": \"\",\n        \"description\": \"\"\n      }\n    },\n    {\n      \"column\": \"longitude\",\n      \"properties\": {\n        \"dtype\": \"number\",\n        \"std\": 15.724227628995203,\n        \"min\": -158.0221,\n        \"max\": -70.1916,\n        \"num_unique_values\": 2016,\n        \"samples\": [\n          -121.6499\n        ],\n        \"semantic_type\": \"\",\n        \"description\": \"\"\n      }\n    },\n    {\n      \"column\": \"source\",\n      \"properties\": {\n        \"dtype\": \"category\",\n        \"num_unique_values\": 11,\n        \"samples\": [\n          \"GoSection8\"\n        ],\n        \"semantic_type\": \"\",\n        \"description\": \"\"\n      }\n    },\n    {\n      \"column\": \"time\",\n      \"properties\": {\n        \"dtype\": \"number\",\n        \"std\": 3762101,\n        \"min\": 1568744007,\n        \"max\": 1577362186,\n        \"num_unique_values\": 5072,\n        \"samples\": [\n          1568775092\n        ],\n        \"semantic_type\": \"\",\n        \"description\": \"\"\n      }\n    }\n  ]\n}"
            }
          },
          "metadata": {},
          "execution_count": 18
        }
      ],
      "source": [
        "X_train.head()"
      ]
    },
    {
      "cell_type": "code",
      "execution_count": null,
      "metadata": {
        "colab": {
          "base_uri": "https://localhost:8080/"
        },
        "id": "BGweAX3vYclV",
        "outputId": "37df099d-a227-42c8-ee6f-7e690adfecc6"
      },
      "outputs": [
        {
          "output_type": "stream",
          "name": "stdout",
          "text": [
            "id              0\n",
            "category        0\n",
            "title           0\n",
            "body            0\n",
            "amenities       0\n",
            "bathrooms       0\n",
            "bedrooms        0\n",
            "currency        0\n",
            "fee             0\n",
            "has_photo       0\n",
            "pets_allowed    0\n",
            "price_type      0\n",
            "square_feet     0\n",
            "address         0\n",
            "cityname        0\n",
            "state           0\n",
            "latitude        0\n",
            "longitude       0\n",
            "source          0\n",
            "time            0\n",
            "dtype: int64\n"
          ]
        }
      ],
      "source": [
        "print(X_train.isnull().sum())"
      ]
    },
    {
      "cell_type": "code",
      "execution_count": null,
      "metadata": {
        "colab": {
          "base_uri": "https://localhost:8080/"
        },
        "id": "JtI0vbMzfiFg",
        "outputId": "d08ce7d3-dd97-4365-a340-9a8b2b5ec59c"
      },
      "outputs": [
        {
          "output_type": "execute_result",
          "data": {
            "text/plain": [
              "0"
            ]
          },
          "metadata": {},
          "execution_count": 20
        }
      ],
      "source": [
        "X_train.duplicated().sum()"
      ]
    },
    {
      "cell_type": "code",
      "execution_count": null,
      "metadata": {
        "colab": {
          "base_uri": "https://localhost:8080/"
        },
        "id": "xAC-HZi6oxan",
        "outputId": "c39f9e17-5450-4454-ead0-58ed4a59d3db"
      },
      "outputs": [
        {
          "output_type": "execute_result",
          "data": {
            "text/plain": [
              "5755"
            ]
          },
          "metadata": {},
          "execution_count": 21
        }
      ],
      "source": [
        "X_train['address'].nunique()"
      ]
    },
    {
      "cell_type": "code",
      "execution_count": null,
      "metadata": {
        "colab": {
          "base_uri": "https://localhost:8080/"
        },
        "id": "Y08z4VtYox1O",
        "outputId": "cf6d6a84-8876-4863-91ae-69c837726082"
      },
      "outputs": [
        {
          "output_type": "execute_result",
          "data": {
            "text/plain": [
              "address\n",
              "3409, Mills Avenue, Bryker Woods, Austin, Travis County, Texas, 78703, United States                                  34\n",
              "South Pipeline Road, Euless, Tarrant County, Texas, 76040, United States                                              25\n",
              "Beacon Way, The Beacon, Jersey City, Hudson County, New Jersey, 07306, United States                                  25\n",
              "Crabtree Creek Trail, Green Acres, Raleigh, Wake County, North Carolina, 27608, United States                         16\n",
              "Newark Street Northwest, Northwest, Cleveland Park, Ward 3, Washington, District of Columbia, 20016, United States    16\n",
              "                                                                                                                      ..\n",
              "130 Waterman St                                                                                                        1\n",
              "735 NW 60th St                                                                                                         1\n",
              "404 N Horne St #D45                                                                                                    1\n",
              "11635 Evergreen Creek Lane                                                                                             1\n",
              "Pima Freeway, Country Horizons, Scottsdale, Maricopa County, Arizona, 85258, United States                             1\n",
              "Name: count, Length: 5755, dtype: int64"
            ]
          },
          "metadata": {},
          "execution_count": 22
        }
      ],
      "source": [
        "X_train['address'].value_counts()"
      ]
    },
    {
      "cell_type": "code",
      "execution_count": null,
      "metadata": {
        "id": "QVlNb2neitJI"
      },
      "outputs": [],
      "source": [
        "#replacing the null values:\n",
        "\n",
        "#replacing with none as null here has meaning of not having those features\n",
        "X_train['pets_allowed'].fillna('none', inplace=True)\n",
        "X_train['amenities'].fillna('none', inplace=True)\n",
        "\n",
        "#replacing with mode even if numeric as it is descrete and not continuous\n",
        "X_train['bathrooms'] = X_train['bathrooms'].fillna(X_train['bathrooms'].mode().iloc[0])\n",
        "X_train['bedrooms'] = X_train['bedrooms'].fillna(X_train['bedrooms'].mode().iloc[0])\n",
        "#replacing float with int for logical reasons and data integrity\n",
        "X_train['bathrooms'] = X_train['bathrooms'].astype(int)\n",
        "X_train['bedrooms'] = X_train['bathrooms'].astype(int)\n",
        "\n",
        "#replacing categorical data with mode\n",
        "#data['cityname'] = data['cityname'].fillna(data['cityname'].mode().iloc[0])\n",
        "#data['state'] = data['state'].fillna(data['state'].mode().iloc[0])\n",
        "\n",
        "#replacing continuous data with mean\n",
        "X_train['latitude'] = X_train['latitude'].fillna(X_train['latitude'].mean())\n",
        "X_train['longitude'] = X_train['longitude'].fillna(X_train['longitude'].mean())\n",
        "\n",
        "#doesn't make sense to me: the number of unique addresses is large and the highest repetition is only 3 -> replacing all the null values with it will break the integrity of the data and have 3000 listing with the same address\n",
        "\n",
        "#data['address'] = data['address'].fillna(data['address'].mode().iloc[0])\n",
        "#data['address'].fillna('Unknown', inplace=True)"
      ]
    },
    {
      "cell_type": "code",
      "execution_count": null,
      "metadata": {
        "colab": {
          "base_uri": "https://localhost:8080/"
        },
        "id": "xhGD2ShbKiI-",
        "outputId": "f1e670df-ff42-4bd1-8f69-3c29827ad1b5"
      },
      "outputs": [
        {
          "output_type": "stream",
          "name": "stdout",
          "text": [
            "id              0\n",
            "category        0\n",
            "title           0\n",
            "body            0\n",
            "amenities       0\n",
            "bathrooms       0\n",
            "bedrooms        0\n",
            "currency        0\n",
            "fee             0\n",
            "has_photo       0\n",
            "pets_allowed    0\n",
            "price_type      0\n",
            "square_feet     0\n",
            "address         0\n",
            "cityname        0\n",
            "state           0\n",
            "latitude        0\n",
            "longitude       0\n",
            "source          0\n",
            "time            0\n",
            "dtype: int64\n"
          ]
        }
      ],
      "source": [
        "print(X_train.isnull().sum())"
      ]
    },
    {
      "cell_type": "code",
      "execution_count": null,
      "metadata": {
        "id": "qYJXl_4K5FDO"
      },
      "outputs": [],
      "source": [
        "# def reverse_geocode(latitude, longitude):\n",
        "#     geolocator = Nominatim(user_agent=\"reverse_geocoding\", timeout=90)\n",
        "#     max_retries = 3\n",
        "#     retries = 0\n",
        "#     while retries < max_retries:\n",
        "#         try:\n",
        "#             location = geolocator.reverse((latitude, longitude), language='en')\n",
        "#             return location.address\n",
        "#         except GeocoderTimedOut:\n",
        "#             retries += 1\n",
        "#             print(f\"Geocoder timed out. Retrying... Attempt {retries}/{max_retries}\")\n",
        "#     print(\"Max retries exceeded. Unable to geocode.\")\n",
        "#     return None\n",
        "\n",
        "# null_address_rows = X_train[X_train['address'].isnull()]\n",
        "\n",
        "# batch_size = 100\n",
        "# for i in range(0, len(null_address_rows), batch_size):\n",
        "#     batch_data = null_address_rows.iloc[i:i+batch_size]\n",
        "#     for index, row in batch_data.iterrows():\n",
        "#         latitude = row['latitude']\n",
        "#         longitude = row['longitude']\n",
        "#         address = reverse_geocode(latitude, longitude)\n",
        "#         if address:\n",
        "#             X_train.at[index, 'address'] = address\n",
        "#             print(f\"New address added at index {index}: {address}\")"
      ]
    },
    {
      "cell_type": "code",
      "execution_count": null,
      "metadata": {
        "id": "dsKhHFX2z8bk"
      },
      "outputs": [],
      "source": [
        "# preprocessing  body coulmn\n",
        "\n",
        "def preprocessing_body(X_train):\n",
        "  pattern = r'is located at\\s*.*?,(.*?),'\n",
        "\n",
        "  # Extract city names\n",
        "  city_name_from_body = X_train['body'].str.extract(pattern)\n",
        "  city_name_from_body = np.array(city_name_from_body)\n",
        "  city_name_from_body_series = pd.Series(city_name_from_body.flatten())\n",
        "\n",
        "  #print(city_name_from_body_series)\n",
        "  #print(X_train['cityname'].isnull().sum())\n",
        "  X_train['cityname'].fillna(city_name_from_body_series, inplace = True)\n",
        "  #print(X_train['cityname'].isnull().sum())\n",
        "  X_train['cityname'] = X_train['cityname'].fillna(X_train['cityname'].mode().iloc[0])\n",
        "  #print(X_train['cityname'].isnull().sum())\n",
        "\n",
        "  #Extract state\n",
        "  pat = r'(\\b[A-Z]{2}\\b)'\n",
        "  state_from_body = X_train['body'].str.extractall(pat)\n",
        "  state_from_body = np.array(state_from_body)\n",
        "  state_from_body_series = pd.Series(state_from_body.flatten())\n",
        "  X_train['state'].fillna(state_from_body_series, inplace=True)\n",
        "\n",
        "  #print(state_from_body_series.notnull())\n",
        "  #print(X_train['state'].isnull().sum())\n",
        "  X_train['state'].fillna(X_train['state'].mode().iloc[0], inplace=True)\n",
        "  #print(X_train['state'].isnull().sum())\n",
        "\n",
        "preprocessing_body(X_train)"
      ]
    },
    {
      "cell_type": "code",
      "execution_count": null,
      "metadata": {
        "colab": {
          "base_uri": "https://localhost:8080/"
        },
        "id": "0cN3IjkFop-I",
        "outputId": "50680a47-f08b-42ee-c2a3-08da95e49906"
      },
      "outputs": [
        {
          "output_type": "stream",
          "name": "stdout",
          "text": [
            "id              0\n",
            "category        0\n",
            "title           0\n",
            "body            0\n",
            "amenities       0\n",
            "bathrooms       0\n",
            "bedrooms        0\n",
            "currency        0\n",
            "fee             0\n",
            "has_photo       0\n",
            "pets_allowed    0\n",
            "price_type      0\n",
            "square_feet     0\n",
            "address         0\n",
            "cityname        0\n",
            "state           0\n",
            "latitude        0\n",
            "longitude       0\n",
            "source          0\n",
            "time            0\n",
            "dtype: int64\n"
          ]
        }
      ],
      "source": [
        "print(X_train.isnull().sum())"
      ]
    },
    {
      "cell_type": "code",
      "source": [
        "bathrooms_mode = X_train['bathrooms'].mode().iloc[0]\n",
        "bedrooms_mode = X_train['bedrooms'].mode().iloc[0]\n",
        "longitude_mean = X_train['longitude'].mean()\n",
        "latitude_mean = X_train['latitude'].mean()\n",
        "cityname_mode = X_train['cityname'].mode().iloc[0]\n",
        "state_mode = X_train['state'].mode().iloc[0]"
      ],
      "metadata": {
        "id": "BmWEmsa4S_sq"
      },
      "execution_count": null,
      "outputs": []
    },
    {
      "cell_type": "code",
      "execution_count": null,
      "metadata": {
        "colab": {
          "base_uri": "https://localhost:8080/"
        },
        "id": "sVBkNsVsjLG-",
        "outputId": "a97a1679-10d2-4df3-d8b7-8e3e827b11b7"
      },
      "outputs": [
        {
          "output_type": "execute_result",
          "data": {
            "text/plain": [
              "5755"
            ]
          },
          "metadata": {},
          "execution_count": 29
        }
      ],
      "source": [
        "X_train['address'].nunique()"
      ]
    },
    {
      "cell_type": "code",
      "execution_count": null,
      "metadata": {
        "colab": {
          "base_uri": "https://localhost:8080/"
        },
        "id": "uf8zktxxj2wz",
        "outputId": "20e64f05-da83-4e32-9774-1ae0b44ca8cb"
      },
      "outputs": [
        {
          "output_type": "execute_result",
          "data": {
            "text/plain": [
              "address\n",
              "3409, Mills Avenue, Bryker Woods, Austin, Travis County, Texas, 78703, United States                                  34\n",
              "South Pipeline Road, Euless, Tarrant County, Texas, 76040, United States                                              25\n",
              "Beacon Way, The Beacon, Jersey City, Hudson County, New Jersey, 07306, United States                                  25\n",
              "Crabtree Creek Trail, Green Acres, Raleigh, Wake County, North Carolina, 27608, United States                         16\n",
              "Newark Street Northwest, Northwest, Cleveland Park, Ward 3, Washington, District of Columbia, 20016, United States    16\n",
              "                                                                                                                      ..\n",
              "130 Waterman St                                                                                                        1\n",
              "735 NW 60th St                                                                                                         1\n",
              "404 N Horne St #D45                                                                                                    1\n",
              "11635 Evergreen Creek Lane                                                                                             1\n",
              "Pima Freeway, Country Horizons, Scottsdale, Maricopa County, Arizona, 85258, United States                             1\n",
              "Name: count, Length: 5755, dtype: int64"
            ]
          },
          "metadata": {},
          "execution_count": 30
        }
      ],
      "source": [
        "X_train['address'].value_counts() #compare the difference before and after replacing null with mode to understand note"
      ]
    },
    {
      "cell_type": "code",
      "execution_count": null,
      "metadata": {
        "colab": {
          "base_uri": "https://localhost:8080/"
        },
        "id": "X_zgA1y8ZiqJ",
        "outputId": "c0dd0439-baa4-483c-fa54-8c561a621824"
      },
      "outputs": [
        {
          "output_type": "execute_result",
          "data": {
            "text/plain": [
              "4"
            ]
          },
          "metadata": {},
          "execution_count": 31
        }
      ],
      "source": [
        "X_train['pets_allowed'].nunique()"
      ]
    },
    {
      "cell_type": "code",
      "execution_count": null,
      "metadata": {
        "colab": {
          "base_uri": "https://localhost:8080/"
        },
        "id": "LuNHWFbsdPef",
        "outputId": "ff987c9e-6f15-4289-e871-baa8ef656b67"
      },
      "outputs": [
        {
          "output_type": "execute_result",
          "data": {
            "text/plain": [
              "pets_allowed\n",
              "Cats,Dogs    3774\n",
              "none         3005\n",
              "Cats          324\n",
              "Dogs           97\n",
              "Name: count, dtype: int64"
            ]
          },
          "metadata": {},
          "execution_count": 32
        }
      ],
      "source": [
        "X_train['pets_allowed'].value_counts()"
      ]
    },
    {
      "cell_type": "code",
      "execution_count": null,
      "metadata": {
        "colab": {
          "base_uri": "https://localhost:8080/"
        },
        "id": "2UgdshXybsa5",
        "outputId": "9a95bdc8-30e0-4d63-d1df-6f1def46a628"
      },
      "outputs": [
        {
          "output_type": "execute_result",
          "data": {
            "text/plain": [
              "1784"
            ]
          },
          "metadata": {},
          "execution_count": 33
        }
      ],
      "source": [
        "X_train['amenities'].nunique()"
      ]
    },
    {
      "cell_type": "code",
      "execution_count": null,
      "metadata": {
        "colab": {
          "base_uri": "https://localhost:8080/"
        },
        "id": "t8934Z1kZvll",
        "outputId": "858ccff9-fb5c-46df-d36b-829cf6cbfa5e"
      },
      "outputs": [
        {
          "output_type": "execute_result",
          "data": {
            "text/plain": [
              "1345"
            ]
          },
          "metadata": {},
          "execution_count": 34
        }
      ],
      "source": [
        "X_train['cityname'].nunique()"
      ]
    },
    {
      "cell_type": "code",
      "execution_count": null,
      "metadata": {
        "colab": {
          "base_uri": "https://localhost:8080/"
        },
        "id": "MvBLUVzUdFmP",
        "outputId": "e5127ac6-1ba6-4db0-f268-2b64864586de"
      },
      "outputs": [
        {
          "output_type": "execute_result",
          "data": {
            "text/plain": [
              "cityname\n",
              "Austin          447\n",
              "Dallas          160\n",
              "Houston         143\n",
              "San Antonio     139\n",
              "Los Angeles     122\n",
              "               ... \n",
              "Webster           1\n",
              "Brook Park        1\n",
              "Mosinee           1\n",
              "Weatogue          1\n",
              "Millersville      1\n",
              "Name: count, Length: 1345, dtype: int64"
            ]
          },
          "metadata": {},
          "execution_count": 35
        }
      ],
      "source": [
        "X_train['cityname'].value_counts()"
      ]
    },
    {
      "cell_type": "code",
      "execution_count": null,
      "metadata": {
        "colab": {
          "base_uri": "https://localhost:8080/"
        },
        "id": "xbCdUELKcCm2",
        "outputId": "891c8bf2-84d2-464d-feaa-8890ac873ee4"
      },
      "outputs": [
        {
          "output_type": "execute_result",
          "data": {
            "text/plain": [
              "3"
            ]
          },
          "metadata": {},
          "execution_count": 36
        }
      ],
      "source": [
        "X_train['has_photo'].nunique()"
      ]
    },
    {
      "cell_type": "code",
      "execution_count": null,
      "metadata": {
        "colab": {
          "base_uri": "https://localhost:8080/"
        },
        "id": "nI8gDz06cVew",
        "outputId": "8e245d83-d3a1-43c1-bbb3-6a308e23179a"
      },
      "outputs": [
        {
          "output_type": "execute_result",
          "data": {
            "text/plain": [
              "has_photo\n",
              "Thumbnail    6414\n",
              "Yes           650\n",
              "No            136\n",
              "Name: count, dtype: int64"
            ]
          },
          "metadata": {},
          "execution_count": 37
        }
      ],
      "source": [
        "X_train['has_photo'].value_counts()"
      ]
    },
    {
      "cell_type": "code",
      "execution_count": null,
      "metadata": {
        "colab": {
          "base_uri": "https://localhost:8080/"
        },
        "id": "FWvcjoXAcN1X",
        "outputId": "d445cd24-ce48-49f5-b50c-13ae6e652bdb"
      },
      "outputs": [
        {
          "output_type": "execute_result",
          "data": {
            "text/plain": [
              "3"
            ]
          },
          "metadata": {},
          "execution_count": 38
        }
      ],
      "source": [
        "X_train['price_type'].nunique()"
      ]
    },
    {
      "cell_type": "code",
      "execution_count": null,
      "metadata": {
        "colab": {
          "base_uri": "https://localhost:8080/"
        },
        "id": "XOQhQkPicUBd",
        "outputId": "26695a93-17db-42a4-9ba1-594a4804fc5d"
      },
      "outputs": [
        {
          "output_type": "execute_result",
          "data": {
            "text/plain": [
              "price_type\n",
              "Monthly           7198\n",
              "Monthly|Weekly       1\n",
              "Weekly               1\n",
              "Name: count, dtype: int64"
            ]
          },
          "metadata": {},
          "execution_count": 39
        }
      ],
      "source": [
        "X_train['price_type'].value_counts()"
      ]
    },
    {
      "cell_type": "code",
      "execution_count": null,
      "metadata": {
        "colab": {
          "base_uri": "https://localhost:8080/"
        },
        "id": "n8afSsBIcfBj",
        "outputId": "e3bd7cc9-63dc-4736-c265-02c7d815bc1c"
      },
      "outputs": [
        {
          "output_type": "execute_result",
          "data": {
            "text/plain": [
              "1"
            ]
          },
          "metadata": {},
          "execution_count": 40
        }
      ],
      "source": [
        "X_train['currency'].nunique()"
      ]
    },
    {
      "cell_type": "code",
      "execution_count": null,
      "metadata": {
        "colab": {
          "base_uri": "https://localhost:8080/"
        },
        "id": "YrW1rEu4ckf1",
        "outputId": "6a2ca020-5bf3-401a-fd4c-1104a5c3a5f0"
      },
      "outputs": [
        {
          "output_type": "execute_result",
          "data": {
            "text/plain": [
              "2"
            ]
          },
          "metadata": {},
          "execution_count": 41
        }
      ],
      "source": [
        "X_train['category'].nunique()"
      ]
    },
    {
      "cell_type": "code",
      "execution_count": null,
      "metadata": {
        "colab": {
          "base_uri": "https://localhost:8080/"
        },
        "id": "z6MNIYE8cqYd",
        "outputId": "0c60f7de-7017-4b81-8a1a-5fd1551e5853"
      },
      "outputs": [
        {
          "output_type": "execute_result",
          "data": {
            "text/plain": [
              "category\n",
              "housing/rent/apartment     7198\n",
              "housing/rent/short_term       2\n",
              "Name: count, dtype: int64"
            ]
          },
          "metadata": {},
          "execution_count": 42
        }
      ],
      "source": [
        "X_train['category'].value_counts()"
      ]
    },
    {
      "cell_type": "code",
      "execution_count": null,
      "metadata": {
        "colab": {
          "base_uri": "https://localhost:8080/"
        },
        "id": "Dja40t6kd2iP",
        "outputId": "413c472b-d73f-4ca6-b8d9-95db6813b5ef"
      },
      "outputs": [
        {
          "output_type": "execute_result",
          "data": {
            "text/plain": [
              "fee\n",
              "No    7200\n",
              "Name: count, dtype: int64"
            ]
          },
          "metadata": {},
          "execution_count": 43
        }
      ],
      "source": [
        "X_train['fee'].value_counts()"
      ]
    },
    {
      "cell_type": "code",
      "execution_count": null,
      "metadata": {
        "colab": {
          "base_uri": "https://localhost:8080/"
        },
        "id": "cUKr6RYsd__b",
        "outputId": "50fd4bad-38f4-4761-dd52-4cdb9cfd6cf7"
      },
      "outputs": [
        {
          "output_type": "execute_result",
          "data": {
            "text/plain": [
              "50"
            ]
          },
          "metadata": {},
          "execution_count": 44
        }
      ],
      "source": [
        "X_train['state'].nunique()"
      ]
    },
    {
      "cell_type": "code",
      "execution_count": null,
      "metadata": {
        "colab": {
          "base_uri": "https://localhost:8080/"
        },
        "id": "3zCJm494eNo_",
        "outputId": "290a1511-373d-4b53-c581-75dee1fcceea"
      },
      "outputs": [
        {
          "output_type": "execute_result",
          "data": {
            "text/plain": [
              "state\n",
              "TX    1349\n",
              "CA     684\n",
              "WA     382\n",
              "NC     318\n",
              "MD     306\n",
              "GA     275\n",
              "NJ     270\n",
              "CO     236\n",
              "FL     230\n",
              "OH     220\n",
              "IL     214\n",
              "WI     202\n",
              "IN     175\n",
              "MO     173\n",
              "OR     157\n",
              "MN     155\n",
              "VA     143\n",
              "PA     134\n",
              "IA     132\n",
              "OK     123\n",
              "MI     119\n",
              "MA     105\n",
              "AZ      96\n",
              "NV      91\n",
              "ND      77\n",
              "NE      74\n",
              "CT      73\n",
              "TN      71\n",
              "UT      58\n",
              "DC      55\n",
              "NY      54\n",
              "KS      53\n",
              "SC      51\n",
              "NH      49\n",
              "SD      45\n",
              "LA      45\n",
              "AL      39\n",
              "AR      37\n",
              "AK      32\n",
              "KY      32\n",
              "ID      12\n",
              "VT      12\n",
              "NM       8\n",
              "RI       8\n",
              "HI       6\n",
              "MS       6\n",
              "MT       6\n",
              "DE       4\n",
              "WV       3\n",
              "WY       1\n",
              "Name: count, dtype: int64"
            ]
          },
          "metadata": {},
          "execution_count": 45
        }
      ],
      "source": [
        "X_train['state'].value_counts()"
      ]
    },
    {
      "cell_type": "code",
      "execution_count": null,
      "metadata": {
        "colab": {
          "base_uri": "https://localhost:8080/"
        },
        "id": "UQhSWOA7e6NP",
        "outputId": "9b490464-ea2c-486e-d185-0135f23377ba"
      },
      "outputs": [
        {
          "output_type": "execute_result",
          "data": {
            "text/plain": [
              "11"
            ]
          },
          "metadata": {},
          "execution_count": 46
        }
      ],
      "source": [
        "X_train['source'].nunique()"
      ]
    },
    {
      "cell_type": "code",
      "execution_count": null,
      "metadata": {
        "colab": {
          "base_uri": "https://localhost:8080/"
        },
        "id": "U7wpRVkEfEZX",
        "outputId": "37c41f39-6602-4534-abab-3be5301c1e4a"
      },
      "outputs": [
        {
          "output_type": "execute_result",
          "data": {
            "text/plain": [
              "source\n",
              "RentLingo            4974\n",
              "RentDigs.com         1991\n",
              "ListedBuy             130\n",
              "RealRentals            49\n",
              "GoSection8             21\n",
              "Listanza               18\n",
              "RENTOCULAR             13\n",
              "rentbits                1\n",
              "tenantcloud             1\n",
              "RENTCafé                1\n",
              "Real Estate Agent       1\n",
              "Name: count, dtype: int64"
            ]
          },
          "metadata": {},
          "execution_count": 47
        }
      ],
      "source": [
        "X_train['source'].value_counts()"
      ]
    },
    {
      "cell_type": "code",
      "execution_count": null,
      "metadata": {
        "colab": {
          "base_uri": "https://localhost:8080/"
        },
        "id": "_e5fIV3ufJDp",
        "outputId": "c039df41-0831-4a6b-f154-94155d6605b9"
      },
      "outputs": [
        {
          "output_type": "execute_result",
          "data": {
            "text/plain": [
              "7179"
            ]
          },
          "metadata": {},
          "execution_count": 48
        }
      ],
      "source": [
        "X_train['body'].nunique() #almost each single body is different"
      ]
    },
    {
      "cell_type": "code",
      "execution_count": null,
      "metadata": {
        "colab": {
          "base_uri": "https://localhost:8080/"
        },
        "id": "hWtqL2GdfXBl",
        "outputId": "1d3df84e-fd55-440a-89bd-a9562b83e3d7"
      },
      "outputs": [
        {
          "output_type": "execute_result",
          "data": {
            "text/plain": [
              "6779"
            ]
          },
          "metadata": {},
          "execution_count": 49
        }
      ],
      "source": [
        "X_train['title'].nunique() #almot all are different"
      ]
    },
    {
      "cell_type": "code",
      "execution_count": null,
      "metadata": {
        "colab": {
          "base_uri": "https://localhost:8080/"
        },
        "id": "x_Rq0ZTxowPE",
        "outputId": "2ccfc79b-438b-48af-84ca-69aa6fa30d10"
      },
      "outputs": [
        {
          "output_type": "stream",
          "name": "stdout",
          "text": [
            "   Bedrooms From Title               Address From Title\n",
            "0               Two BR                             None\n",
            "1               One BR           640 West Wilson Street\n",
            "2               One BR                2777 Sw Archer Rd\n",
            "3               One BR                  542 Park Avenue\n",
            "4             Three BR            2216 S Palm Grove Ave\n",
            "5             Three BR                   680 Bromley Dr\n",
            "6                 None                             None\n",
            "7             Three BR                   1712 Donald Dr\n",
            "8               One BR  2975 Blackburn St Apartment 678\n",
            "9               Two BR                   290 9th Ave Sw\n",
            "10                None                             None\n",
            "11              One BR                     4060 N 150 W\n",
            "12                None                             None\n",
            "13              One BR                 2225 E Oltorf St\n",
            "14                None                             None\n",
            "15            Three BR                11254 SE Falco St\n",
            "16              One BR                           1308 S\n",
            "17                None                             None\n",
            "18                None                             None\n",
            "19                None               5700 Ellsworth Ave\n"
          ]
        }
      ],
      "source": [
        "# Define regular expressions to extract data\n",
        "bedroom_pattern = re.compile(r'(one|two|three|four|five|six|seven|eight|nine|ten)\\s*BR', re.IGNORECASE)\n",
        "address_pattern = re.compile(r'\\d+(\\s+\\w+)+')\n",
        "\n",
        "bedrooms_from_title = []\n",
        "addresses_from_title = []\n",
        "\n",
        "for title in data['title']:\n",
        "    # Extract number of bedrooms\n",
        "    bedroom_match = bedroom_pattern.search(title)\n",
        "    if bedroom_match:\n",
        "        bedrooms_from_title.append(bedroom_match.group())\n",
        "    else:\n",
        "        bedrooms_from_title.append(None)\n",
        "\n",
        "    # Extract address\n",
        "    address_match = address_pattern.search(title)\n",
        "    if address_match:\n",
        "        addresses_from_title.append(address_match.group())\n",
        "    else:\n",
        "        addresses_from_title.append(None)\n",
        "\n",
        "# Create a new DataFrame with the extracted data\n",
        "extracted_data = pd.DataFrame({\n",
        "    'Bedrooms From Title': bedrooms_from_title,\n",
        "    'Address From Title': addresses_from_title\n",
        "})\n",
        "\n",
        "#data.drop(columns=['title'], inplace=True)\n",
        "\n",
        "#data = pd.concat([data, extracted_data], axis=1)\n",
        "# Display the first 20 rows of the extracted data DataFrame\n",
        "print(extracted_data.head(20))\n"
      ]
    },
    {
      "cell_type": "code",
      "source": [
        "class SafeLabelEncoder(LabelEncoder):\n",
        "    def transform(self, y):\n",
        "        y = np.array(y)\n",
        "        # Fit label encoder and return encoded labels\n",
        "        encoded_labels = []\n",
        "        unseen_labels_count = 0\n",
        "        for x in y:\n",
        "            if x in self.classes_:\n",
        "                encoded_labels.append(np.where(self.classes_ == x)[0][0])\n",
        "            else:\n",
        "                # If unseen label, assign a new label by incrementing the maximum label value\n",
        "                unseen_labels_count += 1\n",
        "                encoded_labels.append(len(self.classes_) + unseen_labels_count - 1)\n",
        "        return np.array(encoded_labels)"
      ],
      "metadata": {
        "id": "fKl_iuipBXEZ"
      },
      "execution_count": null,
      "outputs": []
    },
    {
      "cell_type": "code",
      "execution_count": null,
      "metadata": {
        "id": "_jcuKbzFYwMF"
      },
      "outputs": [],
      "source": [
        "#:Label Encoding\n",
        "label_encoders = {}\n",
        "columns_to_label_encode = ['price_type', 'currency', 'category', 'fee']\n",
        "\n",
        "for column in columns_to_label_encode:\n",
        "    label_encoders[column] = SafeLabelEncoder()\n",
        "    X_train[column] = label_encoders[column].fit_transform(X_train[column])\n",
        "\n",
        "\n",
        "y_encoder = SafeLabelEncoder()\n",
        "y_train = y_encoder.fit_transform(y_train)"
      ]
    },
    {
      "cell_type": "code",
      "execution_count": null,
      "metadata": {
        "colab": {
          "base_uri": "https://localhost:8080/"
        },
        "id": "vJv-098NXA9t",
        "outputId": "0780d9c5-53a5-4ad1-c835-5e8e813853c6"
      },
      "outputs": [
        {
          "output_type": "stream",
          "name": "stdout",
          "text": [
            "5250    0\n",
            "7173    0\n",
            "2661    0\n",
            "5018    0\n",
            "3969    0\n",
            "       ..\n",
            "4829    0\n",
            "7291    0\n",
            "1344    0\n",
            "7293    0\n",
            "1289    0\n",
            "Name: price_type, Length: 7200, dtype: int64\n"
          ]
        }
      ],
      "source": [
        "print(X_train['price_type'])"
      ]
    },
    {
      "cell_type": "code",
      "execution_count": null,
      "metadata": {
        "colab": {
          "base_uri": "https://localhost:8080/"
        },
        "id": "e0TY3_f4Xcy0",
        "outputId": "e8b69773-8b48-41db-dc96-2d142414983c"
      },
      "outputs": [
        {
          "output_type": "execute_result",
          "data": {
            "text/plain": [
              "category\n",
              "0    7198\n",
              "1       2\n",
              "Name: count, dtype: int64"
            ]
          },
          "metadata": {},
          "execution_count": 54
        }
      ],
      "source": [
        "X_train['category'].value_counts()"
      ]
    },
    {
      "cell_type": "code",
      "execution_count": null,
      "metadata": {
        "colab": {
          "base_uri": "https://localhost:8080/"
        },
        "id": "JQRjNZks-pq_",
        "outputId": "82edaeb8-12fd-4471-8211-c3d24aba7cf0"
      },
      "outputs": [
        {
          "output_type": "stream",
          "name": "stdout",
          "text": [
            "<class 'pandas.core.frame.DataFrame'>\n",
            "Index: 7200 entries, 5250 to 1289\n",
            "Data columns (total 53 columns):\n",
            " #   Column              Non-Null Count  Dtype  \n",
            "---  ------              --------------  -----  \n",
            " 0   id                  7200 non-null   int64  \n",
            " 1   category            7200 non-null   int64  \n",
            " 2   title               7200 non-null   object \n",
            " 3   body                7200 non-null   object \n",
            " 4   bathrooms           7200 non-null   int64  \n",
            " 5   bedrooms            7200 non-null   int64  \n",
            " 6   currency            7200 non-null   int64  \n",
            " 7   fee                 7200 non-null   int64  \n",
            " 8   price_type          7200 non-null   int64  \n",
            " 9   square_feet         7200 non-null   int64  \n",
            " 10  address             7200 non-null   object \n",
            " 11  cityname            7200 non-null   object \n",
            " 12  state               7200 non-null   object \n",
            " 13  latitude            7200 non-null   float64\n",
            " 14  longitude           7200 non-null   float64\n",
            " 15  time                7200 non-null   int64  \n",
            " 16  No                  7200 non-null   int64  \n",
            " 17  Thumbnail           7200 non-null   int64  \n",
            " 18  Yes                 7200 non-null   int64  \n",
            " 19  Other               7200 non-null   int64  \n",
            " 20  RentDigs.com        7200 non-null   int64  \n",
            " 21  RentLingo           7200 non-null   int64  \n",
            " 22  Cats                7200 non-null   int64  \n",
            " 23  Dogs                7200 non-null   int64  \n",
            " 24  none                7200 non-null   int64  \n",
            " 25  AC                  7200 non-null   int64  \n",
            " 26  Alarm               7200 non-null   int64  \n",
            " 27  Basketball          7200 non-null   int64  \n",
            " 28  Cable or Satellite  7200 non-null   int64  \n",
            " 29  Clubhouse           7200 non-null   int64  \n",
            " 30  Dishwasher          7200 non-null   int64  \n",
            " 31  Doorman             7200 non-null   int64  \n",
            " 32  Elevator            7200 non-null   int64  \n",
            " 33  Fireplace           7200 non-null   int64  \n",
            " 34  Garbage Disposal    7200 non-null   int64  \n",
            " 35  Gated               7200 non-null   int64  \n",
            " 36  Golf                7200 non-null   int64  \n",
            " 37  Gym                 7200 non-null   int64  \n",
            " 38  Hot Tub             7200 non-null   int64  \n",
            " 39  Internet Access     7200 non-null   int64  \n",
            " 40  Luxury              7200 non-null   int64  \n",
            " 41  Parking             7200 non-null   int64  \n",
            " 42  Patio/Deck          7200 non-null   int64  \n",
            " 43  Playground          7200 non-null   int64  \n",
            " 44  Pool                7200 non-null   int64  \n",
            " 45  Refrigerator        7200 non-null   int64  \n",
            " 46  Storage             7200 non-null   int64  \n",
            " 47  TV                  7200 non-null   int64  \n",
            " 48  Tennis              7200 non-null   int64  \n",
            " 49  View                7200 non-null   int64  \n",
            " 50  Washer Dryer        7200 non-null   int64  \n",
            " 51  Wood Floors         7200 non-null   int64  \n",
            " 52  none                7200 non-null   int64  \n",
            "dtypes: float64(2), int64(46), object(5)\n",
            "memory usage: 3.0+ MB\n",
            "None\n"
          ]
        }
      ],
      "source": [
        "def encoding_categorical_data(X_train):\n",
        "  columns_to_one_hot_encoded = ['has_photo', 'source']\n",
        "\n",
        "  #grouping the other sources below the top two into single category 'Other'\n",
        "\n",
        "  source_counts = X_train['source'].value_counts()\n",
        "\n",
        "  top_two = source_counts.head(2).index.tolist()\n",
        "\n",
        "  mask = ~X_train['source'].isin(top_two)\n",
        "\n",
        "  X_train.loc[mask, 'source'] = 'Other'\n",
        "\n",
        "  encoded_dfs = []\n",
        "  for column in columns_to_one_hot_encoded:\n",
        "\n",
        "      one_hot_encoded = pd.get_dummies(X_train[column])\n",
        "      one_hot_encoded = one_hot_encoded.astype(int)\n",
        "      encoded_dfs.append(one_hot_encoded)\n",
        "\n",
        "  encoded_data = pd.concat([X_train] + encoded_dfs, axis=1)\n",
        "  encoded_data.drop(columns=columns_to_one_hot_encoded, axis=1, inplace=True)\n",
        "  X_train = encoded_data\n",
        "\n",
        "\n",
        "  one_hot_encoded1 = X_train['pets_allowed'].str.get_dummies(sep=',')\n",
        "\n",
        "\n",
        "  X_train = pd.concat([X_train, one_hot_encoded1], axis=1)\n",
        "  X_train.drop('pets_allowed', axis=1, inplace=True)\n",
        "\n",
        "\n",
        "  one_hot_encoded2 = X_train['amenities'].str.get_dummies(sep=',')\n",
        "\n",
        "  X_train = pd.concat([X_train, one_hot_encoded2], axis=1)\n",
        "  X_train.drop('amenities', axis=1, inplace=True)\n",
        "\n",
        "  print(X_train.info())\n",
        "\n",
        "  return X_train\n",
        "\n",
        "\n",
        "X_train = encoding_categorical_data(X_train)"
      ]
    },
    {
      "cell_type": "code",
      "source": [
        "print(X_train.info())"
      ],
      "metadata": {
        "id": "nHR00Re8Vrvz",
        "colab": {
          "base_uri": "https://localhost:8080/"
        },
        "outputId": "dbb6f79c-d515-4676-ffa4-ac91a5717c8b"
      },
      "execution_count": null,
      "outputs": [
        {
          "output_type": "stream",
          "name": "stdout",
          "text": [
            "<class 'pandas.core.frame.DataFrame'>\n",
            "Index: 7200 entries, 5250 to 1289\n",
            "Data columns (total 53 columns):\n",
            " #   Column              Non-Null Count  Dtype  \n",
            "---  ------              --------------  -----  \n",
            " 0   id                  7200 non-null   int64  \n",
            " 1   category            7200 non-null   int64  \n",
            " 2   title               7200 non-null   object \n",
            " 3   body                7200 non-null   object \n",
            " 4   bathrooms           7200 non-null   int64  \n",
            " 5   bedrooms            7200 non-null   int64  \n",
            " 6   currency            7200 non-null   int64  \n",
            " 7   fee                 7200 non-null   int64  \n",
            " 8   price_type          7200 non-null   int64  \n",
            " 9   square_feet         7200 non-null   int64  \n",
            " 10  address             7200 non-null   object \n",
            " 11  cityname            7200 non-null   object \n",
            " 12  state               7200 non-null   object \n",
            " 13  latitude            7200 non-null   float64\n",
            " 14  longitude           7200 non-null   float64\n",
            " 15  time                7200 non-null   int64  \n",
            " 16  No                  7200 non-null   int64  \n",
            " 17  Thumbnail           7200 non-null   int64  \n",
            " 18  Yes                 7200 non-null   int64  \n",
            " 19  Other               7200 non-null   int64  \n",
            " 20  RentDigs.com        7200 non-null   int64  \n",
            " 21  RentLingo           7200 non-null   int64  \n",
            " 22  Cats                7200 non-null   int64  \n",
            " 23  Dogs                7200 non-null   int64  \n",
            " 24  none                7200 non-null   int64  \n",
            " 25  AC                  7200 non-null   int64  \n",
            " 26  Alarm               7200 non-null   int64  \n",
            " 27  Basketball          7200 non-null   int64  \n",
            " 28  Cable or Satellite  7200 non-null   int64  \n",
            " 29  Clubhouse           7200 non-null   int64  \n",
            " 30  Dishwasher          7200 non-null   int64  \n",
            " 31  Doorman             7200 non-null   int64  \n",
            " 32  Elevator            7200 non-null   int64  \n",
            " 33  Fireplace           7200 non-null   int64  \n",
            " 34  Garbage Disposal    7200 non-null   int64  \n",
            " 35  Gated               7200 non-null   int64  \n",
            " 36  Golf                7200 non-null   int64  \n",
            " 37  Gym                 7200 non-null   int64  \n",
            " 38  Hot Tub             7200 non-null   int64  \n",
            " 39  Internet Access     7200 non-null   int64  \n",
            " 40  Luxury              7200 non-null   int64  \n",
            " 41  Parking             7200 non-null   int64  \n",
            " 42  Patio/Deck          7200 non-null   int64  \n",
            " 43  Playground          7200 non-null   int64  \n",
            " 44  Pool                7200 non-null   int64  \n",
            " 45  Refrigerator        7200 non-null   int64  \n",
            " 46  Storage             7200 non-null   int64  \n",
            " 47  TV                  7200 non-null   int64  \n",
            " 48  Tennis              7200 non-null   int64  \n",
            " 49  View                7200 non-null   int64  \n",
            " 50  Washer Dryer        7200 non-null   int64  \n",
            " 51  Wood Floors         7200 non-null   int64  \n",
            " 52  none                7200 non-null   int64  \n",
            "dtypes: float64(2), int64(46), object(5)\n",
            "memory usage: 3.0+ MB\n",
            "None\n"
          ]
        }
      ]
    },
    {
      "cell_type": "code",
      "execution_count": null,
      "metadata": {
        "colab": {
          "base_uri": "https://localhost:8080/"
        },
        "id": "7U26-gtWfawl",
        "outputId": "3518ded4-84bc-439b-eb7f-7219b4becf82"
      },
      "outputs": [
        {
          "output_type": "stream",
          "name": "stdout",
          "text": [
            "id\n",
            "category\n",
            "title\n",
            "body\n",
            "bathrooms\n",
            "bedrooms\n",
            "currency\n",
            "fee\n",
            "price_type\n",
            "square_feet\n",
            "address\n",
            "cityname\n",
            "state\n",
            "latitude\n",
            "longitude\n",
            "time\n",
            "No\n",
            "Thumbnail\n",
            "Yes\n",
            "Other\n",
            "RentDigs.com\n",
            "RentLingo\n",
            "Cats\n",
            "Dogs\n",
            "none\n",
            "AC\n",
            "Alarm\n",
            "Basketball\n",
            "Cable or Satellite\n",
            "Clubhouse\n",
            "Dishwasher\n",
            "Doorman\n",
            "Elevator\n",
            "Fireplace\n",
            "Garbage Disposal\n",
            "Gated\n",
            "Golf\n",
            "Gym\n",
            "Hot Tub\n",
            "Internet Access\n",
            "Luxury\n",
            "Parking\n",
            "Patio/Deck\n",
            "Playground\n",
            "Pool\n",
            "Refrigerator\n",
            "Storage\n",
            "TV\n",
            "Tennis\n",
            "View\n",
            "Washer Dryer\n",
            "Wood Floors\n",
            "none\n"
          ]
        }
      ],
      "source": [
        "for column in X_train.columns:\n",
        "    print(column)"
      ]
    },
    {
      "cell_type": "code",
      "source": [
        "y_train = pd.DataFrame(y_train, columns=['price_display'])\n",
        "\n",
        "# Now you can use value_counts() method\n",
        "print(y_train['price_display'].value_counts())"
      ],
      "metadata": {
        "id": "Mjj1oM4lVC0C",
        "colab": {
          "base_uri": "https://localhost:8080/"
        },
        "outputId": "4514f61b-41d7-488d-b541-c1880d2fd4a9"
      },
      "execution_count": null,
      "outputs": [
        {
          "output_type": "stream",
          "name": "stdout",
          "text": [
            "price_display\n",
            "560     66\n",
            "676     59\n",
            "640     59\n",
            "233     57\n",
            "434     57\n",
            "        ..\n",
            "1449     1\n",
            "54       1\n",
            "208      1\n",
            "1270     1\n",
            "1303     1\n",
            "Name: count, Length: 1489, dtype: int64\n"
          ]
        }
      ]
    },
    {
      "cell_type": "code",
      "execution_count": null,
      "metadata": {
        "colab": {
          "base_uri": "https://localhost:8080/"
        },
        "id": "haJNXpqb0EC8",
        "outputId": "3861877b-1ff9-426e-b1c0-1a0252b8c5a9"
      },
      "outputs": [
        {
          "output_type": "stream",
          "name": "stdout",
          "text": [
            "      aace  abbey  abbeybille  abbott  abbotts  abc  aberdeen  abide  abilene  \\\n",
            "0      0.0    0.0         0.0     0.0      0.0  0.0       0.0    0.0      0.0   \n",
            "1      0.0    0.0         0.0     0.0      0.0  0.0       0.0    0.0      0.0   \n",
            "2      0.0    0.0         0.0     0.0      0.0  0.0       0.0    0.0      0.0   \n",
            "3      0.0    0.0         0.0     0.0      0.0  0.0       0.0    0.0      0.0   \n",
            "4      0.0    0.0         0.0     0.0      0.0  0.0       0.0    0.0      0.0   \n",
            "...    ...    ...         ...     ...      ...  ...       ...    ...      ...   \n",
            "7195   0.0    0.0         0.0     0.0      0.0  0.0       0.0    0.0      0.0   \n",
            "7196   0.0    0.0         0.0     0.0      0.0  0.0       0.0    0.0      0.0   \n",
            "7197   0.0    0.0         0.0     0.0      0.0  0.0       0.0    0.0      0.0   \n",
            "7198   0.0    0.0         0.0     0.0      0.0  0.0       0.0    0.0      0.0   \n",
            "7199   0.0    0.0         0.0     0.0      0.0  0.0       0.0    0.0      0.0   \n",
            "\n",
            "      ability  ...  zipcar  zocolo  zoe  zola  zone  zoned  zones  zoning  \\\n",
            "0         0.0  ...     0.0     0.0  0.0   0.0   0.0    0.0    0.0     0.0   \n",
            "1         0.0  ...     0.0     0.0  0.0   0.0   0.0    0.0    0.0     0.0   \n",
            "2         0.0  ...     0.0     0.0  0.0   0.0   0.0    0.0    0.0     0.0   \n",
            "3         0.0  ...     0.0     0.0  0.0   0.0   0.0    0.0    0.0     0.0   \n",
            "4         0.0  ...     0.0     0.0  0.0   0.0   0.0    0.0    0.0     0.0   \n",
            "...       ...  ...     ...     ...  ...   ...   ...    ...    ...     ...   \n",
            "7195      0.0  ...     0.0     0.0  0.0   0.0   0.0    0.0    0.0     0.0   \n",
            "7196      0.0  ...     0.0     0.0  0.0   0.0   0.0    0.0    0.0     0.0   \n",
            "7197      0.0  ...     0.0     0.0  0.0   0.0   0.0    0.0    0.0     0.0   \n",
            "7198      0.0  ...     0.0     0.0  0.0   0.0   0.0    0.0    0.0     0.0   \n",
            "7199      0.0  ...     0.0     0.0  0.0   0.0   0.0    0.0    0.0     0.0   \n",
            "\n",
            "      zoo  zumba  \n",
            "0     0.0    0.0  \n",
            "1     0.0    0.0  \n",
            "2     0.0    0.0  \n",
            "3     0.0    0.0  \n",
            "4     0.0    0.0  \n",
            "...   ...    ...  \n",
            "7195  0.0    0.0  \n",
            "7196  0.0    0.0  \n",
            "7197  0.0    0.0  \n",
            "7198  0.0    0.0  \n",
            "7199  0.0    0.0  \n",
            "\n",
            "[7200 rows x 9952 columns]\n"
          ]
        }
      ],
      "source": [
        "X_train['body'] = X_train['body'].astype(str)\n",
        "stop_words = set(stopwords.words('english'))\n",
        "\n",
        "def preprocess(text):\n",
        "    tokens = word_tokenize(text)\n",
        "    filtered_tokens = [word.lower() for word in tokens if word.isalpha()]\n",
        "    filtered_tokens = [word for word in filtered_tokens if word not in stop_words]\n",
        "    return \" \".join(filtered_tokens)\n",
        "\n",
        "preprocessed_corpus = [preprocess(row) for row in X_train['body']]\n",
        "\n",
        "tfidf_vectorizer = TfidfVectorizer()\n",
        "tfidf_matrix = tfidf_vectorizer.fit_transform(preprocessed_corpus)\n",
        "tfidf_df = pd.DataFrame(tfidf_matrix.toarray(), columns=tfidf_vectorizer.get_feature_names_out())\n",
        "\n",
        "print(tfidf_df)\n"
      ]
    },
    {
      "cell_type": "code",
      "execution_count": null,
      "metadata": {
        "colab": {
          "base_uri": "https://localhost:8080/"
        },
        "id": "62Vj8ra60fSM",
        "outputId": "ec25fe90-c9c9-470b-8fba-fb7a991c6fcf"
      },
      "outputs": [
        {
          "output_type": "stream",
          "name": "stdout",
          "text": [
            "Top 60 most important words:\n",
            "available     487.321045\n",
            "range         481.211032\n",
            "rates         473.964654\n",
            "rental        470.907855\n",
            "units         451.581014\n",
            "unit          449.502632\n",
            "rent          446.477656\n",
            "located       442.545698\n",
            "beds          431.910209\n",
            "apartment     308.922511\n",
            "one           291.793091\n",
            "two           254.456530\n",
            "features      245.902710\n",
            "include       243.666641\n",
            "txmonthly     223.068920\n",
            "fitness       185.904667\n",
            "balcony       180.911119\n",
            "deck          180.511179\n",
            "three         173.663574\n",
            "street        157.383036\n",
            "bedrooms      152.879513\n",
            "bd            149.762652\n",
            "amenities     147.278462\n",
            "studio        145.885943\n",
            "austin        137.100679\n",
            "st            135.477588\n",
            "camonthly     135.360344\n",
            "ave           125.761273\n",
            "square        120.928639\n",
            "sheltered     116.776323\n",
            "apartments    109.875616\n",
            "community     106.668892\n",
            "drive         104.974107\n",
            "bus           102.611321\n",
            "air            98.655362\n",
            "living         98.091528\n",
            "surface        94.992563\n",
            "controlled     93.092976\n",
            "laundry        92.936299\n",
            "income         91.139384\n",
            "avenue         89.891186\n",
            "garbage        88.967657\n",
            "feet           88.089525\n",
            "san            87.943164\n",
            "facilities     83.104630\n",
            "parking        82.854559\n",
            "home           79.039765\n",
            "water          78.103808\n",
            "new            77.124136\n",
            "pool           74.431289\n",
            "park           73.621836\n",
            "wamonthly      70.344754\n",
            "city           69.233609\n",
            "dishwasher     68.976498\n",
            "access         68.405366\n",
            "ilmonthly      67.784413\n",
            "pet            67.781972\n",
            "area           67.594966\n",
            "road           67.573929\n",
            "west           62.353873\n",
            "dtype: float64\n"
          ]
        }
      ],
      "source": [
        "word_scores = tfidf_df.sum()\n",
        "sorted_words = word_scores.sort_values(ascending=False)\n",
        "N = 60\n",
        "top_n_words = sorted_words.head(N)\n",
        "print(\"Top\", N, \"most important words:\")\n",
        "print(top_n_words)"
      ]
    },
    {
      "cell_type": "code",
      "execution_count": null,
      "metadata": {
        "colab": {
          "base_uri": "https://localhost:8080/"
        },
        "id": "CWwfyNnZ6u_H",
        "outputId": "c4f63153-c67e-41eb-b44f-58a443e04869"
      },
      "outputs": [
        {
          "output_type": "stream",
          "name": "stdout",
          "text": [
            "Length of X_train: 7200\n"
          ]
        }
      ],
      "source": [
        "word = 'available'\n",
        "X_train['available'] = X_train['body'].apply(lambda x: 1 if word in x else 0)\n",
        "X_train['available']\n",
        "\n",
        "word = 'community'\n",
        "X_train['community'] = X_train['body'].apply(lambda x: 1 if word in x else 0)\n",
        "X_train['community']\n",
        "\n",
        "word = 'features'\n",
        "X_train['features'] = X_train['body'].apply(lambda x: 1 if word in x else 0)\n",
        "X_train['features']\n",
        "\n",
        "word = 'include'\n",
        "X_train['include'] = X_train['body'].apply(lambda x: 1 if word in x else 0)\n",
        "X_train['include']\n",
        "\n",
        "\n",
        "print(f\"Length of X_train: {len(X_train)}\")"
      ]
    },
    {
      "cell_type": "code",
      "execution_count": null,
      "metadata": {
        "id": "kyry5z8_Qafr"
      },
      "outputs": [],
      "source": [
        "import pandas as pd\n",
        "from category_encoders import CatBoostEncoder\n",
        "\n",
        "# Reset indexes of X_train and y_train\n",
        "X_train.reset_index(drop=True, inplace=True)\n",
        "y_train.reset_index(drop=True, inplace=True)\n",
        "\n",
        "cat_encoder = CatBoostEncoder()\n",
        "\n",
        "columns_to_target_encode = ['state', 'cityname', 'body', 'title', 'address']\n",
        "\n",
        "cat_encoder.fit(X_train[columns_to_target_encode], y_train)\n",
        "\n",
        "encoded_data = cat_encoder.transform(data[columns_to_target_encode])\n",
        "\n",
        "X_train[columns_to_target_encode] = encoded_data\n"
      ]
    },
    {
      "cell_type": "code",
      "execution_count": null,
      "metadata": {
        "colab": {
          "base_uri": "https://localhost:8080/"
        },
        "id": "VcTX9xDJbjsg",
        "outputId": "48e51ffd-1cbb-4ef4-df24-c93d31e929ee"
      },
      "outputs": [
        {
          "output_type": "stream",
          "name": "stdout",
          "text": [
            "0        531.422132\n",
            "1        743.421929\n",
            "2        489.392083\n",
            "3        323.214928\n",
            "4       1173.838831\n",
            "           ...     \n",
            "7195     866.647031\n",
            "7196     520.591911\n",
            "7197     484.871648\n",
            "7198     294.044062\n",
            "7199     976.529375\n",
            "Name: cityname, Length: 7200, dtype: float64\n"
          ]
        }
      ],
      "source": [
        "print(X_train['cityname'])"
      ]
    },
    {
      "cell_type": "code",
      "source": [
        "print(X_train.columns)\n",
        "print(y_train)"
      ],
      "metadata": {
        "id": "HGDHskhSZlFf",
        "colab": {
          "base_uri": "https://localhost:8080/"
        },
        "outputId": "60e16e22-de8e-49a5-84f5-e6e3012af4c6"
      },
      "execution_count": null,
      "outputs": [
        {
          "output_type": "stream",
          "name": "stdout",
          "text": [
            "Index(['id', 'category', 'title', 'body', 'bathrooms', 'bedrooms', 'currency',\n",
            "       'fee', 'price_type', 'square_feet', 'address', 'cityname', 'state',\n",
            "       'latitude', 'longitude', 'time', 'No', 'Thumbnail', 'Yes', 'Other',\n",
            "       'RentDigs.com', 'RentLingo', 'Cats', 'Dogs', 'none', 'AC', 'Alarm',\n",
            "       'Basketball', 'Cable or Satellite', 'Clubhouse', 'Dishwasher',\n",
            "       'Doorman', 'Elevator', 'Fireplace', 'Garbage Disposal', 'Gated', 'Golf',\n",
            "       'Gym', 'Hot Tub', 'Internet Access', 'Luxury', 'Parking', 'Patio/Deck',\n",
            "       'Playground', 'Pool', 'Refrigerator', 'Storage', 'TV', 'Tennis', 'View',\n",
            "       'Washer Dryer', 'Wood Floors', 'none', 'available', 'community',\n",
            "       'features', 'include'],\n",
            "      dtype='object')\n",
            "      price_display\n",
            "0               357\n",
            "1              1238\n",
            "2               560\n",
            "3               560\n",
            "4               313\n",
            "...             ...\n",
            "7195            624\n",
            "7196            263\n",
            "7197            228\n",
            "7198            115\n",
            "7199            260\n",
            "\n",
            "[7200 rows x 1 columns]\n"
          ]
        }
      ]
    },
    {
      "cell_type": "code",
      "execution_count": null,
      "metadata": {
        "id": "ali09wz2ZwzK"
      },
      "outputs": [],
      "source": [
        "#outlier detection:\n",
        "# z_scores = np.abs(stats.zscore(data))\n",
        "# threshold = 4\n",
        "# outlier_rows = np.any(z_scores > threshold, axis=1)\n",
        "# data[outlier_rows].shape"
      ]
    },
    {
      "cell_type": "code",
      "execution_count": null,
      "metadata": {
        "id": "2H4Sm0jYlogA"
      },
      "outputs": [],
      "source": [
        "# data = data[~outlier_rows]"
      ]
    },
    {
      "cell_type": "code",
      "execution_count": null,
      "metadata": {
        "id": "z2WiE03XDQwS"
      },
      "outputs": [],
      "source": [
        "# columns_to_normalize = ['id', 'title', 'body','square_feet','bathrooms', 'bedrooms', 'latitude', 'longitude', 'time', 'price', 'address', 'cityname', 'state']\n",
        "# scaler = MinMaxScaler()\n",
        "# data[columns_to_normalize] = scaler.fit_transform(data[columns_to_normalize])\n",
        "# data.head()"
      ]
    },
    {
      "cell_type": "code",
      "execution_count": null,
      "metadata": {
        "colab": {
          "base_uri": "https://localhost:8080/"
        },
        "id": "B1EFO7IudLwI",
        "outputId": "853706cc-92ad-4f56-b0b3-d92b31c69447"
      },
      "outputs": [
        {
          "output_type": "stream",
          "name": "stdout",
          "text": [
            "           id  category      title       body  bathrooms  bedrooms  currency  \\\n",
            "0  5664597463         0  618.17625  618.17625          1         1         0   \n",
            "1  5668619766         0  618.17625  618.17625          3         3         0   \n",
            "2  5664579882         0  618.17625  618.17625          1         1         0   \n",
            "3  5668613635         0  618.17625  618.17625          1         1         0   \n",
            "4  5668618795         0  618.17625  618.17625          1         1         0   \n",
            "\n",
            "   fee  price_type  square_feet  ...  TV  Tennis  View  Washer Dryer  \\\n",
            "0    0           0          516  ...   0       0     0             0   \n",
            "1    0           0         1850  ...   0       0     0             0   \n",
            "2    0           0          556  ...   0       0     0             0   \n",
            "3    0           0          675  ...   0       0     0             0   \n",
            "4    0           0          410  ...   0       0     0             0   \n",
            "\n",
            "   Wood Floors  none  available  community  features  include  \n",
            "0            0     1          1          0         0        0  \n",
            "1            0     0          1          0         1        1  \n",
            "2            0     0          1          0         0        0  \n",
            "3            0     0          1          0         1        1  \n",
            "4            0     0          1          0         1        1  \n",
            "\n",
            "[5 rows x 57 columns]\n"
          ]
        }
      ],
      "source": [
        "#print(data['state'])\n",
        "#data = pd.DataFrame(data)\n",
        "print(X_train.head())"
      ]
    },
    {
      "cell_type": "code",
      "execution_count": null,
      "metadata": {
        "id": "p1sCXgzdQ--V"
      },
      "outputs": [],
      "source": [
        "# X = data.drop('price', axis=1)\n",
        "# X = X.drop('price_display', axis=1)\n",
        "# Y = data['price_display']"
      ]
    },
    {
      "cell_type": "code",
      "execution_count": null,
      "metadata": {
        "colab": {
          "base_uri": "https://localhost:8080/"
        },
        "id": "zERf927YZURQ",
        "outputId": "a2d9c000-38ad-4950-e456-4c3bb293f207"
      },
      "outputs": [
        {
          "output_type": "stream",
          "name": "stdout",
          "text": [
            "Index(['id', 'category', 'title', 'body', 'bathrooms', 'bedrooms', 'currency',\n",
            "       'fee', 'price_type', 'square_feet', 'address', 'cityname', 'state',\n",
            "       'latitude', 'longitude', 'time', 'No', 'Thumbnail', 'Yes', 'Other',\n",
            "       'RentDigs.com', 'RentLingo', 'Cats', 'Dogs', 'none', 'AC', 'Alarm',\n",
            "       'Basketball', 'Cable or Satellite', 'Clubhouse', 'Dishwasher',\n",
            "       'Doorman', 'Elevator', 'Fireplace', 'Garbage Disposal', 'Gated', 'Golf',\n",
            "       'Gym', 'Hot Tub', 'Internet Access', 'Luxury', 'Parking', 'Patio/Deck',\n",
            "       'Playground', 'Pool', 'Refrigerator', 'Storage', 'TV', 'Tennis', 'View',\n",
            "       'Washer Dryer', 'Wood Floors', 'none', 'available', 'community',\n",
            "       'features', 'include'],\n",
            "      dtype='object')\n",
            "      price_display\n",
            "0               357\n",
            "1              1238\n",
            "2               560\n",
            "3               560\n",
            "4               313\n",
            "...             ...\n",
            "7195            624\n",
            "7196            263\n",
            "7197            228\n",
            "7198            115\n",
            "7199            260\n",
            "\n",
            "[7200 rows x 1 columns]\n"
          ]
        }
      ],
      "source": [
        "print(X_train.columns)\n",
        "print(y_train)"
      ]
    },
    {
      "cell_type": "code",
      "source": [
        "print(X_train.info())"
      ],
      "metadata": {
        "id": "XBE6q4T8Ztom",
        "colab": {
          "base_uri": "https://localhost:8080/"
        },
        "outputId": "7ef78d5d-e4e8-47a2-a3bd-539a6d6d6d4e"
      },
      "execution_count": null,
      "outputs": [
        {
          "output_type": "stream",
          "name": "stdout",
          "text": [
            "<class 'pandas.core.frame.DataFrame'>\n",
            "RangeIndex: 7200 entries, 0 to 7199\n",
            "Data columns (total 57 columns):\n",
            " #   Column              Non-Null Count  Dtype  \n",
            "---  ------              --------------  -----  \n",
            " 0   id                  7200 non-null   int64  \n",
            " 1   category            7200 non-null   int64  \n",
            " 2   title               7200 non-null   float64\n",
            " 3   body                7200 non-null   float64\n",
            " 4   bathrooms           7200 non-null   int64  \n",
            " 5   bedrooms            7200 non-null   int64  \n",
            " 6   currency            7200 non-null   int64  \n",
            " 7   fee                 7200 non-null   int64  \n",
            " 8   price_type          7200 non-null   int64  \n",
            " 9   square_feet         7200 non-null   int64  \n",
            " 10  address             7200 non-null   float64\n",
            " 11  cityname            7200 non-null   float64\n",
            " 12  state               7200 non-null   float64\n",
            " 13  latitude            7200 non-null   float64\n",
            " 14  longitude           7200 non-null   float64\n",
            " 15  time                7200 non-null   int64  \n",
            " 16  No                  7200 non-null   int64  \n",
            " 17  Thumbnail           7200 non-null   int64  \n",
            " 18  Yes                 7200 non-null   int64  \n",
            " 19  Other               7200 non-null   int64  \n",
            " 20  RentDigs.com        7200 non-null   int64  \n",
            " 21  RentLingo           7200 non-null   int64  \n",
            " 22  Cats                7200 non-null   int64  \n",
            " 23  Dogs                7200 non-null   int64  \n",
            " 24  none                7200 non-null   int64  \n",
            " 25  AC                  7200 non-null   int64  \n",
            " 26  Alarm               7200 non-null   int64  \n",
            " 27  Basketball          7200 non-null   int64  \n",
            " 28  Cable or Satellite  7200 non-null   int64  \n",
            " 29  Clubhouse           7200 non-null   int64  \n",
            " 30  Dishwasher          7200 non-null   int64  \n",
            " 31  Doorman             7200 non-null   int64  \n",
            " 32  Elevator            7200 non-null   int64  \n",
            " 33  Fireplace           7200 non-null   int64  \n",
            " 34  Garbage Disposal    7200 non-null   int64  \n",
            " 35  Gated               7200 non-null   int64  \n",
            " 36  Golf                7200 non-null   int64  \n",
            " 37  Gym                 7200 non-null   int64  \n",
            " 38  Hot Tub             7200 non-null   int64  \n",
            " 39  Internet Access     7200 non-null   int64  \n",
            " 40  Luxury              7200 non-null   int64  \n",
            " 41  Parking             7200 non-null   int64  \n",
            " 42  Patio/Deck          7200 non-null   int64  \n",
            " 43  Playground          7200 non-null   int64  \n",
            " 44  Pool                7200 non-null   int64  \n",
            " 45  Refrigerator        7200 non-null   int64  \n",
            " 46  Storage             7200 non-null   int64  \n",
            " 47  TV                  7200 non-null   int64  \n",
            " 48  Tennis              7200 non-null   int64  \n",
            " 49  View                7200 non-null   int64  \n",
            " 50  Washer Dryer        7200 non-null   int64  \n",
            " 51  Wood Floors         7200 non-null   int64  \n",
            " 52  none                7200 non-null   int64  \n",
            " 53  available           7200 non-null   int64  \n",
            " 54  community           7200 non-null   int64  \n",
            " 55  features            7200 non-null   int64  \n",
            " 56  include             7200 non-null   int64  \n",
            "dtypes: float64(7), int64(50)\n",
            "memory usage: 3.1 MB\n",
            "None\n"
          ]
        }
      ]
    },
    {
      "cell_type": "code",
      "execution_count": null,
      "metadata": {
        "id": "AWL3xt6km9Qi"
      },
      "outputs": [],
      "source": [
        "# from sklearn.feature_selection import SelectKBest, chi2\n",
        "# from sklearn.feature_selection import f_classif\n",
        "# k = 5\n",
        "# selector = SelectKBest(score_func=f_classif, k=k)\n",
        "# selector.fit(X_train, y_train)\n",
        "# X_selected = selector.transform(X_train)\n",
        "\n",
        "# # Get the indices of the selected features\n",
        "# selected_feature_indices = selector.get_support(indices=True)\n",
        "# selected_feature_names = X_train.columns[selected_feature_indices]\n",
        "\n",
        "# print(\"Selected Features:\", selected_feature_names)"
      ]
    },
    {
      "cell_type": "code",
      "source": [
        "corr_with_price = X_train.corrwith(y_train['price_display'])\n",
        "print(corr_with_price)\n",
        "#plt.subplots(figsize=(12, 8)\n",
        "corr = X_train.corr()\n",
        "top_features = corr_with_price.abs() > 0.16 #& (corr['price_display'].abs() < 0.9)\n",
        "plt.subplots(figsize=(12, 8))\n",
        "top_corr =  X_train.loc[:, top_features].corr()\n",
        "sns.heatmap(top_corr, annot=True)\n",
        "X_train_selected = X_train.loc[:, top_features]\n",
        "\n",
        "X_train = X_train_selected"
      ],
      "metadata": {
        "colab": {
          "base_uri": "https://localhost:8080/",
          "height": 1000
        },
        "id": "iIUEmlPMx4tt",
        "outputId": "02256f06-5d8e-421d-efa6-3c3006a1a7ee"
      },
      "execution_count": null,
      "outputs": [
        {
          "output_type": "stream",
          "name": "stdout",
          "text": [
            "id                   -0.074965\n",
            "category             -0.023351\n",
            "title                -0.012330\n",
            "body                  0.010139\n",
            "bathrooms             0.424248\n",
            "bedrooms              0.424248\n",
            "currency                   NaN\n",
            "fee                        NaN\n",
            "price_type           -0.003968\n",
            "square_feet           0.361372\n",
            "address               0.002441\n",
            "cityname             -0.004609\n",
            "state                -0.003734\n",
            "latitude              0.068242\n",
            "longitude            -0.185505\n",
            "time                 -0.075895\n",
            "No                    0.034354\n",
            "Thumbnail            -0.052123\n",
            "Yes                   0.040400\n",
            "Other                 0.004952\n",
            "RentDigs.com          0.071917\n",
            "RentLingo            -0.071508\n",
            "Cats                 -0.046440\n",
            "Dogs                 -0.012899\n",
            "none                  0.026009\n",
            "AC                    0.000085\n",
            "Alarm                 0.003463\n",
            "Basketball           -0.046887\n",
            "Cable or Satellite   -0.123382\n",
            "Clubhouse            -0.061866\n",
            "Dishwasher           -0.113236\n",
            "Doorman               0.028091\n",
            "Elevator              0.070022\n",
            "Fireplace            -0.019269\n",
            "Garbage Disposal     -0.132643\n",
            "Gated                -0.000538\n",
            "Golf                  0.004709\n",
            "Gym                   0.050127\n",
            "Hot Tub               0.016327\n",
            "Internet Access      -0.071479\n",
            "Luxury                0.016522\n",
            "Parking              -0.094562\n",
            "Patio/Deck           -0.096851\n",
            "Playground           -0.103975\n",
            "Pool                 -0.108900\n",
            "Refrigerator         -0.107820\n",
            "Storage              -0.036493\n",
            "TV                    0.014905\n",
            "Tennis               -0.046427\n",
            "View                  0.038298\n",
            "Washer Dryer          0.006310\n",
            "Wood Floors           0.063706\n",
            "none                  0.123417\n",
            "available            -0.019194\n",
            "community             0.023130\n",
            "features             -0.145811\n",
            "include              -0.129602\n",
            "dtype: float64\n"
          ]
        },
        {
          "output_type": "display_data",
          "data": {
            "text/plain": [
              "<Figure size 1200x800 with 2 Axes>"
            ],
            "image/png": "[encoded data removed]"
          },
          "metadata": {}
        }
      ]
    },
    {
      "cell_type": "code",
      "execution_count": null,
      "metadata": {
        "id": "gju5Uq6j_aBd"
      },
      "outputs": [],
      "source": [
        "# def selector_corr(X_train, y_train):\n",
        "#     corr_with_price = X_train.corrwith(y_train['price_display'])\n",
        "#     print(corr_with_price)\n",
        "#     #plt.subplots(figsize=(12, 8)\n",
        "#     corr = X_train.corr()\n",
        "#     top_features = corr_with_price.abs() > 0.16 #& (corr['price_display'].abs() < 0.9)\n",
        "#     plt.subplots(figsize=(12, 8))\n",
        "#     top_corr =  X_train.loc[:, top_features].corr()\n",
        "#     sns.heatmap(top_corr, annot=True)\n",
        "#     X_train = X_train.loc[:, top_features]\n",
        "#     return X_train\n",
        "\n",
        "# X_train = selector_corr(X_train, y_train)"
      ]
    },
    {
      "cell_type": "code",
      "execution_count": null,
      "metadata": {
        "colab": {
          "base_uri": "https://localhost:8080/"
        },
        "id": "GvBj7-6sHSd4",
        "outputId": "3dfbf3db-7f98-451f-d66e-b0c225205ac8"
      },
      "outputs": [
        {
          "output_type": "stream",
          "name": "stdout",
          "text": [
            "<class 'pandas.core.frame.DataFrame'>\n",
            "RangeIndex: 7200 entries, 0 to 7199\n",
            "Data columns (total 4 columns):\n",
            " #   Column       Non-Null Count  Dtype  \n",
            "---  ------       --------------  -----  \n",
            " 0   bathrooms    7200 non-null   int64  \n",
            " 1   bedrooms     7200 non-null   int64  \n",
            " 2   square_feet  7200 non-null   int64  \n",
            " 3   longitude    7200 non-null   float64\n",
            "dtypes: float64(1), int64(3)\n",
            "memory usage: 225.1 KB\n"
          ]
        }
      ],
      "source": [
        "\n",
        "# X_train, X_test, y_train, y_test = train_test_split(X, Y, test_size = 0.20,shuffle=True,random_state=10)\n",
        "# print(X_train)\n",
        "# print(y_train)\n",
        "X_train.info()"
      ]
    },
    {
      "cell_type": "code",
      "execution_count": null,
      "metadata": {
        "colab": {
          "base_uri": "https://localhost:8080/",
          "height": 423
        },
        "id": "EHQ4sMFxXv6X",
        "outputId": "ab434458-b6a7-431d-ae2a-55a8d2beeeb5"
      },
      "outputs": [
        {
          "output_type": "execute_result",
          "data": {
            "text/plain": [
              "      bathrooms  bedrooms  square_feet  longitude\n",
              "0             1         1          516   -97.7497\n",
              "1             3         3         1850   -86.5136\n",
              "2             1         1          556   -87.9659\n",
              "3             1         1          675   -84.3753\n",
              "4             1         1          410   -79.9725\n",
              "...         ...       ...          ...        ...\n",
              "7195          2         2         1036   -82.7277\n",
              "7196          1         1          900   -76.6126\n",
              "7197          1         1          902  -117.4018\n",
              "7198          1         1          250  -111.8902\n",
              "7199          1         1         1050   -79.7631\n",
              "\n",
              "[7200 rows x 4 columns]"
            ],
            "text/html": [
              "\n",
              "  <div id=\"df-3a97958e-6e4b-4b30-8896-0f03a3ebe01d\" class=\"colab-df-container\">\n",
              "    <div>\n",
              "<style scoped>\n",
              "    .dataframe tbody tr th:only-of-type {\n",
              "        vertical-align: middle;\n",
              "    }\n",
              "\n",
              "    .dataframe tbody tr th {\n",
              "        vertical-align: top;\n",
              "    }\n",
              "\n",
              "    .dataframe thead th {\n",
              "        text-align: right;\n",
              "    }\n",
              "</style>\n",
              "<table border=\"1\" class=\"dataframe\">\n",
              "  <thead>\n",
              "    <tr style=\"text-align: right;\">\n",
              "      <th></th>\n",
              "      <th>bathrooms</th>\n",
              "      <th>bedrooms</th>\n",
              "      <th>square_feet</th>\n",
              "      <th>longitude</th>\n",
              "    </tr>\n",
              "  </thead>\n",
              "  <tbody>\n",
              "    <tr>\n",
              "      <th>0</th>\n",
              "      <td>1</td>\n",
              "      <td>1</td>\n",
              "      <td>516</td>\n",
              "      <td>-97.7497</td>\n",
              "    </tr>\n",
              "    <tr>\n",
              "      <th>1</th>\n",
              "      <td>3</td>\n",
              "      <td>3</td>\n",
              "      <td>1850</td>\n",
              "      <td>-86.5136</td>\n",
              "    </tr>\n",
              "    <tr>\n",
              "      <th>2</th>\n",
              "      <td>1</td>\n",
              "      <td>1</td>\n",
              "      <td>556</td>\n",
              "      <td>-87.9659</td>\n",
              "    </tr>\n",
              "    <tr>\n",
              "      <th>3</th>\n",
              "      <td>1</td>\n",
              "      <td>1</td>\n",
              "      <td>675</td>\n",
              "      <td>-84.3753</td>\n",
              "    </tr>\n",
              "    <tr>\n",
              "      <th>4</th>\n",
              "      <td>1</td>\n",
              "      <td>1</td>\n",
              "      <td>410</td>\n",
              "      <td>-79.9725</td>\n",
              "    </tr>\n",
              "    <tr>\n",
              "      <th>...</th>\n",
              "      <td>...</td>\n",
              "      <td>...</td>\n",
              "      <td>...</td>\n",
              "      <td>...</td>\n",
              "    </tr>\n",
              "    <tr>\n",
              "      <th>7195</th>\n",
              "      <td>2</td>\n",
              "      <td>2</td>\n",
              "      <td>1036</td>\n",
              "      <td>-82.7277</td>\n",
              "    </tr>\n",
              "    <tr>\n",
              "      <th>7196</th>\n",
              "      <td>1</td>\n",
              "      <td>1</td>\n",
              "      <td>900</td>\n",
              "      <td>-76.6126</td>\n",
              "    </tr>\n",
              "    <tr>\n",
              "      <th>7197</th>\n",
              "      <td>1</td>\n",
              "      <td>1</td>\n",
              "      <td>902</td>\n",
              "      <td>-117.4018</td>\n",
              "    </tr>\n",
              "    <tr>\n",
              "      <th>7198</th>\n",
              "      <td>1</td>\n",
              "      <td>1</td>\n",
              "      <td>250</td>\n",
              "      <td>-111.8902</td>\n",
              "    </tr>\n",
              "    <tr>\n",
              "      <th>7199</th>\n",
              "      <td>1</td>\n",
              "      <td>1</td>\n",
              "      <td>1050</td>\n",
              "      <td>-79.7631</td>\n",
              "    </tr>\n",
              "  </tbody>\n",
              "</table>\n",
              "<p>7200 rows × 4 columns</p>\n",
              "</div>\n",
              "    <div class=\"colab-df-buttons\">\n",
              "\n",
              "  <div class=\"colab-df-container\">\n",
              "    <button class=\"colab-df-convert\" onclick=\"convertToInteractive('df-3a97958e-6e4b-4b30-8896-0f03a3ebe01d')\"\n",
              "            title=\"Convert this dataframe to an interactive table.\"\n",
              "            style=\"display:none;\">\n",
              "\n",
              "  <svg xmlns=\"http://www.w3.org/2000/svg\" height=\"24px\" viewBox=\"0 -960 960 960\">\n",
              "    <path d=\"M120-120v-720h720v720H120Zm60-500h600v-160H180v160Zm220 220h160v-160H400v160Zm0 220h160v-160H400v160ZM180-400h160v-160H180v160Zm440 0h160v-160H620v160ZM180-180h160v-160H180v160Zm440 0h160v-160H620v160Z\"/>\n",
              "  </svg>\n",
              "    </button>\n",
              "\n",
              "  <style>\n",
              "    .colab-df-container {\n",
              "      display:flex;\n",
              "      gap: 12px;\n",
              "    }\n",
              "\n",
              "    .colab-df-convert {\n",
              "      background-color: #E8F0FE;\n",
              "      border: none;\n",
              "      border-radius: 50%;\n",
              "      cursor: pointer;\n",
              "      display: none;\n",
              "      fill: #1967D2;\n",
              "      height: 32px;\n",
              "      padding: 0 0 0 0;\n",
              "      width: 32px;\n",
              "    }\n",
              "\n",
              "    .colab-df-convert:hover {\n",
              "      background-color: #E2EBFA;\n",
              "      box-shadow: 0px 1px 2px rgba(60, 64, 67, 0.3), 0px 1px 3px 1px rgba(60, 64, 67, 0.15);\n",
              "      fill: #174EA6;\n",
              "    }\n",
              "\n",
              "    .colab-df-buttons div {\n",
              "      margin-bottom: 4px;\n",
              "    }\n",
              "\n",
              "    [theme=dark] .colab-df-convert {\n",
              "      background-color: #3B4455;\n",
              "      fill: #D2E3FC;\n",
              "    }\n",
              "\n",
              "    [theme=dark] .colab-df-convert:hover {\n",
              "      background-color: #434B5C;\n",
              "      box-shadow: 0px 1px 3px 1px rgba(0, 0, 0, 0.15);\n",
              "      filter: drop-shadow(0px 1px 2px rgba(0, 0, 0, 0.3));\n",
              "      fill: #FFFFFF;\n",
              "    }\n",
              "  </style>\n",
              "\n",
              "    <script>\n",
              "      const buttonEl =\n",
              "        document.querySelector('#df-3a97958e-6e4b-4b30-8896-0f03a3ebe01d button.colab-df-convert');\n",
              "      buttonEl.style.display =\n",
              "        google.colab.kernel.accessAllowed ? 'block' : 'none';\n",
              "\n",
              "      async function convertToInteractive(key) {\n",
              "        const element = document.querySelector('#df-3a97958e-6e4b-4b30-8896-0f03a3ebe01d');\n",
              "        const dataTable =\n",
              "          await google.colab.kernel.invokeFunction('convertToInteractive',\n",
              "                                                    [key], {});\n",
              "        if (!dataTable) return;\n",
              "\n",
              "        const docLinkHtml = 'Like what you see? Visit the ' +\n",
              "          '<a target=\"_blank\" href=https://colab.research.google.com/notebooks/data_table.ipynb>data table notebook</a>'\n",
              "          + ' to learn more about interactive tables.';\n",
              "        element.innerHTML = '';\n",
              "        dataTable['output_type'] = 'display_data';\n",
              "        await google.colab.output.renderOutput(dataTable, element);\n",
              "        const docLink = document.createElement('div');\n",
              "        docLink.innerHTML = docLinkHtml;\n",
              "        element.appendChild(docLink);\n",
              "      }\n",
              "    </script>\n",
              "  </div>\n",
              "\n",
              "\n",
              "<div id=\"df-1d92a926-c335-48aa-861a-b03c27d60506\">\n",
              "  <button class=\"colab-df-quickchart\" onclick=\"quickchart('df-1d92a926-c335-48aa-861a-b03c27d60506')\"\n",
              "            title=\"Suggest charts\"\n",
              "            style=\"display:none;\">\n",
              "\n",
              "<svg xmlns=\"http://www.w3.org/2000/svg\" height=\"24px\"viewBox=\"0 0 24 24\"\n",
              "     width=\"24px\">\n",
              "    <g>\n",
              "        <path d=\"M19 3H5c-1.1 0-2 .9-2 2v14c0 1.1.9 2 2 2h14c1.1 0 2-.9 2-2V5c0-1.1-.9-2-2-2zM9 17H7v-7h2v7zm4 0h-2V7h2v10zm4 0h-2v-4h2v4z\"/>\n",
              "    </g>\n",
              "</svg>\n",
              "  </button>\n",
              "\n",
              "<style>\n",
              "  .colab-df-quickchart {\n",
              "      --bg-color: #E8F0FE;\n",
              "      --fill-color: #1967D2;\n",
              "      --hover-bg-color: #E2EBFA;\n",
              "      --hover-fill-color: #174EA6;\n",
              "      --disabled-fill-color: #AAA;\n",
              "      --disabled-bg-color: #DDD;\n",
              "  }\n",
              "\n",
              "  [theme=dark] .colab-df-quickchart {\n",
              "      --bg-color: #3B4455;\n",
              "      --fill-color: #D2E3FC;\n",
              "      --hover-bg-color: #434B5C;\n",
              "      --hover-fill-color: #FFFFFF;\n",
              "      --disabled-bg-color: #3B4455;\n",
              "      --disabled-fill-color: #666;\n",
              "  }\n",
              "\n",
              "  .colab-df-quickchart {\n",
              "    background-color: var(--bg-color);\n",
              "    border: none;\n",
              "    border-radius: 50%;\n",
              "    cursor: pointer;\n",
              "    display: none;\n",
              "    fill: var(--fill-color);\n",
              "    height: 32px;\n",
              "    padding: 0;\n",
              "    width: 32px;\n",
              "  }\n",
              "\n",
              "  .colab-df-quickchart:hover {\n",
              "    background-color: var(--hover-bg-color);\n",
              "    box-shadow: 0 1px 2px rgba(60, 64, 67, 0.3), 0 1px 3px 1px rgba(60, 64, 67, 0.15);\n",
              "    fill: var(--button-hover-fill-color);\n",
              "  }\n",
              "\n",
              "  .colab-df-quickchart-complete:disabled,\n",
              "  .colab-df-quickchart-complete:disabled:hover {\n",
              "    background-color: var(--disabled-bg-color);\n",
              "    fill: var(--disabled-fill-color);\n",
              "    box-shadow: none;\n",
              "  }\n",
              "\n",
              "  .colab-df-spinner {\n",
              "    border: 2px solid var(--fill-color);\n",
              "    border-color: transparent;\n",
              "    border-bottom-color: var(--fill-color);\n",
              "    animation:\n",
              "      spin 1s steps(1) infinite;\n",
              "  }\n",
              "\n",
              "  @keyframes spin {\n",
              "    0% {\n",
              "      border-color: transparent;\n",
              "      border-bottom-color: var(--fill-color);\n",
              "      border-left-color: var(--fill-color);\n",
              "    }\n",
              "    20% {\n",
              "      border-color: transparent;\n",
              "      border-left-color: var(--fill-color);\n",
              "      border-top-color: var(--fill-color);\n",
              "    }\n",
              "    30% {\n",
              "      border-color: transparent;\n",
              "      border-left-color: var(--fill-color);\n",
              "      border-top-color: var(--fill-color);\n",
              "      border-right-color: var(--fill-color);\n",
              "    }\n",
              "    40% {\n",
              "      border-color: transparent;\n",
              "      border-right-color: var(--fill-color);\n",
              "      border-top-color: var(--fill-color);\n",
              "    }\n",
              "    60% {\n",
              "      border-color: transparent;\n",
              "      border-right-color: var(--fill-color);\n",
              "    }\n",
              "    80% {\n",
              "      border-color: transparent;\n",
              "      border-right-color: var(--fill-color);\n",
              "      border-bottom-color: var(--fill-color);\n",
              "    }\n",
              "    90% {\n",
              "      border-color: transparent;\n",
              "      border-bottom-color: var(--fill-color);\n",
              "    }\n",
              "  }\n",
              "</style>\n",
              "\n",
              "  <script>\n",
              "    async function quickchart(key) {\n",
              "      const quickchartButtonEl =\n",
              "        document.querySelector('#' + key + ' button');\n",
              "      quickchartButtonEl.disabled = true;  // To prevent multiple clicks.\n",
              "      quickchartButtonEl.classList.add('colab-df-spinner');\n",
              "      try {\n",
              "        const charts = await google.colab.kernel.invokeFunction(\n",
              "            'suggestCharts', [key], {});\n",
              "      } catch (error) {\n",
              "        console.error('Error during call to suggestCharts:', error);\n",
              "      }\n",
              "      quickchartButtonEl.classList.remove('colab-df-spinner');\n",
              "      quickchartButtonEl.classList.add('colab-df-quickchart-complete');\n",
              "    }\n",
              "    (() => {\n",
              "      let quickchartButtonEl =\n",
              "        document.querySelector('#df-1d92a926-c335-48aa-861a-b03c27d60506 button');\n",
              "      quickchartButtonEl.style.display =\n",
              "        google.colab.kernel.accessAllowed ? 'block' : 'none';\n",
              "    })();\n",
              "  </script>\n",
              "</div>\n",
              "\n",
              "  <div id=\"id_5cff9ea9-04e7-449d-96e4-15dfbec8acd8\">\n",
              "    <style>\n",
              "      .colab-df-generate {\n",
              "        background-color: #E8F0FE;\n",
              "        border: none;\n",
              "        border-radius: 50%;\n",
              "        cursor: pointer;\n",
              "        display: none;\n",
              "        fill: #1967D2;\n",
              "        height: 32px;\n",
              "        padding: 0 0 0 0;\n",
              "        width: 32px;\n",
              "      }\n",
              "\n",
              "      .colab-df-generate:hover {\n",
              "        background-color: #E2EBFA;\n",
              "        box-shadow: 0px 1px 2px rgba(60, 64, 67, 0.3), 0px 1px 3px 1px rgba(60, 64, 67, 0.15);\n",
              "        fill: #174EA6;\n",
              "      }\n",
              "\n",
              "      [theme=dark] .colab-df-generate {\n",
              "        background-color: #3B4455;\n",
              "        fill: #D2E3FC;\n",
              "      }\n",
              "\n",
              "      [theme=dark] .colab-df-generate:hover {\n",
              "        background-color: #434B5C;\n",
              "        box-shadow: 0px 1px 3px 1px rgba(0, 0, 0, 0.15);\n",
              "        filter: drop-shadow(0px 1px 2px rgba(0, 0, 0, 0.3));\n",
              "        fill: #FFFFFF;\n",
              "      }\n",
              "    </style>\n",
              "    <button class=\"colab-df-generate\" onclick=\"generateWithVariable('X_train')\"\n",
              "            title=\"Generate code using this dataframe.\"\n",
              "            style=\"display:none;\">\n",
              "\n",
              "  <svg xmlns=\"http://www.w3.org/2000/svg\" height=\"24px\"viewBox=\"0 0 24 24\"\n",
              "       width=\"24px\">\n",
              "    <path d=\"M7,19H8.4L18.45,9,17,7.55,7,17.6ZM5,21V16.75L18.45,3.32a2,2,0,0,1,2.83,0l1.4,1.43a1.91,1.91,0,0,1,.58,1.4,1.91,1.91,0,0,1-.58,1.4L9.25,21ZM18.45,9,17,7.55Zm-12,3A5.31,5.31,0,0,0,4.9,8.1,5.31,5.31,0,0,0,1,6.5,5.31,5.31,0,0,0,4.9,4.9,5.31,5.31,0,0,0,6.5,1,5.31,5.31,0,0,0,8.1,4.9,5.31,5.31,0,0,0,12,6.5,5.46,5.46,0,0,0,6.5,12Z\"/>\n",
              "  </svg>\n",
              "    </button>\n",
              "    <script>\n",
              "      (() => {\n",
              "      const buttonEl =\n",
              "        document.querySelector('#id_5cff9ea9-04e7-449d-96e4-15dfbec8acd8 button.colab-df-generate');\n",
              "      buttonEl.style.display =\n",
              "        google.colab.kernel.accessAllowed ? 'block' : 'none';\n",
              "\n",
              "      buttonEl.onclick = () => {\n",
              "        google.colab.notebook.generateWithVariable('X_train');\n",
              "      }\n",
              "      })();\n",
              "    </script>\n",
              "  </div>\n",
              "\n",
              "    </div>\n",
              "  </div>\n"
            ],
            "application/vnd.google.colaboratory.intrinsic+json": {
              "type": "dataframe",
              "variable_name": "X_train",
              "summary": "{\n  \"name\": \"X_train\",\n  \"rows\": 7200,\n  \"fields\": [\n    {\n      \"column\": \"bathrooms\",\n      \"properties\": {\n        \"dtype\": \"number\",\n        \"std\": 0,\n        \"min\": 1,\n        \"max\": 8,\n        \"num_unique_values\": 8,\n        \"samples\": [\n          3,\n          6,\n          1\n        ],\n        \"semantic_type\": \"\",\n        \"description\": \"\"\n      }\n    },\n    {\n      \"column\": \"bedrooms\",\n      \"properties\": {\n        \"dtype\": \"number\",\n        \"std\": 0,\n        \"min\": 1,\n        \"max\": 8,\n        \"num_unique_values\": 8,\n        \"samples\": [\n          3,\n          6,\n          1\n        ],\n        \"semantic_type\": \"\",\n        \"description\": \"\"\n      }\n    },\n    {\n      \"column\": \"square_feet\",\n      \"properties\": {\n        \"dtype\": \"number\",\n        \"std\": 700,\n        \"min\": 106,\n        \"max\": 40000,\n        \"num_unique_values\": 1552,\n        \"samples\": [\n          3005,\n          1242,\n          718\n        ],\n        \"semantic_type\": \"\",\n        \"description\": \"\"\n      }\n    },\n    {\n      \"column\": \"longitude\",\n      \"properties\": {\n        \"dtype\": \"number\",\n        \"std\": 15.724227628995203,\n        \"min\": -158.0221,\n        \"max\": -70.1916,\n        \"num_unique_values\": 2016,\n        \"samples\": [\n          -121.6499,\n          -101.9666,\n          -105.2321\n        ],\n        \"semantic_type\": \"\",\n        \"description\": \"\"\n      }\n    }\n  ]\n}"
            }
          },
          "metadata": {},
          "execution_count": 76
        }
      ],
      "source": [
        "# Scaling the data\n",
        "#y_train= y_train.values.reshape(-1,1)\n",
        "#y_test= y_test.values.reshape(-1,1)\n",
        "\n",
        "from sklearn.preprocessing import StandardScaler\n",
        "scaler = StandardScaler()\n",
        "scaler.fit(X_train)\n",
        "X_scaled = scaler.transform(X_train)\n",
        "X = pd.DataFrame(X_scaled, columns=X_train.columns)\n",
        "X_train\n",
        "\n",
        "#y_train = sc_X.fit_transform(y_train)\n",
        "#y_test = sc_y.fit_transform(y_test)"
      ]
    },
    {
      "cell_type": "code",
      "execution_count": null,
      "metadata": {
        "colab": {
          "base_uri": "https://localhost:8080/"
        },
        "id": "OLO0vpBYEB1L",
        "outputId": "8b6565dd-64c9-4ced-b35f-1b505321f8f6"
      },
      "outputs": [
        {
          "output_type": "stream",
          "name": "stdout",
          "text": [
            "Mean Square Error 104947.09612247713\n",
            "Model Accuracy 23.884093906455174\n"
          ]
        }
      ],
      "source": [
        "#multilevel linear regression - train error\n",
        "multi_model = linear_model.LinearRegression()\n",
        "multi_model.fit(X_train, y_train)\n",
        "prediction = multi_model.predict(X_train)\n",
        "print('Mean Square Error', metrics.mean_squared_error(y_train, prediction))\n",
        "r2 = r2_score(y_train, prediction)\n",
        "acc = r2 * 100\n",
        "print('Model Accuracy', acc)"
      ]
    },
    {
      "cell_type": "code",
      "execution_count": null,
      "metadata": {
        "id": "JmpU7WU5fUD7"
      },
      "outputs": [],
      "source": [
        "#multilevel linear regression - test error\n",
        "#pred = multi_model.predict(X_test)\n",
        "#print('Mean Square Error', metrics.mean_squared_error(y_test, pred))\n",
        "#r2 = r2_score(y_test, pred)\n",
        "#acc = r2 * 100\n",
        "#print('Model Accuracy', acc)"
      ]
    },
    {
      "cell_type": "code",
      "execution_count": null,
      "metadata": {
        "id": "jMx2W6HcE_XN"
      },
      "outputs": [],
      "source": [
        "# from sklearn.decomposition import PCA\n",
        "\n",
        "# pipeline = make_pipeline(StandardScaler(), PCA(n_components=2), LinearRegression())\n",
        "\n",
        "# pipeline.fit(X_train, y_train)\n",
        "\n",
        "# prediction = pipeline.predict(X_train)\n",
        "\n",
        "# # Plotting\n",
        "# plt.scatter(y_train, prediction, label='Actual vs Predicted')\n",
        "# plt.xlabel('Actual')\n",
        "# plt.ylabel('Predicted')\n",
        "\n",
        "# # Plot the regression line\n",
        "# plt.plot(np.unique(y_train), np.poly1d(np.polyfit(y_train, prediction, 1))(np.unique(y_train)), color='red', label='Regression Line')\n",
        "\n",
        "# plt.title('MultiLinear')\n",
        "# plt.legend()\n",
        "# plt.show()"
      ]
    },
    {
      "cell_type": "code",
      "execution_count": null,
      "metadata": {
        "id": "6h4qmZvM5sH1"
      },
      "outputs": [],
      "source": [
        "#hyperparameter tuning\n",
        "# param_dist = {'polynomialfeatures__degree': randint(1, 10)}\n",
        "\n",
        "# poly_reg = make_pipeline(PolynomialFeatures(), LinearRegression())\n",
        "\n",
        "# random_search = RandomizedSearchCV(poly_reg, param_distributions=param_dist, n_iter=10, cv=5, scoring='neg_mean_squared_error', random_state=10)\n",
        "\n",
        "# random_search.fit(X_train, y_train)\n",
        "\n",
        "# best_degree = random_search.best_params_['polynomialfeatures__degree']\n",
        "# print(\"Best degree value:\", best_degree)"
      ]
    },
    {
      "cell_type": "code",
      "execution_count": null,
      "metadata": {
        "colab": {
          "base_uri": "https://localhost:8080/"
        },
        "id": "WpNwr9xxIsIy",
        "outputId": "f75ecc14-6066-4c22-d8ca-5b4db9f14dfa"
      },
      "outputs": [
        {
          "output_type": "stream",
          "name": "stdout",
          "text": [
            "7200\n"
          ]
        }
      ],
      "source": [
        "#polynomial regression - train\n",
        "poly_features = PolynomialFeatures(degree=3)\n",
        "X_train_poly = poly_features.fit_transform(X_train)\n",
        "poly_model = linear_model.LinearRegression()\n",
        "poly_model.fit(X_train_poly, y_train)\n",
        "y_train_predicted = poly_model.predict(X_train_poly)\n",
        "ypred=poly_model.predict(poly_features.transform(X_train))\n",
        "print(ypred.size)"
      ]
    },
    {
      "cell_type": "code",
      "execution_count": null,
      "metadata": {
        "id": "yaxrt-rAzBHm"
      },
      "outputs": [],
      "source": [
        "#polynomial regression - test\n",
        "# y_test_pred = poly_model.predict(poly_features.fit_transform(X_test))\n",
        "# print(y_test_pred.size)"
      ]
    },
    {
      "cell_type": "code",
      "execution_count": null,
      "metadata": {
        "colab": {
          "base_uri": "https://localhost:8080/"
        },
        "id": "IL0b8yNpUa5H",
        "outputId": "1b07c7c9-bef6-46b0-d400-9d20e76d3233"
      },
      "outputs": [
        {
          "output_type": "stream",
          "name": "stdout",
          "text": [
            "Mean Square Error 72239.40068329875\n",
            "Model Accuracy 47.60629267677026\n"
          ]
        }
      ],
      "source": [
        "#polynomial regression - train\n",
        "print('Mean Square Error', metrics.mean_squared_error(y_train, ypred))\n",
        "r2 = r2_score(y_train, ypred)\n",
        "acc = r2 * 100\n",
        "print('Model Accuracy', acc)"
      ]
    },
    {
      "cell_type": "code",
      "execution_count": null,
      "metadata": {
        "id": "rV85W1LZ9vIm"
      },
      "outputs": [],
      "source": [
        "#polynomial regression - test\n",
        "# print('Mean Square Error', metrics.mean_squared_error(y_test, y_test_pred))\n",
        "# r2 = r2_score(y_test, y_test_pred)*100\n",
        "# print('Model Accuracy', r2)"
      ]
    },
    {
      "cell_type": "code",
      "execution_count": null,
      "metadata": {
        "id": "aoxSwW8rJQZ_"
      },
      "outputs": [],
      "source": [
        "#Visualize the Polynomial Regression line in 2D\n",
        "# pca = PCA(n_components=2)\n",
        "# X_train_pca = pca.fit_transform(X_train)\n",
        "\n",
        "\n",
        "# poly_features = PolynomialFeatures(degree=2)\n",
        "# X_train_pca_poly = poly_features.fit_transform(X_train_pca)\n",
        "# poly_model = LinearRegression()\n",
        "# poly_model.fit(X_train_pca_poly, y_train)\n",
        "\n",
        "\n",
        "# plt.scatter(X_train_pca[:, 0], X_train_pca[:, 1], c=y_train, cmap='viridis')\n",
        "# plt.xlabel('Principal Component 1')\n",
        "# plt.ylabel('Principal Component 2')\n",
        "\n",
        "# x_line = np.linspace(X_train_pca[:, 0].min(), X_train_pca[:, 0].max(), 100)\n",
        "# y_line = np.linspace(X_train_pca[:, 1].min(), X_train_pca[:, 1].max(), 100)\n",
        "# x_line, y_line = np.meshgrid(x_line, y_line)\n",
        "# xy_line = np.column_stack((x_line.ravel(), y_line.ravel()))\n",
        "# xy_line_poly = poly_features.transform(xy_line)\n",
        "# z_line = poly_model.predict(xy_line_poly)\n",
        "# z_line = z_line.reshape(x_line.shape)\n",
        "\n",
        "# plt.contour(x_line, y_line, z_line, levels=20, cmap='RdGy')\n",
        "# plt.colorbar(label='Predicted y')\n",
        "# plt.title('Polynomial Regression in 2D (PCA)')\n",
        "# plt.show()"
      ]
    },
    {
      "cell_type": "code",
      "execution_count": null,
      "metadata": {
        "colab": {
          "base_uri": "https://localhost:8080/",
          "height": 146
        },
        "id": "Kd2dS-ehB1a-",
        "outputId": "cc7f9965-7120-4f19-f996-03a9947e1a00"
      },
      "outputs": [
        {
          "output_type": "stream",
          "name": "stderr",
          "text": [
            "<ipython-input-86-4092dd56c330>:3: DataConversionWarning: A column-vector y was passed when a 1d array was expected. Please change the shape of y to (n_samples,), for example using ravel().\n",
            "  regressor.fit(X_train, y_train)\n"
          ]
        },
        {
          "output_type": "execute_result",
          "data": {
            "text/plain": [
              "RandomForestRegressor(max_depth=10, min_samples_split=30, n_estimators=300,\n",
              "                      n_jobs=-1, oob_score=True, random_state=0)"
            ],
            "text/html": [
              "<style>#sk-container-id-1 {color: black;background-color: white;}#sk-container-id-1 pre{padding: 0;}#sk-container-id-1 div.sk-toggleable {background-color: white;}#sk-container-id-1 label.sk-toggleable__label {cursor: pointer;display: block;width: 100%;margin-bottom: 0;padding: 0.3em;box-sizing: border-box;text-align: center;}#sk-container-id-1 label.sk-toggleable__label-arrow:before {content: \"▸\";float: left;margin-right: 0.25em;color: #696969;}#sk-container-id-1 label.sk-toggleable__label-arrow:hover:before {color: black;}#sk-container-id-1 div.sk-estimator:hover label.sk-toggleable__label-arrow:before {color: black;}#sk-container-id-1 div.sk-toggleable__content {max-height: 0;max-width: 0;overflow: hidden;text-align: left;background-color: #f0f8ff;}#sk-container-id-1 div.sk-toggleable__content pre {margin: 0.2em;color: black;border-radius: 0.25em;background-color: #f0f8ff;}#sk-container-id-1 input.sk-toggleable__control:checked~div.sk-toggleable__content {max-height: 200px;max-width: 100%;overflow: auto;}#sk-container-id-1 input.sk-toggleable__control:checked~label.sk-toggleable__label-arrow:before {content: \"▾\";}#sk-container-id-1 div.sk-estimator input.sk-toggleable__control:checked~label.sk-toggleable__label {background-color: #d4ebff;}#sk-container-id-1 div.sk-label input.sk-toggleable__control:checked~label.sk-toggleable__label {background-color: #d4ebff;}#sk-container-id-1 input.sk-hidden--visually {border: 0;clip: rect(1px 1px 1px 1px);clip: rect(1px, 1px, 1px, 1px);height: 1px;margin: -1px;overflow: hidden;padding: 0;position: absolute;width: 1px;}#sk-container-id-1 div.sk-estimator {font-family: monospace;background-color: #f0f8ff;border: 1px dotted black;border-radius: 0.25em;box-sizing: border-box;margin-bottom: 0.5em;}#sk-container-id-1 div.sk-estimator:hover {background-color: #d4ebff;}#sk-container-id-1 div.sk-parallel-item::after {content: \"\";width: 100%;border-bottom: 1px solid gray;flex-grow: 1;}#sk-container-id-1 div.sk-label:hover label.sk-toggleable__label {background-color: #d4ebff;}#sk-container-id-1 div.sk-serial::before {content: \"\";position: absolute;border-left: 1px solid gray;box-sizing: border-box;top: 0;bottom: 0;left: 50%;z-index: 0;}#sk-container-id-1 div.sk-serial {display: flex;flex-direction: column;align-items: center;background-color: white;padding-right: 0.2em;padding-left: 0.2em;position: relative;}#sk-container-id-1 div.sk-item {position: relative;z-index: 1;}#sk-container-id-1 div.sk-parallel {display: flex;align-items: stretch;justify-content: center;background-color: white;position: relative;}#sk-container-id-1 div.sk-item::before, #sk-container-id-1 div.sk-parallel-item::before {content: \"\";position: absolute;border-left: 1px solid gray;box-sizing: border-box;top: 0;bottom: 0;left: 50%;z-index: -1;}#sk-container-id-1 div.sk-parallel-item {display: flex;flex-direction: column;z-index: 1;position: relative;background-color: white;}#sk-container-id-1 div.sk-parallel-item:first-child::after {align-self: flex-end;width: 50%;}#sk-container-id-1 div.sk-parallel-item:last-child::after {align-self: flex-start;width: 50%;}#sk-container-id-1 div.sk-parallel-item:only-child::after {width: 0;}#sk-container-id-1 div.sk-dashed-wrapped {border: 1px dashed gray;margin: 0 0.4em 0.5em 0.4em;box-sizing: border-box;padding-bottom: 0.4em;background-color: white;}#sk-container-id-1 div.sk-label label {font-family: monospace;font-weight: bold;display: inline-block;line-height: 1.2em;}#sk-container-id-1 div.sk-label-container {text-align: center;}#sk-container-id-1 div.sk-container {/* jupyter's `normalize.less` sets `[hidden] { display: none; }` but bootstrap.min.css set `[hidden] { display: none !important; }` so we also need the `!important` here to be able to override the default hidden behavior on the sphinx rendered scikit-learn.org. See: https://github.com/scikit-learn/scikit-learn/issues/21755 */display: inline-block !important;position: relative;}#sk-container-id-1 div.sk-text-repr-fallback {display: none;}</style><div id=\"sk-container-id-1\" class=\"sk-top-container\"><div class=\"sk-text-repr-fallback\"><pre>RandomForestRegressor(max_depth=10, min_samples_split=30, n_estimators=300,\n",
              "                      n_jobs=-1, oob_score=True, random_state=0)</pre><b>In a Jupyter environment, please rerun this cell to show the HTML representation or trust the notebook. <br />On GitHub, the HTML representation is unable to render, please try loading this page with nbviewer.org.</b></div><div class=\"sk-container\" hidden><div class=\"sk-item\"><div class=\"sk-estimator sk-toggleable\"><input class=\"sk-toggleable__control sk-hidden--visually\" id=\"sk-estimator-id-1\" type=\"checkbox\" checked><label for=\"sk-estimator-id-1\" class=\"sk-toggleable__label sk-toggleable__label-arrow\">RandomForestRegressor</label><div class=\"sk-toggleable__content\"><pre>RandomForestRegressor(max_depth=10, min_samples_split=30, n_estimators=300,\n",
              "                      n_jobs=-1, oob_score=True, random_state=0)</pre></div></div></div></div></div>"
            ]
          },
          "metadata": {},
          "execution_count": 86
        }
      ],
      "source": [
        "#Random Forest Regression\n",
        "regressor = RandomForestRegressor(n_estimators=300, max_depth=10, min_samples_split=30, n_jobs=-1, random_state=0, oob_score=True)\n",
        "regressor.fit(X_train, y_train)"
      ]
    },
    {
      "cell_type": "code",
      "execution_count": null,
      "metadata": {
        "colab": {
          "base_uri": "https://localhost:8080/"
        },
        "id": "3jD_YBkrFScs",
        "outputId": "a754b611-c1dc-4c4d-d7f3-e0836083f2a0"
      },
      "outputs": [
        {
          "output_type": "stream",
          "name": "stdout",
          "text": [
            "Out-of-Bag Score: 0.6616270319764845\n",
            "Mean Squared Error: 37707.97496254106\n",
            "Model Accuracy: 72.65120439467032\n"
          ]
        }
      ],
      "source": [
        "oob_score = regressor.oob_score_\n",
        "print(f'Out-of-Bag Score: {oob_score}')\n",
        "\n",
        "predictions = regressor.predict(X_train)\n",
        "\n",
        "mse = metrics.mean_squared_error(y_train, predictions)\n",
        "print(f'Mean Squared Error: {mse}')\n",
        "\n",
        "r2 = r2_score(y_train, predictions)*100\n",
        "print(f'Model Accuracy: {r2}')"
      ]
    },
    {
      "cell_type": "code",
      "execution_count": null,
      "metadata": {
        "id": "Tf97YNmTXfr7",
        "colab": {
          "base_uri": "https://localhost:8080/"
        },
        "outputId": "5f1b9b32-dd5d-4b0a-f1d0-5171cf673496"
      },
      "outputs": [
        {
          "output_type": "stream",
          "name": "stdout",
          "text": [
            "Mean Square Error 40075.44918635092\n",
            "Model Accuracy 70.93412548199515\n"
          ]
        }
      ],
      "source": [
        "#Decision Tree Regression\n",
        "\n",
        "regressor_tree = DecisionTreeRegressor(min_samples_split=30, max_depth=10)\n",
        "regressor_tree.fit(X_train, y_train)\n",
        "y_pred = regressor_tree.predict(X_train)\n",
        "\n",
        "print('Mean Square Error', metrics.mean_squared_error(y_train, y_pred))\n",
        "r2 = r2_score(y_train, y_pred)*100\n",
        "print('Model Accuracy', r2)"
      ]
    },
    {
      "cell_type": "code",
      "execution_count": null,
      "metadata": {
        "id": "w4AFxjtPtFV9",
        "colab": {
          "base_uri": "https://localhost:8080/"
        },
        "outputId": "7fe5c5f5-11e9-4a2e-bec0-e5687603620b"
      },
      "outputs": [
        {
          "output_type": "stream",
          "name": "stderr",
          "text": [
            "/usr/local/lib/python3.10/dist-packages/sklearn/ensemble/_gb.py:437: DataConversionWarning: A column-vector y was passed when a 1d array was expected. Please change the shape of y to (n_samples, ), for example using ravel().\n",
            "  y = column_or_1d(y, warn=True)\n"
          ]
        },
        {
          "output_type": "stream",
          "name": "stdout",
          "text": [
            "Mean Square Error 35924.187614123184\n",
            "Model Accuracy 73.94494757880354\n"
          ]
        }
      ],
      "source": [
        "from sklearn.ensemble import GradientBoostingRegressor\n",
        "\n",
        "model = GradientBoostingRegressor(n_estimators=300, min_samples_split=20)\n",
        "model.fit(X_train, y_train)\n",
        "\n",
        "y_pred = model.predict(X_train)\n",
        "\n",
        "print('Mean Square Error', metrics.mean_squared_error(y_train, y_pred))\n",
        "r2 = r2_score(y_train, y_pred)*100\n",
        "print('Model Accuracy', r2)"
      ]
    },
    {
      "cell_type": "code",
      "source": [
        "#import pickle\n",
        "\n",
        "# Save the trained models to a file\n",
        "#pkl_file = \"script_reg.pkl\"\n",
        "with open(pkl_file, 'wb') as file:\n",
        "    # pickle.dump(X_train['bathrooms'].mode().iloc[0], file)\n",
        "    # pickle.dump(X_train['bedrooms'].mode().iloc[0], file)\n",
        "    # pickle.dump(X_train['longitude'].mean(), file)\n",
        "    # pickle.dump(X_train['latitude'].mean(), file)\n",
        "    # pickle.dump(data['cityname'].mode().iloc[0], file)\n",
        "    # pickle.dump(data['state'].mode().iloc[0], file)\n",
        "    pickle.dump(bathrooms_mode, file)\n",
        "    pickle.dump(bedrooms_mode, file)\n",
        "    pickle.dump(longitude_mean, file)\n",
        "    pickle.dump(latitude_mean, file)\n",
        "    pickle.dump(cityname_mode, file)\n",
        "    pickle.dump(state_mode, file)\n",
        "    pickle.dump(preprocessing_body, file)\n",
        "    pickle.dump(label_encoders, file)\n",
        "    pickle.dump(y_encoder, file)\n",
        "    pickle.dump(encoding_categorical_data, file)\n",
        "    pickle.dump(cat_encoder, file)\n",
        "    pickle.dump(scaler, file)\n",
        "    pickle.dump(list(X_train_selected.columns), file)\n",
        "    pickle.dump(multi_model, file)\n",
        "    pickle.dump(poly_model, file)\n",
        "    pickle.dump(poly_features, file)\n",
        "    pickle.dump(regressor, file)\n",
        "    pickle.dump(regressor_tree, file)\n",
        "    pickle.dump(model, file)\n",
        "    #pickle.dump(reverse_geocode, file)"
      ],
      "metadata": {
        "id": "r-oKuofSZOi4"
      },
      "execution_count": null,
      "outputs": []
    },
    {
      "cell_type": "markdown",
      "source": [
        "test script\n"
      ],
      "metadata": {
        "id": "8KLQbC4YZ0cU"
      }
    },
    {
      "cell_type": "code",
      "source": [
        "# Load trained models from a file\n",
        "import pickle\n",
        "pkl_file = \"script_reg.pkl\"\n",
        "with open(pkl_file,'rb') as file:\n",
        "    pickled_bathrooms = pickle.load(file)\n",
        "    pickled_bedrooms = pickle.load(file)\n",
        "    pickled_longitude = pickle.load(file)\n",
        "    pickled_latitude = pickle.load(file)\n",
        "    pickled_cityname = pickle.load(file)\n",
        "    pickled_state = pickle.load(file)\n",
        "    preprocessing_body = pickle.load(file)\n",
        "    pickled_label_encoders = pickle.load(file)\n",
        "    pickled_y_encoder = pickle.load(file)\n",
        "    pickled_encoding_categorical_data = pickle.load(file)\n",
        "    pickled_cat_encoder = pickle.load(file)\n",
        "    pickled_scaler = pickle.load(file)\n",
        "    pickled_selector_corr = pickle.load(file)\n",
        "    pickled_multi_model = pickle.load(file)\n",
        "    pickled_poly_model = pickle.load(file)\n",
        "    pickled_poly_features = pickle.load(file)\n",
        "    pickled_regressor = pickle.load(file)\n",
        "    pickled_regressor_tree = pickle.load(file)\n",
        "    pickled_model = pickle.load(file)\n",
        "    #pickled_reverse_geocode = pickle.load(file)"
      ],
      "metadata": {
        "id": "yNV8JNXqkgZq"
      },
      "execution_count": null,
      "outputs": []
    },
    {
      "cell_type": "code",
      "source": [
        "data = pd.read_csv('/content/ApartmentRentPrediction_test.csv')\n",
        "data = data.drop('price', axis=1)\n",
        "X_test = data.drop('price_display', axis=1)\n",
        "y_test = data['price_display']\n"
      ],
      "metadata": {
        "id": "udQXAc5OnqAy"
      },
      "execution_count": null,
      "outputs": []
    },
    {
      "cell_type": "code",
      "source": [
        "y_test = y_test.str.replace('[^\\d]', '', regex=True)\n",
        "\n",
        "y_test = pd.to_numeric(y_test, errors='coerce')\n",
        "\n",
        "y_test.fillna(0, inplace=True)\n",
        "\n",
        "y_test = y_test.astype(int)"
      ],
      "metadata": {
        "id": "YuW_KQKfK507"
      },
      "execution_count": null,
      "outputs": []
    },
    {
      "cell_type": "code",
      "source": [
        "X_test['bathrooms'].fillna(pickled_bathrooms, inplace=True)\n",
        "X_test['bedrooms'].fillna(pickled_bedrooms, inplace=True)\n",
        "X_test['longitude'].fillna(pickled_longitude, inplace=True)\n",
        "X_test['latitude'].fillna(pickled_latitude, inplace=True)\n",
        "X_test['cityname'].fillna(pickled_cityname, inplace=True)\n",
        "X_test['state'].fillna(pickled_state, inplace=True)\n",
        "X_test['pets_allowed'].fillna('none', inplace=True)\n",
        "X_test['amenities'].fillna('none', inplace=True)\n",
        "\n",
        "X_test.isnull().sum()"
      ],
      "metadata": {
        "id": "8k_LSBccZQsI",
        "colab": {
          "base_uri": "https://localhost:8080/"
        },
        "outputId": "6e42f2d9-4010-4ff5-b4c5-92e88fda484e"
      },
      "execution_count": null,
      "outputs": [
        {
          "output_type": "execute_result",
          "data": {
            "text/plain": [
              "id                0\n",
              "category          0\n",
              "title             0\n",
              "body              0\n",
              "amenities         0\n",
              "bathrooms         0\n",
              "bedrooms          0\n",
              "currency          0\n",
              "fee               0\n",
              "has_photo         0\n",
              "pets_allowed      0\n",
              "price_type        0\n",
              "square_feet       0\n",
              "address         356\n",
              "cityname          0\n",
              "state             0\n",
              "latitude          0\n",
              "longitude         0\n",
              "source            0\n",
              "time              0\n",
              "dtype: int64"
            ]
          },
          "metadata": {},
          "execution_count": 94
        }
      ]
    },
    {
      "cell_type": "code",
      "source": [
        "X_test.info()"
      ],
      "metadata": {
        "colab": {
          "base_uri": "https://localhost:8080/"
        },
        "id": "fH6n5mZV3DyR",
        "outputId": "9453f509-8fbc-47be-efed-4ebbe7ed26d4"
      },
      "execution_count": null,
      "outputs": [
        {
          "output_type": "stream",
          "name": "stdout",
          "text": [
            "<class 'pandas.core.frame.DataFrame'>\n",
            "RangeIndex: 1000 entries, 0 to 999\n",
            "Data columns (total 20 columns):\n",
            " #   Column        Non-Null Count  Dtype  \n",
            "---  ------        --------------  -----  \n",
            " 0   id            1000 non-null   int64  \n",
            " 1   category      1000 non-null   object \n",
            " 2   title         1000 non-null   object \n",
            " 3   body          1000 non-null   object \n",
            " 4   amenities     1000 non-null   object \n",
            " 5   bathrooms     1000 non-null   float64\n",
            " 6   bedrooms      1000 non-null   int64  \n",
            " 7   currency      1000 non-null   object \n",
            " 8   fee           1000 non-null   object \n",
            " 9   has_photo     1000 non-null   object \n",
            " 10  pets_allowed  1000 non-null   object \n",
            " 11  price_type    1000 non-null   object \n",
            " 12  square_feet   1000 non-null   int64  \n",
            " 13  address       644 non-null    object \n",
            " 14  cityname      1000 non-null   object \n",
            " 15  state         1000 non-null   object \n",
            " 16  latitude      1000 non-null   float64\n",
            " 17  longitude     1000 non-null   float64\n",
            " 18  source        1000 non-null   object \n",
            " 19  time          1000 non-null   int64  \n",
            "dtypes: float64(3), int64(4), object(13)\n",
            "memory usage: 156.4+ KB\n"
          ]
        }
      ]
    },
    {
      "cell_type": "code",
      "source": [
        "# null_address_rows = X_test[X_test['address'].isnull()]\n",
        "\n",
        "# batch_size = 100\n",
        "# for i in range(0, len(null_address_rows), batch_size):\n",
        "#     batch_data = null_address_rows.iloc[i:i+batch_size]\n",
        "#     for index, row in batch_data.iterrows():\n",
        "#         latitude = row['latitude']\n",
        "#         longitude = row['longitude']\n",
        "#         address = pickled_reverse_geocode(latitude, longitude)\n",
        "#         if address:\n",
        "#             X_test.at[index, 'address'] = address\n",
        "#             print(f\"New address added at index {index}: {address}\")"
      ],
      "metadata": {
        "id": "-U3DWGMd7SH-"
      },
      "execution_count": null,
      "outputs": []
    },
    {
      "cell_type": "code",
      "source": [
        "preprocessing_body(X_test)\n",
        "X_test.isnull().sum()"
      ],
      "metadata": {
        "colab": {
          "base_uri": "https://localhost:8080/"
        },
        "id": "1-9fC_tJlY-J",
        "outputId": "442e9673-a242-4beb-83c2-9a70f1a14599"
      },
      "execution_count": null,
      "outputs": [
        {
          "output_type": "execute_result",
          "data": {
            "text/plain": [
              "id                0\n",
              "category          0\n",
              "title             0\n",
              "body              0\n",
              "amenities         0\n",
              "bathrooms         0\n",
              "bedrooms          0\n",
              "currency          0\n",
              "fee               0\n",
              "has_photo         0\n",
              "pets_allowed      0\n",
              "price_type        0\n",
              "square_feet       0\n",
              "address         356\n",
              "cityname          0\n",
              "state             0\n",
              "latitude          0\n",
              "longitude         0\n",
              "source            0\n",
              "time              0\n",
              "dtype: int64"
            ]
          },
          "metadata": {},
          "execution_count": 97
        }
      ]
    },
    {
      "cell_type": "code",
      "source": [
        "columns_to_label_encode = ['price_type', 'currency', 'category', 'fee']\n",
        "\n",
        "for column in columns_to_label_encode:\n",
        "    # pickled_label_encoders[column] = LabelEncoder()\n",
        "    X_test[column] = pickled_label_encoders[column].transform(X_test[column])\n",
        "\n",
        "\n",
        "pickled_y_encoder.transform(y_test)"
      ],
      "metadata": {
        "colab": {
          "base_uri": "https://localhost:8080/"
        },
        "id": "Kg_Vu7RnlbiH",
        "outputId": "f4a16536-3dff-4f2d-ef7e-f23a0d676d47"
      },
      "execution_count": null,
      "outputs": [
        {
          "output_type": "execute_result",
          "data": {
            "text/plain": [
              "array([ 326,  980,  344,  130, 1145,  619,  458, 1124,  967,  271,  385,\n",
              "        601,  624,  252,  514,  176,  172, 1348,  878, 1489, 1231,  555,\n",
              "        672,  751,  191, 1367,   77, 1366,  713,  479,  233,  395, 1048,\n",
              "        186,  398,  706,  236,   99,  619, 1018,   58,   82, 1490,   15,\n",
              "        750,  479,  228,  103,  521,  213, 1491,  581,  652,  284,  814,\n",
              "        566, 1171, 1182,  600,  277, 1492,  378, 1493,  237, 1352, 1391,\n",
              "        318,  941,  710, 1153,  248,  819,  199,  172,   76,  705,  190,\n",
              "        272,  960,  598,  941,  313,  213,  904,  406,  637, 1038,  868,\n",
              "        751,  426, 1373,  750, 1088,  542,  298,  126, 1494,  462, 1495,\n",
              "       1145,  734,  974,  434,  676,  439, 1106,  649,  583,  526,  434,\n",
              "        190,  272,  429,   45, 1496,  675, 1288,  387,    8,  293,  334,\n",
              "        217, 1043,  623,  581,  398,  353, 1125,  429, 1497,  200,  395,\n",
              "        601,  334,  598,  796,  272, 1498,   68,  692,  191,  453,  186,\n",
              "         85,  470,  601,  630,  889,  560,  514,  313,  151,  434, 1499,\n",
              "        734,  252, 1149,  151, 1442,  171,  272,  296,  363,   62,  655,\n",
              "        242,  980,  521,  958,  357,   47, 1073,  301, 1500,  274,  232,\n",
              "         75, 1501,  460, 1337,  434,  366,  108, 1024, 1160,  228,   31,\n",
              "        702,  510,  213,  500, 1237, 1502, 1205,  848,  363,  151,  924,\n",
              "        191,  566,  360,  601,  334,  696, 1405,  176, 1503,  356,  830,\n",
              "        542,  330,  885, 1018,  885,  191,  883, 1504, 1086,  395,  751,\n",
              "        782,  542,  563,  385, 1448,  341,  424, 1505,  213, 1506,  272,\n",
              "        424,  191,  598,  327,  479,  401,  462,  598, 1507,  576,  312,\n",
              "        357,  112,  993,   85,  353,  131, 1085,  405,  698,  293, 1281,\n",
              "       1070,  199,  835,  163, 1043,  838, 1508,  115, 1509,  213,  260,\n",
              "        858,  593,  920,  233, 1132,  376,  744,  675, 1295, 1510,  132,\n",
              "        211,  395,  253,  542,  793, 1511,  313, 1208, 1160,  763, 1512,\n",
              "       1513,  356,  390,  505, 1091,  458,  611,  398, 1013, 1231,  888,\n",
              "        151,  488,  886,  417,  262, 1355,  353,  233,  899, 1355,  839,\n",
              "        483, 1514, 1343,  151,  759,  398,  560,  267,  213,  529,  172,\n",
              "        212, 1515,  209,  891,  685,  522,  672, 1043, 1185,  763, 1042,\n",
              "        233,  913, 1099,  191,  869, 1516,  900, 1517,  376,  381,  376,\n",
              "        793,  560, 1518,  242,  401, 1042,  522, 1519,  313, 1520,  531,\n",
              "       1317, 1521, 1522,  338,  131,  276,  712,  190,  302,  713,  151,\n",
              "        186,  790, 1067,  334,  793,  918,   99,  186,  983,  230,  350,\n",
              "        974,   72, 1016,  397,   82,  542,  518,  804,   72,  941,  204,\n",
              "        557, 1308,  126, 1523, 1524,  705,  565,   58,  814,  811,  353,\n",
              "        918,  334,  300,  883,  338,  479,  675,  994,  256,  601,   38,\n",
              "        726,  434,  357,  429, 1001,  552,  458, 1038, 1219, 1525,  256,\n",
              "        478, 1526,  588,  334,  353,  619, 1028,  811, 1292,  241, 1527,\n",
              "        883, 1528,  434, 1088, 1529, 1014,  521,  552,  198, 1010, 1530,\n",
              "         85,  640, 1317,  313,  269,  349,  994, 1531,  458, 1532,  915,\n",
              "        272,  326,  769, 1366,  267,  669, 1025,  252,  376,  119, 1088,\n",
              "        267, 1533,  433,   99, 1534, 1535,   58,  747,  552, 1536,  470,\n",
              "        934,  916,  552, 1403,  640,  293,  640,  218,  293,  780, 1234,\n",
              "        267,  796, 1182,  222,  114,  768, 1537,  734,  751,  900,  373,\n",
              "        221,  429,  873,  713,   88, 1257,  479, 1158, 1538,  312,  233,\n",
              "        272, 1539,  131,  429,  334,  271, 1540,  559,  748,  334, 1122,\n",
              "        945, 1317, 1122,  951,  845,  563, 1160,  141,  636, 1541,  237,\n",
              "        326,  150,  571, 1158,  119, 1542,  158, 1244, 1160, 1328, 1018,\n",
              "        542,  755,  280,  813,  279,  931,  883,  267,  598, 1543,  362,\n",
              "        313, 1122, 1165,  414, 1544,  620,  601,  186,  600, 1545, 1546,\n",
              "       1547,  814,  659, 1272, 1352,  421,  233,  293,  115,  134,  271,\n",
              "        559,  768,  780,  406, 1038, 1548,  972,  918,  734,  862,  918,\n",
              "        298,  357,  458,  339,  792,  606,  395, 1549, 1236,  186,  866,\n",
              "        918, 1038,  376,  182,  640, 1550,  581,  444,  991,  845,  108,\n",
              "        151,  443,  748,  675,  757,  645, 1551,  151, 1038, 1080,  285,\n",
              "        883,  385,   84,  221,  699,  639,  219,  971,  263,  426,  355,\n",
              "        504,  355,  479,  103,  439, 1552,  552,  712, 1281,  144,  360,\n",
              "        586,  155,  190, 1068,  996, 1172,  920,  696,  394,  376,   45,\n",
              "        143,   53,  994,  803,  551, 1414, 1553,  796, 1554, 1238,  395,\n",
              "        252,  505,  213,   75,  233,  356,  941, 1019,  870,  886, 1185,\n",
              "       1371, 1185,  913,  659, 1185,  284,  429,  381,  232,  713,  747,\n",
              "        542,  272, 1208,  866,   99,  203,  750,  500,  640,  469,   96,\n",
              "       1555,   47,  977,  600, 1556,  539,  768,  313,  848, 1236, 1145,\n",
              "        252, 1557,  653,  980,  112, 1303,  774,  263, 1125,   58,  272,\n",
              "        813,  813,  522,  576,  814,  357,  454,  883,  267, 1038,  752,\n",
              "        192,  811, 1558,  560, 1559,  780, 1241, 1367,  555,  505,  154,\n",
              "       1560,  615,  618, 1043,  267,  349,  233,   68,  272,  209,  717,\n",
              "        860,  886,  941,  605,  366,  751,  945,   82, 1561,  191,  400,\n",
              "        883,  565,  522,  356,  869,  217,  675,  299,  293,  883,  509,\n",
              "        883,  734,  918,  353, 1562,  552,  186,   99,  848,  768,  395,\n",
              "        357, 1426, 1563, 1102,   93,   18,  394,  819,  848,  581,  883,\n",
              "       1564,  414,   82,  208, 1182, 1442,  944,  542,  713, 1038,  539,\n",
              "         78,  713,  652,  521,  676, 1565,   15, 1366,  620,   85,  458,\n",
              "        522,  395,  479,   24,  640,  333,  301,  544, 1355,  376,  619,\n",
              "        930,  624,  263,  522, 1468, 1566,  225,  334,  376,  945, 1231,\n",
              "        233,  356,  479,  279, 1567, 1197,  640,  272, 1568,  601,  172,\n",
              "       1385, 1367,  272,   18,  115,  401,  121,  233,  640,  620, 1231,\n",
              "       1569, 1116, 1203,  521,  542,  526,  652,  972,  601,  474,  178,\n",
              "        985, 1158,  191, 1570,  814, 1426,  334, 1571,  713,  972,  395,\n",
              "        941,  941, 1075, 1122,  262,  474,   72,   62, 1257, 1135,  543,\n",
              "        544,  830,  676,  394,  713,  385,  136,  293,  603,  819, 1572,\n",
              "        119, 1158,  600,  387,  713,  518,  191, 1275,  813,  305,  443,\n",
              "        566,  640,  836,  640,  734,  221,  479,  542,  839,  613,  972,\n",
              "        713, 1573,  606, 1574,  339, 1093, 1575,  864,  233,  246,  830,\n",
              "       1437,  293,   93,  873, 1576, 1577,  136,  151,  134,  563,  277,\n",
              "        115,  584,  261,  757,  941, 1578, 1579,  221,  398,  151,  293,\n",
              "        747,  287,  488, 1580,  395,  539,  414,  521,  676,  329,  518,\n",
              "        920,  581,  390,  886,  539,  713,  228,  433,  263,  418,  158,\n",
              "         31,  434,  134,  209,  779,  283, 1581,  676,  313,  313, 1343,\n",
              "       1582, 1464,  601,  664,  296,  668,  414,  380,  144,  756])"
            ]
          },
          "metadata": {},
          "execution_count": 98
        }
      ]
    },
    {
      "cell_type": "code",
      "source": [
        "X_test = pickled_encoding_categorical_data(X_test)"
      ],
      "metadata": {
        "id": "kuvyjEfraVOf",
        "colab": {
          "base_uri": "https://localhost:8080/"
        },
        "outputId": "3c35fe47-b035-4bf7-c0ac-d1df00bed3b1"
      },
      "execution_count": null,
      "outputs": [
        {
          "output_type": "stream",
          "name": "stdout",
          "text": [
            "<class 'pandas.core.frame.DataFrame'>\n",
            "RangeIndex: 1000 entries, 0 to 999\n",
            "Data columns (total 53 columns):\n",
            " #   Column              Non-Null Count  Dtype  \n",
            "---  ------              --------------  -----  \n",
            " 0   id                  1000 non-null   int64  \n",
            " 1   category            1000 non-null   int64  \n",
            " 2   title               1000 non-null   object \n",
            " 3   body                1000 non-null   object \n",
            " 4   bathrooms           1000 non-null   float64\n",
            " 5   bedrooms            1000 non-null   int64  \n",
            " 6   currency            1000 non-null   int64  \n",
            " 7   fee                 1000 non-null   int64  \n",
            " 8   price_type          1000 non-null   int64  \n",
            " 9   square_feet         1000 non-null   int64  \n",
            " 10  address             644 non-null    object \n",
            " 11  cityname            1000 non-null   object \n",
            " 12  state               1000 non-null   object \n",
            " 13  latitude            1000 non-null   float64\n",
            " 14  longitude           1000 non-null   float64\n",
            " 15  time                1000 non-null   int64  \n",
            " 16  No                  1000 non-null   int64  \n",
            " 17  Thumbnail           1000 non-null   int64  \n",
            " 18  Yes                 1000 non-null   int64  \n",
            " 19  Other               1000 non-null   int64  \n",
            " 20  RentDigs.com        1000 non-null   int64  \n",
            " 21  RentLingo           1000 non-null   int64  \n",
            " 22  Cats                1000 non-null   int64  \n",
            " 23  Dogs                1000 non-null   int64  \n",
            " 24  none                1000 non-null   int64  \n",
            " 25  AC                  1000 non-null   int64  \n",
            " 26  Alarm               1000 non-null   int64  \n",
            " 27  Basketball          1000 non-null   int64  \n",
            " 28  Cable or Satellite  1000 non-null   int64  \n",
            " 29  Clubhouse           1000 non-null   int64  \n",
            " 30  Dishwasher          1000 non-null   int64  \n",
            " 31  Doorman             1000 non-null   int64  \n",
            " 32  Elevator            1000 non-null   int64  \n",
            " 33  Fireplace           1000 non-null   int64  \n",
            " 34  Garbage Disposal    1000 non-null   int64  \n",
            " 35  Gated               1000 non-null   int64  \n",
            " 36  Golf                1000 non-null   int64  \n",
            " 37  Gym                 1000 non-null   int64  \n",
            " 38  Hot Tub             1000 non-null   int64  \n",
            " 39  Internet Access     1000 non-null   int64  \n",
            " 40  Luxury              1000 non-null   int64  \n",
            " 41  Parking             1000 non-null   int64  \n",
            " 42  Patio/Deck          1000 non-null   int64  \n",
            " 43  Playground          1000 non-null   int64  \n",
            " 44  Pool                1000 non-null   int64  \n",
            " 45  Refrigerator        1000 non-null   int64  \n",
            " 46  Storage             1000 non-null   int64  \n",
            " 47  TV                  1000 non-null   int64  \n",
            " 48  Tennis              1000 non-null   int64  \n",
            " 49  View                1000 non-null   int64  \n",
            " 50  Washer Dryer        1000 non-null   int64  \n",
            " 51  Wood Floors         1000 non-null   int64  \n",
            " 52  none                1000 non-null   int64  \n",
            "dtypes: float64(3), int64(45), object(5)\n",
            "memory usage: 414.2+ KB\n",
            "None\n"
          ]
        }
      ]
    },
    {
      "cell_type": "code",
      "source": [
        "X_test.reset_index(drop=True, inplace=True)\n",
        "y_test.reset_index(drop=True, inplace=True)\n",
        "\n",
        "columns_to_target_encode = ['state', 'cityname', 'body', 'title', 'address']\n",
        "encoded_data = pickled_cat_encoder.transform(X_test[columns_to_target_encode])\n",
        "X_test[columns_to_target_encode] = encoded_data"
      ],
      "metadata": {
        "id": "pS6iWt7ZricU"
      },
      "execution_count": null,
      "outputs": []
    },
    {
      "cell_type": "code",
      "source": [
        "X_test.info()"
      ],
      "metadata": {
        "colab": {
          "base_uri": "https://localhost:8080/"
        },
        "id": "WZ_JVdPX3WPK",
        "outputId": "9edf9416-7a38-44a1-d301-ffe1aee7860a"
      },
      "execution_count": null,
      "outputs": [
        {
          "output_type": "stream",
          "name": "stdout",
          "text": [
            "<class 'pandas.core.frame.DataFrame'>\n",
            "RangeIndex: 1000 entries, 0 to 999\n",
            "Data columns (total 53 columns):\n",
            " #   Column              Non-Null Count  Dtype  \n",
            "---  ------              --------------  -----  \n",
            " 0   id                  1000 non-null   int64  \n",
            " 1   category            1000 non-null   int64  \n",
            " 2   title               1000 non-null   float64\n",
            " 3   body                1000 non-null   float64\n",
            " 4   bathrooms           1000 non-null   float64\n",
            " 5   bedrooms            1000 non-null   int64  \n",
            " 6   currency            1000 non-null   int64  \n",
            " 7   fee                 1000 non-null   int64  \n",
            " 8   price_type          1000 non-null   int64  \n",
            " 9   square_feet         1000 non-null   int64  \n",
            " 10  address             1000 non-null   float64\n",
            " 11  cityname            1000 non-null   float64\n",
            " 12  state               1000 non-null   float64\n",
            " 13  latitude            1000 non-null   float64\n",
            " 14  longitude           1000 non-null   float64\n",
            " 15  time                1000 non-null   int64  \n",
            " 16  No                  1000 non-null   int64  \n",
            " 17  Thumbnail           1000 non-null   int64  \n",
            " 18  Yes                 1000 non-null   int64  \n",
            " 19  Other               1000 non-null   int64  \n",
            " 20  RentDigs.com        1000 non-null   int64  \n",
            " 21  RentLingo           1000 non-null   int64  \n",
            " 22  Cats                1000 non-null   int64  \n",
            " 23  Dogs                1000 non-null   int64  \n",
            " 24  none                1000 non-null   int64  \n",
            " 25  AC                  1000 non-null   int64  \n",
            " 26  Alarm               1000 non-null   int64  \n",
            " 27  Basketball          1000 non-null   int64  \n",
            " 28  Cable or Satellite  1000 non-null   int64  \n",
            " 29  Clubhouse           1000 non-null   int64  \n",
            " 30  Dishwasher          1000 non-null   int64  \n",
            " 31  Doorman             1000 non-null   int64  \n",
            " 32  Elevator            1000 non-null   int64  \n",
            " 33  Fireplace           1000 non-null   int64  \n",
            " 34  Garbage Disposal    1000 non-null   int64  \n",
            " 35  Gated               1000 non-null   int64  \n",
            " 36  Golf                1000 non-null   int64  \n",
            " 37  Gym                 1000 non-null   int64  \n",
            " 38  Hot Tub             1000 non-null   int64  \n",
            " 39  Internet Access     1000 non-null   int64  \n",
            " 40  Luxury              1000 non-null   int64  \n",
            " 41  Parking             1000 non-null   int64  \n",
            " 42  Patio/Deck          1000 non-null   int64  \n",
            " 43  Playground          1000 non-null   int64  \n",
            " 44  Pool                1000 non-null   int64  \n",
            " 45  Refrigerator        1000 non-null   int64  \n",
            " 46  Storage             1000 non-null   int64  \n",
            " 47  TV                  1000 non-null   int64  \n",
            " 48  Tennis              1000 non-null   int64  \n",
            " 49  View                1000 non-null   int64  \n",
            " 50  Washer Dryer        1000 non-null   int64  \n",
            " 51  Wood Floors         1000 non-null   int64  \n",
            " 52  none                1000 non-null   int64  \n",
            "dtypes: float64(8), int64(45)\n",
            "memory usage: 414.2 KB\n"
          ]
        }
      ]
    },
    {
      "cell_type": "code",
      "source": [
        "y_test.info()"
      ],
      "metadata": {
        "colab": {
          "base_uri": "https://localhost:8080/"
        },
        "id": "ldQMZc9-v3DZ",
        "outputId": "aa928015-9b04-417c-f2e7-96e43e2abcd3"
      },
      "execution_count": null,
      "outputs": [
        {
          "output_type": "stream",
          "name": "stdout",
          "text": [
            "<class 'pandas.core.series.Series'>\n",
            "RangeIndex: 1000 entries, 0 to 999\n",
            "Series name: price_display\n",
            "Non-Null Count  Dtype\n",
            "--------------  -----\n",
            "1000 non-null   int64\n",
            "dtypes: int64(1)\n",
            "memory usage: 7.9 KB\n"
          ]
        }
      ]
    },
    {
      "cell_type": "code",
      "source": [
        "#X_test = pickled_selector_corr(X_test, y_test_df)"
      ],
      "metadata": {
        "id": "3UqjZ8kprkSL"
      },
      "execution_count": null,
      "outputs": []
    },
    {
      "cell_type": "code",
      "source": [
        "X_test = X_test[pickled_selector_corr]"
      ],
      "metadata": {
        "id": "I4SQE4G0ylxz"
      },
      "execution_count": null,
      "outputs": []
    },
    {
      "cell_type": "code",
      "source": [
        "X_test.info()"
      ],
      "metadata": {
        "colab": {
          "base_uri": "https://localhost:8080/"
        },
        "id": "IIILBiGg3e1L",
        "outputId": "bf455b7e-c835-4d99-ae19-efe5e422be0c"
      },
      "execution_count": null,
      "outputs": [
        {
          "output_type": "stream",
          "name": "stdout",
          "text": [
            "<class 'pandas.core.frame.DataFrame'>\n",
            "RangeIndex: 1000 entries, 0 to 999\n",
            "Data columns (total 4 columns):\n",
            " #   Column       Non-Null Count  Dtype  \n",
            "---  ------       --------------  -----  \n",
            " 0   bathrooms    1000 non-null   float64\n",
            " 1   bedrooms     1000 non-null   int64  \n",
            " 2   square_feet  1000 non-null   int64  \n",
            " 3   longitude    1000 non-null   float64\n",
            "dtypes: float64(2), int64(2)\n",
            "memory usage: 31.4 KB\n"
          ]
        }
      ]
    },
    {
      "cell_type": "code",
      "source": [
        "pickled_scaler.transform(X_test)\n",
        "X_scaled = pickled_scaler.transform(X_test)\n",
        "X_test = pd.DataFrame(X_scaled, columns=X_test.columns)"
      ],
      "metadata": {
        "id": "USqDTvXhsfbL"
      },
      "execution_count": null,
      "outputs": []
    },
    {
      "cell_type": "code",
      "source": [
        "X_test.info()"
      ],
      "metadata": {
        "colab": {
          "base_uri": "https://localhost:8080/"
        },
        "id": "5smXGbfT3h-B",
        "outputId": "791207f1-6636-4c68-dd18-9a8830c3eab3"
      },
      "execution_count": null,
      "outputs": [
        {
          "output_type": "stream",
          "name": "stdout",
          "text": [
            "<class 'pandas.core.frame.DataFrame'>\n",
            "RangeIndex: 1000 entries, 0 to 999\n",
            "Data columns (total 4 columns):\n",
            " #   Column       Non-Null Count  Dtype  \n",
            "---  ------       --------------  -----  \n",
            " 0   bathrooms    1000 non-null   float64\n",
            " 1   bedrooms     1000 non-null   float64\n",
            " 2   square_feet  1000 non-null   float64\n",
            " 3   longitude    1000 non-null   float64\n",
            "dtypes: float64(4)\n",
            "memory usage: 31.4 KB\n"
          ]
        }
      ]
    },
    {
      "cell_type": "code",
      "source": [
        "y_test.info()"
      ],
      "metadata": {
        "colab": {
          "base_uri": "https://localhost:8080/"
        },
        "id": "N2fVIweM0gIM",
        "outputId": "23f88e55-4193-497c-9131-d4ffcf130f20"
      },
      "execution_count": null,
      "outputs": [
        {
          "output_type": "stream",
          "name": "stdout",
          "text": [
            "<class 'pandas.core.series.Series'>\n",
            "RangeIndex: 1000 entries, 0 to 999\n",
            "Series name: price_display\n",
            "Non-Null Count  Dtype\n",
            "--------------  -----\n",
            "1000 non-null   int64\n",
            "dtypes: int64(1)\n",
            "memory usage: 7.9 KB\n"
          ]
        }
      ]
    },
    {
      "cell_type": "code",
      "source": [
        "X_test.info()"
      ],
      "metadata": {
        "colab": {
          "base_uri": "https://localhost:8080/"
        },
        "id": "6JCV1M590iyn",
        "outputId": "c7024590-29d0-4c18-aebe-8311dcba110a"
      },
      "execution_count": null,
      "outputs": [
        {
          "output_type": "stream",
          "name": "stdout",
          "text": [
            "<class 'pandas.core.frame.DataFrame'>\n",
            "RangeIndex: 1000 entries, 0 to 999\n",
            "Data columns (total 4 columns):\n",
            " #   Column       Non-Null Count  Dtype  \n",
            "---  ------       --------------  -----  \n",
            " 0   bathrooms    1000 non-null   float64\n",
            " 1   bedrooms     1000 non-null   float64\n",
            " 2   square_feet  1000 non-null   float64\n",
            " 3   longitude    1000 non-null   float64\n",
            "dtypes: float64(4)\n",
            "memory usage: 31.4 KB\n"
          ]
        }
      ]
    },
    {
      "cell_type": "code",
      "source": [
        "y_test.head()"
      ],
      "metadata": {
        "colab": {
          "base_uri": "https://localhost:8080/"
        },
        "id": "MfpeiaydJ8pC",
        "outputId": "593dbd25-d547-4103-da30-1fac3c73de31"
      },
      "execution_count": null,
      "outputs": [
        {
          "output_type": "execute_result",
          "data": {
            "text/plain": [
              "0     965\n",
              "1    1875\n",
              "2     985\n",
              "3     719\n",
              "4    2250\n",
              "Name: price_display, dtype: int64"
            ]
          },
          "metadata": {},
          "execution_count": 110
        }
      ]
    },
    {
      "cell_type": "code",
      "source": [
        "y_pred = pickled_multi_model.predict(X_test)\n",
        "print('MSE multi linear: ', metrics.mean_squared_error(y_test, y_pred))\n",
        "r2 = r2_score(y_test, y_pred)\n",
        "acc = r2 * 100\n",
        "print(\"Multi Linear Regression Model Accuracy:\", acc)\n",
        "\n",
        "X_test_poly = pickled_poly_features.transform(X_test)\n",
        "y_pred = pickled_poly_model.predict(X_test_poly)\n",
        "print('MSE Polynomial: ', metrics.mean_squared_error(y_test, y_pred))\n",
        "r2 = r2_score(y_test, y_pred)\n",
        "acc = r2 * 100\n",
        "print(\"Polynomial Regression Accuracy:\", acc)\n",
        "\n",
        "\n",
        "y_pred = pickled_regressor.predict(X_test)\n",
        "mse = metrics.mean_squared_error(y_test, y_pred)\n",
        "print(f'MSE Random Forest: {mse}')\n",
        "r2 = r2_score(y_test, y_pred)*100\n",
        "print(f'Random Forest Model Accuracy: {r2}')\n",
        "\n",
        "\n",
        "\n",
        "y_pred = pickled_regressor_tree.predict(X_test)\n",
        "print('MSE Decision Tree: ', metrics.mean_squared_error(y_test, y_pred))\n",
        "r2 = r2_score(y_test, y_pred)*100\n",
        "print('Decision Tree Model Accuracy: ', r2)\n",
        "\n",
        "\n",
        "y_pred = pickled_model.predict(X_test)\n",
        "print('MSE GradientBoosting: ', metrics.mean_squared_error(y_test, y_pred))\n",
        "r2 = r2_score(y_test, y_pred)*100\n",
        "print('GradientBoosting Model Accuracy: ', r2)"
      ],
      "metadata": {
        "colab": {
          "base_uri": "https://localhost:8080/"
        },
        "id": "_PVw9SyksgyM",
        "outputId": "f05e2f4f-b59d-4d3b-d7d5-3ac8c79c3b78"
      },
      "execution_count": null,
      "outputs": [
        {
          "output_type": "stream",
          "name": "stdout",
          "text": [
            "MSE multi linear:  3295888.059630887\n",
            "Multi Linear Regression Model Accuracy: -256.7212475755776\n",
            "MSE Polynomial:  351934533.7622196\n",
            "Polynomial Regression Accuracy: -37990.65225432686\n",
            "MSE Random Forest: 1772170.4229093418\n",
            "Random Forest Model Accuracy: -91.80592081381474\n",
            "MSE Decision Tree:  1676551.7227777778\n",
            "Decision Tree Model Accuracy:  -81.45689761115582\n",
            "MSE GradientBoosting:  2764015.4168660855\n",
            "GradientBoosting Model Accuracy:  -199.15549617696132\n"
          ]
        }
      ]
    },
    {
      "cell_type": "markdown",
      "source": [],
      "metadata": {
        "id": "2c_ps1Xucb2x"
      }
    }
  ],
  "metadata": {
    "colab": {
      "provenance": [],
      "include_colab_link": true
    },
    "kernelspec": {
      "display_name": "Python 3",
      "name": "python3"
    },
    "language_info": {
      "name": "python"
    }
  },
  "nbformat": 4,
  "nbformat_minor": 0
}